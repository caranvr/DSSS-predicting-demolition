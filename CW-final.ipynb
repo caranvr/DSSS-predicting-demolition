{
 "cells": [
  {
   "cell_type": "code",
   "execution_count": 1,
   "metadata": {},
   "outputs": [],
   "source": [
    "import pandas as pd\n",
    "import numpy as np\n",
    "import geopandas as gpd\n",
    "from shapely.geometry import Point, MultiPoint\n",
    "from shapely import wkt\n",
    "from scipy.spatial import cKDTree\n",
    "import matplotlib.pyplot as plt\n",
    "import seaborn as sns\n",
    "import contextily as ctx\n",
    "import re\n",
    "\n",
    "from sklearn.preprocessing import StandardScaler\n",
    "from sklearn.decomposition import PCA\n",
    "from sklearn.model_selection import train_test_split\n",
    "from sklearn.ensemble import RandomForestClassifier\n",
    "from sklearn.linear_model import LogisticRegression\n",
    "from sklearn.metrics import confusion_matrix\n",
    "from sklearn.metrics import classification_report\n",
    "from sklearn.metrics import f1_score\n",
    "from sklearn import model_selection\n",
    "from statsmodels.stats.outliers_influence import variance_inflation_factor\n",
    "\n",
    "pd.options.display.float_format = '{:40,.4f}'.format\n",
    "pd.set_option('display.max_columns', None)\n",
    "plt.style.use('ggplot')\n",
    "%matplotlib inline"
   ]
  },
  {
   "cell_type": "markdown",
   "metadata": {},
   "source": [
    "# Predicting building demolition risk in Philadelphia's residential neighbourhoods, 2018-2021\n",
    "## Introduction\n",
    "\n",
    "Increasing demand for urban amenities in Philadelphia has put a growing proportion of the city’s buildings at risk of demolition. Between 2009 and 2019, the number of demolition permits issued to private developers increased by 255%, overtaking the number of City-mandated demolition permits — which target neglected structures — in 2018 (Briggs, 2019). Several of these permits have been issued for historic and cultural landmarks, enabled by Philadelphia’s lack of protection for historic buildings (Blumgart, 2019; Maule, 2019; Saffron, 2021). In addition, private demolitions are concentrated in gentrifying neighbourhoods (Blumgart, 2018), further reducing affordable housing stock and thus increasing the displacement risk of original residents (Charles, 2013). \n",
    "\n",
    "To protect Philadelphia’s historic fabric and affordable housing supply, planners and preservation advocates need to anticipate which buildings are likely to be demolished in the coming years. Using demolition data from 2018-2021, open property data from the City of Philadelphia, and U.S. Census data, this report evaluates the utility of two approaches to predicting building-level demolition risk: principal component logistic regression and random forest classification. The aim of this report is to identify which of these approaches policymakers should take to predict building demolition risk. \n",
    "\n",
    "## Literature review\n",
    "\n",
    "### Approaches to predicting demolition risk\n",
    "\n",
    "Models predicting the demolition risk of individual buildings have been estimated for other cities, all of which take a similar approach (Weber et al., 2006; Dye and McMillen, 2007; Charles, 2012; Dubé et al., 2018). A time frame of study is identified, and then, using the characteristics of buildings and their surrounding neighbourhoods at the start of this period, logistic regression is used to classify whether a building would be demolished within the study period. \n",
    "\n",
    "While the interpretability of logistic regression models lends them explanatory utility, these models cannot fully account for the interactions between independent variables, reducing their predictive power (Reades et al., 2018). This is an especially pertinent limitation for modelling demolition risk, as neighbourhood-level and building-level characteristics tend to interact (Weber et al., 2006). This report thus tests machine-learning classification approaches that can account for these relationships. \n",
    "\n",
    "### Predictors of demolition risk\n",
    "\n",
    "Building demolition in gentrifying neighbourhoods is a response to rent gaps: situations where the value of a property (plus the cost of its demolition) is worth less than the land on which it is located, resulting in an opportunity for redevelopment (Smith, 1979; Munneke, 1996). As such, the demolition risk for individual properties is linked to both characteristics of properties themselves and characteristics of their surrounding neighbourhoods. In studies of residential building demolition, the following property characteristics have been linked to increased demolition risk — all of which decrease property values (Weber et al., 2006; Charles, 2012):\n",
    "- Old building age\n",
    "- Low quality of construction\n",
    "- High parcel area\n",
    "- Low market value\n",
    "\n",
    "The following neighbourhood characteristics are also associated with higher building demolition risk (Dye and McMillen, 2007; Charles, 2012):\n",
    "- Proximity to city centre\n",
    "- Public transport access\n",
    "- Median income (at start of study period, and increase in preceding 10-20 years)\n",
    "- Decrease in the proportions of Black and Hispanic residents (in preceding 10-20 years)\n",
    "\n",
    "All of these variables were included in the models estimated for this report. \n",
    "\n",
    "However, these studies were conducted in other cities, which may have different indicators of redevelopment demand than Philadelphia. Therefore, this report also includes indicators of redevelopment activity in Philadelphia, namely the percentage of White residents and percentage of residents with a Bachelor's degree or higher, as well as the change in each proportion in the preceding 10-20 years (Ding et al., 2016)."
   ]
  },
  {
   "cell_type": "markdown",
   "metadata": {},
   "source": [
    "## Research Question\n",
    "\n",
    "**How can planners predict the demolition risk of individual buildings in Philadelphia?**\n"
   ]
  },
  {
   "cell_type": "markdown",
   "metadata": {},
   "source": [
    "## Presentation of Data\n",
    "### Data collection\n",
    "Given the large number of properties included in the dataset (over 500,000) and the number of features attached to each property (42), executing the code for data collection takes a considerable amount of time. This section therefore omits the full code, instead outlining the data collection process in detail. The code described in this section can be found in a separate notebook on [Github](https://github.com/caranvr/DSSS-predicting-demolition/blob/main/data-collection-code.ipynb).\n",
    "\n",
    "#### Property characteristics\n",
    "\n",
    "The City of Philadelphia's Office of Property Assessments (OPA) maintains a regularly updated, georeferenced database of city properties, which contains building characteristics used to assess property tax rates. Due to the large size of the dataset, this database was accessed through an API call. Based on property characteristics found to predict demolition risk in previous studies, the following (non-identifying) features were selected:\n",
    "- **interior_condition**: a numeric code representing the quality of a property's interior. Properties are rated on a scale of 1 to 7, with 1 corresponding to new construction and 7 corresponding to \"structurally compromised\" (City of Philadelphia, 2021). A value of 0 indicates vacant land. \n",
    "- **exterior_condition**: a numeric code representing the property's external appearance, using the same scale as *interior_condition*. \n",
    "- **total_area**: the total area of the property.\n",
    "- **year_built**: the year the property was built.\n",
    "\n",
    "To match properties to Census tracts and find distances to relevant attractions, the latitude and longitude of each property were requested as well. In addition, **category_code_description** was selected, as Weber et al. (2006) only looked at single-family residential property demolition. Commercial, industrial, or multi-family residential properties may have different predictors of demolition risk. \n",
    "\n",
    "The most comprehensive property dataset is the most recent one. However, for 86.3% of properties with an associated demolition permit, the property assessment on file is from prior to demolition, or the building has not yet been demolished. The remaining properties have been re-assessed since their demolition and are now listed as vacant land. Since the model includes building characteristics, and these features are missing for properties classed as 'Vacant Land', all properties in this category were dropped from the dataset. The remaining properties were matched against the demolition dataset to identify whether or not a demolition permit was attached to them after 2018. \n",
    "\n",
    "A separate OPA dataset was used to find each property's market value in 2018. \n",
    "\n",
    "#### Demolitions\n",
    "\n",
    "The City of Philadelphia's Licenses and Inspections Department maintains a database of all demolition permits in the city issued since 2007. The addresses associated with private demolition permits from 2018-2021 were extracted, as public demolitions are more reflective of structural issues than consumer demand (Weber et al., 2006). A binary field encoding whether an address was associated with a demolition permit was added, with 0 representing the absence of a demolition permit and 1 representing its presence. \n",
    "\n",
    "#### Distance attributes\n",
    "\n",
    "In line with Ding et al. (2016), City Hall was used as a proxy for the city centre. The geopandas library was used to calculate the distance from each property to City Hall. \n",
    "\n",
    "To find the distance from each property to its closest public transport stop, shapefiles of commuter rail, subway, and trolley stops were downloaded and concatenated into one dataframe. This dataframe was then converted into a binary search tree using scipy's cKDTree method, which allowed for quick spatial querying. \n",
    "\n",
    "#### Neighbourhood attributes\n",
    "\n",
    "Due to data availability, neighbourhoods were defined as U.S. Census tracts, which have an average population of 4,000 residents (Weber et al., 2006; Oka and Wong, 2016). The U.S. Census American Community Survey (ACS) 2013-18 5-Year Estimates were used for 2018 demographic variables, while the Longitudinal Tract Database (LTDB) — which matches 2000 Census data to post-2010 Census tract boundaries (Logan et al., 2014) — was used for the same variables in 2000. \n",
    "\n",
    "For comparison to the LTDB variables, ACS columns related to higher education were summed. Properties were then spatially matched to Census tracts."
   ]
  },
  {
   "cell_type": "markdown",
   "metadata": {},
   "source": [
    "### Data cleaning"
   ]
  },
  {
   "cell_type": "code",
   "execution_count": 2,
   "metadata": {},
   "outputs": [],
   "source": [
    "#Load in processed dataset in chunks to save memory\n",
    "chunks = []\n",
    "chunked_df = pd.read_csv('geo_props_final.csv', chunksize=40000)\n",
    "\n",
    "for chunk in chunked_df:\n",
    "    chunks.append(chunk)\n",
    "\n",
    "df = pd.concat(chunks)"
   ]
  },
  {
   "cell_type": "code",
   "execution_count": 3,
   "metadata": {},
   "outputs": [
    {
     "data": {
      "text/html": [
       "<div>\n",
       "<style scoped>\n",
       "    .dataframe tbody tr th:only-of-type {\n",
       "        vertical-align: middle;\n",
       "    }\n",
       "\n",
       "    .dataframe tbody tr th {\n",
       "        vertical-align: top;\n",
       "    }\n",
       "\n",
       "    .dataframe thead th {\n",
       "        text-align: right;\n",
       "    }\n",
       "</style>\n",
       "<table border=\"1\" class=\"dataframe\">\n",
       "  <thead>\n",
       "    <tr style=\"text-align: right;\">\n",
       "      <th></th>\n",
       "      <th>lng</th>\n",
       "      <th>lat</th>\n",
       "      <th>location</th>\n",
       "      <th>category_code_description</th>\n",
       "      <th>interior_condition</th>\n",
       "      <th>exterior_condition</th>\n",
       "      <th>total_area</th>\n",
       "      <th>year_built</th>\n",
       "      <th>demolition</th>\n",
       "      <th>market_value</th>\n",
       "      <th>geometry</th>\n",
       "      <th>dist_city_hall</th>\n",
       "      <th>dist_to_transport</th>\n",
       "      <th>index_right</th>\n",
       "      <th>TRACTCE10</th>\n",
       "      <th>NAME10</th>\n",
       "      <th>B01001_001E</th>\n",
       "      <th>B03002_003E</th>\n",
       "      <th>B03002_004E</th>\n",
       "      <th>B03001_003E</th>\n",
       "      <th>B25003_001E</th>\n",
       "      <th>B25003_002E</th>\n",
       "      <th>B25003_003E</th>\n",
       "      <th>B15002_001E</th>\n",
       "      <th>B19013_001E</th>\n",
       "      <th>COL18</th>\n",
       "      <th>POP00</th>\n",
       "      <th>NHWHT00</th>\n",
       "      <th>NHBLK00</th>\n",
       "      <th>HISP00</th>\n",
       "      <th>HU00</th>\n",
       "      <th>OWN00</th>\n",
       "      <th>RENT00</th>\n",
       "      <th>AG25UP00</th>\n",
       "      <th>COL00</th>\n",
       "      <th>HINC00</th>\n",
       "    </tr>\n",
       "    <tr>\n",
       "      <th>parcel_number</th>\n",
       "      <th></th>\n",
       "      <th></th>\n",
       "      <th></th>\n",
       "      <th></th>\n",
       "      <th></th>\n",
       "      <th></th>\n",
       "      <th></th>\n",
       "      <th></th>\n",
       "      <th></th>\n",
       "      <th></th>\n",
       "      <th></th>\n",
       "      <th></th>\n",
       "      <th></th>\n",
       "      <th></th>\n",
       "      <th></th>\n",
       "      <th></th>\n",
       "      <th></th>\n",
       "      <th></th>\n",
       "      <th></th>\n",
       "      <th></th>\n",
       "      <th></th>\n",
       "      <th></th>\n",
       "      <th></th>\n",
       "      <th></th>\n",
       "      <th></th>\n",
       "      <th></th>\n",
       "      <th></th>\n",
       "      <th></th>\n",
       "      <th></th>\n",
       "      <th></th>\n",
       "      <th></th>\n",
       "      <th></th>\n",
       "      <th></th>\n",
       "      <th></th>\n",
       "      <th></th>\n",
       "      <th></th>\n",
       "    </tr>\n",
       "  </thead>\n",
       "  <tbody>\n",
       "    <tr>\n",
       "      <th>11001660</th>\n",
       "      <td>-75.1485</td>\n",
       "      <td>39.9314</td>\n",
       "      <td>222 WHARTON ST</td>\n",
       "      <td>Single Family</td>\n",
       "      <td>4.0000</td>\n",
       "      <td>4.0000</td>\n",
       "      <td>1,622.7000</td>\n",
       "      <td>1960</td>\n",
       "      <td>0</td>\n",
       "      <td>212,700.0000</td>\n",
       "      <td>POINT (2697955.826447476 228629.0357761488)</td>\n",
       "      <td>1.6460</td>\n",
       "      <td>1.0402</td>\n",
       "      <td>42101002702</td>\n",
       "      <td>2702</td>\n",
       "      <td>27.0200</td>\n",
       "      <td>4590</td>\n",
       "      <td>3859</td>\n",
       "      <td>115</td>\n",
       "      <td>366</td>\n",
       "      <td>1891</td>\n",
       "      <td>1345</td>\n",
       "      <td>546</td>\n",
       "      <td>3700</td>\n",
       "      <td>66,042.0000</td>\n",
       "      <td>1443</td>\n",
       "      <td>3,715.0001</td>\n",
       "      <td>1,958.8888</td>\n",
       "      <td>809.1695</td>\n",
       "      <td>331.3326</td>\n",
       "      <td>1,700.3232</td>\n",
       "      <td>808.1993</td>\n",
       "      <td>635.0137</td>\n",
       "      <td>2,356.6819</td>\n",
       "      <td>317.7494</td>\n",
       "      <td>36,532.2509</td>\n",
       "    </tr>\n",
       "    <tr>\n",
       "      <th>11001670</th>\n",
       "      <td>-75.1486</td>\n",
       "      <td>39.9315</td>\n",
       "      <td>224 WHARTON ST</td>\n",
       "      <td>Single Family</td>\n",
       "      <td>4.0000</td>\n",
       "      <td>4.0000</td>\n",
       "      <td>1,624.5000</td>\n",
       "      <td>1960</td>\n",
       "      <td>0</td>\n",
       "      <td>212,800.0000</td>\n",
       "      <td>POINT (2697937.837638319 228631.0213364959)</td>\n",
       "      <td>1.6439</td>\n",
       "      <td>1.0369</td>\n",
       "      <td>42101002702</td>\n",
       "      <td>2702</td>\n",
       "      <td>27.0200</td>\n",
       "      <td>4590</td>\n",
       "      <td>3859</td>\n",
       "      <td>115</td>\n",
       "      <td>366</td>\n",
       "      <td>1891</td>\n",
       "      <td>1345</td>\n",
       "      <td>546</td>\n",
       "      <td>3700</td>\n",
       "      <td>66,042.0000</td>\n",
       "      <td>1443</td>\n",
       "      <td>3,715.0001</td>\n",
       "      <td>1,958.8888</td>\n",
       "      <td>809.1695</td>\n",
       "      <td>331.3326</td>\n",
       "      <td>1,700.3232</td>\n",
       "      <td>808.1993</td>\n",
       "      <td>635.0137</td>\n",
       "      <td>2,356.6819</td>\n",
       "      <td>317.7494</td>\n",
       "      <td>36,532.2509</td>\n",
       "    </tr>\n",
       "    <tr>\n",
       "      <th>11001680</th>\n",
       "      <td>-75.1487</td>\n",
       "      <td>39.9315</td>\n",
       "      <td>226 WHARTON ST</td>\n",
       "      <td>Single Family</td>\n",
       "      <td>4.0000</td>\n",
       "      <td>4.0000</td>\n",
       "      <td>1,627.2000</td>\n",
       "      <td>1960</td>\n",
       "      <td>0</td>\n",
       "      <td>212,800.0000</td>\n",
       "      <td>POINT (2697919.806834467 228634.3710673039)</td>\n",
       "      <td>1.6417</td>\n",
       "      <td>1.0334</td>\n",
       "      <td>42101002702</td>\n",
       "      <td>2702</td>\n",
       "      <td>27.0200</td>\n",
       "      <td>4590</td>\n",
       "      <td>3859</td>\n",
       "      <td>115</td>\n",
       "      <td>366</td>\n",
       "      <td>1891</td>\n",
       "      <td>1345</td>\n",
       "      <td>546</td>\n",
       "      <td>3700</td>\n",
       "      <td>66,042.0000</td>\n",
       "      <td>1443</td>\n",
       "      <td>3,715.0001</td>\n",
       "      <td>1,958.8888</td>\n",
       "      <td>809.1695</td>\n",
       "      <td>331.3326</td>\n",
       "      <td>1,700.3232</td>\n",
       "      <td>808.1993</td>\n",
       "      <td>635.0137</td>\n",
       "      <td>2,356.6819</td>\n",
       "      <td>317.7494</td>\n",
       "      <td>36,532.2509</td>\n",
       "    </tr>\n",
       "    <tr>\n",
       "      <th>11001690</th>\n",
       "      <td>-75.1487</td>\n",
       "      <td>39.9315</td>\n",
       "      <td>228 WHARTON ST</td>\n",
       "      <td>Single Family</td>\n",
       "      <td>4.0000</td>\n",
       "      <td>4.0000</td>\n",
       "      <td>1,683.9000</td>\n",
       "      <td>1960</td>\n",
       "      <td>0</td>\n",
       "      <td>215,000.0000</td>\n",
       "      <td>POINT (2697902.782262222 228636.389107908)</td>\n",
       "      <td>1.6397</td>\n",
       "      <td>1.0302</td>\n",
       "      <td>42101002702</td>\n",
       "      <td>2702</td>\n",
       "      <td>27.0200</td>\n",
       "      <td>4590</td>\n",
       "      <td>3859</td>\n",
       "      <td>115</td>\n",
       "      <td>366</td>\n",
       "      <td>1891</td>\n",
       "      <td>1345</td>\n",
       "      <td>546</td>\n",
       "      <td>3700</td>\n",
       "      <td>66,042.0000</td>\n",
       "      <td>1443</td>\n",
       "      <td>3,715.0001</td>\n",
       "      <td>1,958.8888</td>\n",
       "      <td>809.1695</td>\n",
       "      <td>331.3326</td>\n",
       "      <td>1,700.3232</td>\n",
       "      <td>808.1993</td>\n",
       "      <td>635.0137</td>\n",
       "      <td>2,356.6819</td>\n",
       "      <td>317.7494</td>\n",
       "      <td>36,532.2509</td>\n",
       "    </tr>\n",
       "    <tr>\n",
       "      <th>11003500</th>\n",
       "      <td>-75.1471</td>\n",
       "      <td>39.9310</td>\n",
       "      <td>108 SEARS ST</td>\n",
       "      <td>Single Family</td>\n",
       "      <td>4.0000</td>\n",
       "      <td>4.0000</td>\n",
       "      <td>426.5600</td>\n",
       "      <td>1920</td>\n",
       "      <td>0</td>\n",
       "      <td>140,800.0000</td>\n",
       "      <td>POINT (2698373.720296731 228474.826438891)</td>\n",
       "      <td>1.7122</td>\n",
       "      <td>1.1244</td>\n",
       "      <td>42101002702</td>\n",
       "      <td>2702</td>\n",
       "      <td>27.0200</td>\n",
       "      <td>4590</td>\n",
       "      <td>3859</td>\n",
       "      <td>115</td>\n",
       "      <td>366</td>\n",
       "      <td>1891</td>\n",
       "      <td>1345</td>\n",
       "      <td>546</td>\n",
       "      <td>3700</td>\n",
       "      <td>66,042.0000</td>\n",
       "      <td>1443</td>\n",
       "      <td>3,715.0001</td>\n",
       "      <td>1,958.8888</td>\n",
       "      <td>809.1695</td>\n",
       "      <td>331.3326</td>\n",
       "      <td>1,700.3232</td>\n",
       "      <td>808.1993</td>\n",
       "      <td>635.0137</td>\n",
       "      <td>2,356.6819</td>\n",
       "      <td>317.7494</td>\n",
       "      <td>36,532.2509</td>\n",
       "    </tr>\n",
       "  </tbody>\n",
       "</table>\n",
       "</div>"
      ],
      "text/plain": [
       "                                                   lng  \\\n",
       "parcel_number                                            \n",
       "11001660                                      -75.1485   \n",
       "11001670                                      -75.1486   \n",
       "11001680                                      -75.1487   \n",
       "11001690                                      -75.1487   \n",
       "11003500                                      -75.1471   \n",
       "\n",
       "                                                   lat        location  \\\n",
       "parcel_number                                                            \n",
       "11001660                                       39.9314  222 WHARTON ST   \n",
       "11001670                                       39.9315  224 WHARTON ST   \n",
       "11001680                                       39.9315  226 WHARTON ST   \n",
       "11001690                                       39.9315  228 WHARTON ST   \n",
       "11003500                                       39.9310    108 SEARS ST   \n",
       "\n",
       "              category_code_description  \\\n",
       "parcel_number                             \n",
       "11001660                  Single Family   \n",
       "11001670                  Single Family   \n",
       "11001680                  Single Family   \n",
       "11001690                  Single Family   \n",
       "11003500                  Single Family   \n",
       "\n",
       "                                    interior_condition  \\\n",
       "parcel_number                                            \n",
       "11001660                                        4.0000   \n",
       "11001670                                        4.0000   \n",
       "11001680                                        4.0000   \n",
       "11001690                                        4.0000   \n",
       "11003500                                        4.0000   \n",
       "\n",
       "                                    exterior_condition  \\\n",
       "parcel_number                                            \n",
       "11001660                                        4.0000   \n",
       "11001670                                        4.0000   \n",
       "11001680                                        4.0000   \n",
       "11001690                                        4.0000   \n",
       "11003500                                        4.0000   \n",
       "\n",
       "                                            total_area  year_built  \\\n",
       "parcel_number                                                        \n",
       "11001660                                    1,622.7000        1960   \n",
       "11001670                                    1,624.5000        1960   \n",
       "11001680                                    1,627.2000        1960   \n",
       "11001690                                    1,683.9000        1960   \n",
       "11003500                                      426.5600        1920   \n",
       "\n",
       "               demolition                             market_value  \\\n",
       "parcel_number                                                        \n",
       "11001660                0                             212,700.0000   \n",
       "11001670                0                             212,800.0000   \n",
       "11001680                0                             212,800.0000   \n",
       "11001690                0                             215,000.0000   \n",
       "11003500                0                             140,800.0000   \n",
       "\n",
       "                                                  geometry  \\\n",
       "parcel_number                                                \n",
       "11001660       POINT (2697955.826447476 228629.0357761488)   \n",
       "11001670       POINT (2697937.837638319 228631.0213364959)   \n",
       "11001680       POINT (2697919.806834467 228634.3710673039)   \n",
       "11001690        POINT (2697902.782262222 228636.389107908)   \n",
       "11003500        POINT (2698373.720296731 228474.826438891)   \n",
       "\n",
       "                                        dist_city_hall  \\\n",
       "parcel_number                                            \n",
       "11001660                                        1.6460   \n",
       "11001670                                        1.6439   \n",
       "11001680                                        1.6417   \n",
       "11001690                                        1.6397   \n",
       "11003500                                        1.7122   \n",
       "\n",
       "                                     dist_to_transport  index_right  \\\n",
       "parcel_number                                                         \n",
       "11001660                                        1.0402  42101002702   \n",
       "11001670                                        1.0369  42101002702   \n",
       "11001680                                        1.0334  42101002702   \n",
       "11001690                                        1.0302  42101002702   \n",
       "11003500                                        1.1244  42101002702   \n",
       "\n",
       "               TRACTCE10                                   NAME10  \\\n",
       "parcel_number                                                       \n",
       "11001660            2702                                  27.0200   \n",
       "11001670            2702                                  27.0200   \n",
       "11001680            2702                                  27.0200   \n",
       "11001690            2702                                  27.0200   \n",
       "11003500            2702                                  27.0200   \n",
       "\n",
       "               B01001_001E  B03002_003E  B03002_004E  B03001_003E  \\\n",
       "parcel_number                                                       \n",
       "11001660              4590         3859          115          366   \n",
       "11001670              4590         3859          115          366   \n",
       "11001680              4590         3859          115          366   \n",
       "11001690              4590         3859          115          366   \n",
       "11003500              4590         3859          115          366   \n",
       "\n",
       "               B25003_001E  B25003_002E  B25003_003E  B15002_001E  \\\n",
       "parcel_number                                                       \n",
       "11001660              1891         1345          546         3700   \n",
       "11001670              1891         1345          546         3700   \n",
       "11001680              1891         1345          546         3700   \n",
       "11001690              1891         1345          546         3700   \n",
       "11003500              1891         1345          546         3700   \n",
       "\n",
       "                                           B19013_001E  COL18  \\\n",
       "parcel_number                                                   \n",
       "11001660                                   66,042.0000   1443   \n",
       "11001670                                   66,042.0000   1443   \n",
       "11001680                                   66,042.0000   1443   \n",
       "11001690                                   66,042.0000   1443   \n",
       "11003500                                   66,042.0000   1443   \n",
       "\n",
       "                                                 POP00  \\\n",
       "parcel_number                                            \n",
       "11001660                                    3,715.0001   \n",
       "11001670                                    3,715.0001   \n",
       "11001680                                    3,715.0001   \n",
       "11001690                                    3,715.0001   \n",
       "11003500                                    3,715.0001   \n",
       "\n",
       "                                               NHWHT00  \\\n",
       "parcel_number                                            \n",
       "11001660                                    1,958.8888   \n",
       "11001670                                    1,958.8888   \n",
       "11001680                                    1,958.8888   \n",
       "11001690                                    1,958.8888   \n",
       "11003500                                    1,958.8888   \n",
       "\n",
       "                                               NHBLK00  \\\n",
       "parcel_number                                            \n",
       "11001660                                      809.1695   \n",
       "11001670                                      809.1695   \n",
       "11001680                                      809.1695   \n",
       "11001690                                      809.1695   \n",
       "11003500                                      809.1695   \n",
       "\n",
       "                                                HISP00  \\\n",
       "parcel_number                                            \n",
       "11001660                                      331.3326   \n",
       "11001670                                      331.3326   \n",
       "11001680                                      331.3326   \n",
       "11001690                                      331.3326   \n",
       "11003500                                      331.3326   \n",
       "\n",
       "                                                  HU00  \\\n",
       "parcel_number                                            \n",
       "11001660                                    1,700.3232   \n",
       "11001670                                    1,700.3232   \n",
       "11001680                                    1,700.3232   \n",
       "11001690                                    1,700.3232   \n",
       "11003500                                    1,700.3232   \n",
       "\n",
       "                                                 OWN00  \\\n",
       "parcel_number                                            \n",
       "11001660                                      808.1993   \n",
       "11001670                                      808.1993   \n",
       "11001680                                      808.1993   \n",
       "11001690                                      808.1993   \n",
       "11003500                                      808.1993   \n",
       "\n",
       "                                                RENT00  \\\n",
       "parcel_number                                            \n",
       "11001660                                      635.0137   \n",
       "11001670                                      635.0137   \n",
       "11001680                                      635.0137   \n",
       "11001690                                      635.0137   \n",
       "11003500                                      635.0137   \n",
       "\n",
       "                                              AG25UP00  \\\n",
       "parcel_number                                            \n",
       "11001660                                    2,356.6819   \n",
       "11001670                                    2,356.6819   \n",
       "11001680                                    2,356.6819   \n",
       "11001690                                    2,356.6819   \n",
       "11003500                                    2,356.6819   \n",
       "\n",
       "                                                 COL00  \\\n",
       "parcel_number                                            \n",
       "11001660                                      317.7494   \n",
       "11001670                                      317.7494   \n",
       "11001680                                      317.7494   \n",
       "11001690                                      317.7494   \n",
       "11003500                                      317.7494   \n",
       "\n",
       "                                                HINC00  \n",
       "parcel_number                                           \n",
       "11001660                                   36,532.2509  \n",
       "11001670                                   36,532.2509  \n",
       "11001680                                   36,532.2509  \n",
       "11001690                                   36,532.2509  \n",
       "11003500                                   36,532.2509  "
      ]
     },
     "execution_count": 3,
     "metadata": {},
     "output_type": "execute_result"
    }
   ],
   "source": [
    "df.set_index('parcel_number', inplace=True)\n",
    "df.head()"
   ]
  },
  {
   "cell_type": "code",
   "execution_count": 4,
   "metadata": {},
   "outputs": [
    {
     "name": "stdout",
     "output_type": "stream",
     "text": [
      "<class 'pandas.core.frame.DataFrame'>\n",
      "Int64Index: 534304 entries, 11001660 to 882150800\n",
      "Data columns (total 36 columns):\n",
      " #   Column                     Non-Null Count   Dtype  \n",
      "---  ------                     --------------   -----  \n",
      " 0   lng                        534304 non-null  float64\n",
      " 1   lat                        534304 non-null  float64\n",
      " 2   location                   534304 non-null  object \n",
      " 3   category_code_description  534304 non-null  object \n",
      " 4   interior_condition         533936 non-null  float64\n",
      " 5   exterior_condition         534253 non-null  float64\n",
      " 6   total_area                 534304 non-null  float64\n",
      " 7   year_built                 534304 non-null  int64  \n",
      " 8   demolition                 534304 non-null  int64  \n",
      " 9   market_value               532712 non-null  float64\n",
      " 10  geometry                   534304 non-null  object \n",
      " 11  dist_city_hall             534304 non-null  float64\n",
      " 12  dist_to_transport          534304 non-null  float64\n",
      " 13  index_right                534304 non-null  int64  \n",
      " 14  TRACTCE10                  534304 non-null  int64  \n",
      " 15  NAME10                     534304 non-null  float64\n",
      " 16  B01001_001E                534304 non-null  int64  \n",
      " 17  B03002_003E                534304 non-null  int64  \n",
      " 18  B03002_004E                534304 non-null  int64  \n",
      " 19  B03001_003E                534304 non-null  int64  \n",
      " 20  B25003_001E                534304 non-null  int64  \n",
      " 21  B25003_002E                534304 non-null  int64  \n",
      " 22  B25003_003E                534304 non-null  int64  \n",
      " 23  B15002_001E                534304 non-null  int64  \n",
      " 24  B19013_001E                534233 non-null  float64\n",
      " 25  COL18                      534304 non-null  int64  \n",
      " 26  POP00                      534304 non-null  float64\n",
      " 27  NHWHT00                    534304 non-null  float64\n",
      " 28  NHBLK00                    534304 non-null  float64\n",
      " 29  HISP00                     534304 non-null  float64\n",
      " 30  HU00                       534304 non-null  float64\n",
      " 31  OWN00                      534304 non-null  float64\n",
      " 32  RENT00                     534304 non-null  float64\n",
      " 33  AG25UP00                   534304 non-null  float64\n",
      " 34  COL00                      534304 non-null  float64\n",
      " 35  HINC00                     534304 non-null  float64\n",
      "dtypes: float64(20), int64(13), object(3)\n",
      "memory usage: 150.8+ MB\n"
     ]
    }
   ],
   "source": [
    "df.info()"
   ]
  },
  {
   "cell_type": "markdown",
   "metadata": {},
   "source": [
    "Columns from the 2013-18 ACS were renamed for easier interpretation."
   ]
  },
  {
   "cell_type": "code",
   "execution_count": 5,
   "metadata": {},
   "outputs": [],
   "source": [
    "df.rename(columns={\n",
    "    'B01001_001E': 'POP18',\n",
    "    'B03002_003E': 'NHWHT18',\n",
    "    'B03002_004E': 'NHBLK18',\n",
    "    'B03001_003E': 'HISP18',\n",
    "    'B25003_001E': 'HU18',\n",
    "    'B25003_002E': 'OWN18',\n",
    "    'B25003_003E': 'RENT18',\n",
    "    'B15002_001E': 'AG25UP18',\n",
    "    'B19013_001E': 'HINC18'\n",
    "}, inplace=True)"
   ]
  },
  {
   "cell_type": "markdown",
   "metadata": {},
   "source": [
    "Columns were then inspected for null values, which are not accepted in the classification methods used for this analysis."
   ]
  },
  {
   "cell_type": "code",
   "execution_count": 6,
   "metadata": {},
   "outputs": [
    {
     "data": {
      "text/html": [
       "<div>\n",
       "<style scoped>\n",
       "    .dataframe tbody tr th:only-of-type {\n",
       "        vertical-align: middle;\n",
       "    }\n",
       "\n",
       "    .dataframe tbody tr th {\n",
       "        vertical-align: top;\n",
       "    }\n",
       "\n",
       "    .dataframe thead th {\n",
       "        text-align: right;\n",
       "    }\n",
       "</style>\n",
       "<table border=\"1\" class=\"dataframe\">\n",
       "  <thead>\n",
       "    <tr style=\"text-align: right;\">\n",
       "      <th></th>\n",
       "      <th>Total</th>\n",
       "      <th>Percent</th>\n",
       "    </tr>\n",
       "  </thead>\n",
       "  <tbody>\n",
       "    <tr>\n",
       "      <th>market_value</th>\n",
       "      <td>1592</td>\n",
       "      <td>0.2980</td>\n",
       "    </tr>\n",
       "    <tr>\n",
       "      <th>interior_condition</th>\n",
       "      <td>368</td>\n",
       "      <td>0.0689</td>\n",
       "    </tr>\n",
       "    <tr>\n",
       "      <th>HINC18</th>\n",
       "      <td>71</td>\n",
       "      <td>0.0133</td>\n",
       "    </tr>\n",
       "    <tr>\n",
       "      <th>exterior_condition</th>\n",
       "      <td>51</td>\n",
       "      <td>0.0095</td>\n",
       "    </tr>\n",
       "    <tr>\n",
       "      <th>HINC00</th>\n",
       "      <td>0</td>\n",
       "      <td>0.0000</td>\n",
       "    </tr>\n",
       "  </tbody>\n",
       "</table>\n",
       "</div>"
      ],
      "text/plain": [
       "                    Total                                  Percent\n",
       "market_value         1592                                   0.2980\n",
       "interior_condition    368                                   0.0689\n",
       "HINC18                 71                                   0.0133\n",
       "exterior_condition     51                                   0.0095\n",
       "HINC00                  0                                   0.0000"
      ]
     },
     "execution_count": 6,
     "metadata": {},
     "output_type": "execute_result"
    }
   ],
   "source": [
    "#Check for columns where most values are null\n",
    "total = df.isnull().sum().sort_values(ascending=False)\n",
    "percent = ((df.isnull().sum()/df.isnull().count())*100).sort_values(ascending=False)\n",
    "missing_data = pd.concat([total, percent], axis=1, keys=['Total', 'Percent'])\n",
    "missing_data[:5]"
   ]
  },
  {
   "cell_type": "markdown",
   "metadata": {},
   "source": [
    "Only four columns have missing data, and the percentage of rows in each column with missing values is small. Missing values could therefore be dropped or imputed without a significant impact on model performance.\n",
    "\n",
    "Given that interior_condition and exterior_condition are ordinal scales, the only option for imputing missing values in these columns is mode imputation. Mode imputation for these features may be inaccurate for individual properties, even if modal values from the same Census tract rather than the whole city were used, as buildings can vary significantly even within neighbourhoods. Thus, properties with missing values for these columns were dropped."
   ]
  },
  {
   "cell_type": "code",
   "execution_count": 7,
   "metadata": {},
   "outputs": [
    {
     "name": "stdout",
     "output_type": "stream",
     "text": [
      "370 properties will be dropped\n"
     ]
    }
   ],
   "source": [
    "missing_bldgs = df.loc[\n",
    "    (df['interior_condition'].isnull()) |\n",
    "    (df['exterior_condition'].isnull())\n",
    "]\n",
    "\n",
    "print(f'{missing_bldgs.shape[0]} properties will be dropped')"
   ]
  },
  {
   "cell_type": "code",
   "execution_count": 8,
   "metadata": {},
   "outputs": [],
   "source": [
    "df.drop(index=missing_bldgs.index, inplace=True)"
   ]
  },
  {
   "cell_type": "markdown",
   "metadata": {},
   "source": [
    "Market value is also a function of property-level characteristics, which would not be taken into consideration during imputation. Properties with missing market values were thus dropped."
   ]
  },
  {
   "cell_type": "code",
   "execution_count": 9,
   "metadata": {},
   "outputs": [
    {
     "name": "stdout",
     "output_type": "stream",
     "text": [
      "1523 properties will be dropped\n"
     ]
    }
   ],
   "source": [
    "missing_values = df.loc[\n",
    "    df['market_value'].isnull()\n",
    "]\n",
    "\n",
    "print(f'{missing_values.shape[0]} properties will be dropped')"
   ]
  },
  {
   "cell_type": "code",
   "execution_count": 10,
   "metadata": {},
   "outputs": [],
   "source": [
    "df.drop(index=missing_values.index, inplace=True)"
   ]
  },
  {
   "cell_type": "markdown",
   "metadata": {},
   "source": [
    "Properties missing a Census tract median income for 2018 were all in one of two Census tracts, meaning that two Census tracts were missing 2013-18 median income data:"
   ]
  },
  {
   "cell_type": "code",
   "execution_count": 11,
   "metadata": {},
   "outputs": [
    {
     "data": {
      "text/html": [
       "<div>\n",
       "<style scoped>\n",
       "    .dataframe tbody tr th:only-of-type {\n",
       "        vertical-align: middle;\n",
       "    }\n",
       "\n",
       "    .dataframe tbody tr th {\n",
       "        vertical-align: top;\n",
       "    }\n",
       "\n",
       "    .dataframe thead th {\n",
       "        text-align: right;\n",
       "    }\n",
       "</style>\n",
       "<table border=\"1\" class=\"dataframe\">\n",
       "  <thead>\n",
       "    <tr style=\"text-align: right;\">\n",
       "      <th></th>\n",
       "      <th>Missing values</th>\n",
       "    </tr>\n",
       "    <tr>\n",
       "      <th>TRACTCE10</th>\n",
       "      <th></th>\n",
       "    </tr>\n",
       "  </thead>\n",
       "  <tbody>\n",
       "    <tr>\n",
       "      <th>989100</th>\n",
       "      <td>39</td>\n",
       "    </tr>\n",
       "    <tr>\n",
       "      <th>980100</th>\n",
       "      <td>32</td>\n",
       "    </tr>\n",
       "  </tbody>\n",
       "</table>\n",
       "</div>"
      ],
      "text/plain": [
       "           Missing values\n",
       "TRACTCE10                \n",
       "989100                 39\n",
       "980100                 32"
      ]
     },
     "execution_count": 11,
     "metadata": {},
     "output_type": "execute_result"
    }
   ],
   "source": [
    "pd.DataFrame(df.loc[\n",
    "    df['HINC18'].isnull()\n",
    "].groupby('TRACTCE10').size().sort_values(ascending=False)).rename(columns={0: 'Missing values'})"
   ]
  },
  {
   "cell_type": "markdown",
   "metadata": {},
   "source": [
    "Given that only 71 properties were affected and in two Census tracts, missing values were imputed with the median income in Philadelphia. "
   ]
  },
  {
   "cell_type": "code",
   "execution_count": 12,
   "metadata": {},
   "outputs": [],
   "source": [
    "df['HINC18'] = df['HINC18'].fillna(df['HINC18'].median())"
   ]
  },
  {
   "cell_type": "markdown",
   "metadata": {},
   "source": [
    "The dataset was then checked for invalid values in the 'year_built' column. Properties with a value of 0 in this column were dropped.    "
   ]
  },
  {
   "cell_type": "code",
   "execution_count": 13,
   "metadata": {},
   "outputs": [
    {
     "name": "stdout",
     "output_type": "stream",
     "text": [
      "1731 properties will be dropped\n"
     ]
    }
   ],
   "source": [
    "missing_years = df.loc[\n",
    "    df['year_built'] == 0\n",
    "]\n",
    "\n",
    "print(f'{missing_years.shape[0]} properties will be dropped')"
   ]
  },
  {
   "cell_type": "code",
   "execution_count": 14,
   "metadata": {},
   "outputs": [],
   "source": [
    "df.drop(index=missing_years.index, inplace=True)"
   ]
  },
  {
   "cell_type": "markdown",
   "metadata": {},
   "source": [
    "Lastly, columns that represent total populations and housing units for Census tracts were checked for zeroes, as counts of population grorups and housing unit types were later converted to percentages. Total counts of zero would result in null values, so properties in these Census tracts had to be dropped. "
   ]
  },
  {
   "cell_type": "code",
   "execution_count": 15,
   "metadata": {},
   "outputs": [
    {
     "name": "stdout",
     "output_type": "stream",
     "text": [
      "38 properties will be dropped\n"
     ]
    }
   ],
   "source": [
    "zero_totals = df.loc[\n",
    "    (df['HU00'] == 0) |\n",
    "    (df['HU18'] == 0) |\n",
    "    (df['POP00'] == 0) |\n",
    "    (df['POP18'] == 0)\n",
    "]\n",
    "\n",
    "print(f'{zero_totals.shape[0]} properties will be dropped')"
   ]
  },
  {
   "cell_type": "code",
   "execution_count": 16,
   "metadata": {},
   "outputs": [],
   "source": [
    "df.drop(index=zero_totals.index, inplace=True)"
   ]
  },
  {
   "cell_type": "code",
   "execution_count": 17,
   "metadata": {},
   "outputs": [
    {
     "data": {
      "text/plain": [
       "(530642, 36)"
      ]
     },
     "execution_count": 17,
     "metadata": {},
     "output_type": "execute_result"
    }
   ],
   "source": [
    "df.shape"
   ]
  },
  {
   "cell_type": "markdown",
   "metadata": {},
   "source": [
    "#### Feature transformation\n",
    "\n",
    "For comparability between Census tracts, raw counts of residents or households in each demographic group were converted to percentages of a total, either of residents or housing units. (In line with U.S. Census practices, the number of residents with a Bachelor's degree or above was calculated as the proportion of residents _over 25_ with a Bachelor's degree or above.) "
   ]
  },
  {
   "cell_type": "code",
   "execution_count": 18,
   "metadata": {},
   "outputs": [],
   "source": [
    "#Convert selected features to percentages\n",
    "def convert_to_pc(df, cols, denominator):\n",
    "    for c in cols:\n",
    "        df[c] = (df[c]/df[denominator])*100\n",
    "    return df\n",
    "\n",
    "pc_cols = {\n",
    "    'POP00': ['NHWHT00', 'NHBLK00', 'HISP00'], #key is denominator, value is list of columns to divide by denominator\n",
    "    'HU00': ['OWN00', 'RENT00'],\n",
    "    'AG25UP00': ['COL00'],\n",
    "    'POP18': ['NHWHT18', 'NHBLK18', 'HISP18'],\n",
    "    'HU18': ['OWN18', 'RENT18'],\n",
    "    'AG25UP18': ['COL18']\n",
    "}\n",
    "\n",
    "for k,v in pc_cols.items():\n",
    "    df = convert_to_pc(df,v,k)"
   ]
  },
  {
   "cell_type": "markdown",
   "metadata": {},
   "source": [
    "To measure change in neighbourhood characteristics, columns corresponding to 2000 were converted to the percentage point difference (for percentage columns) or percentage change (for total columns) in tract values from 2000 to 2018."
   ]
  },
  {
   "cell_type": "code",
   "execution_count": 19,
   "metadata": {},
   "outputs": [],
   "source": [
    "#Convert 2000 columns to percentage change from 2000-2018\n",
    "\n",
    "#Lookup for fields encoding percentage point difference from 2000 to 2018\n",
    "pc_diff = {\n",
    "    'NHWHT18': 'NHWHT00',\n",
    "    'NHBLK18': 'NHBLK00',\n",
    "    'HISP18': 'HISP00',\n",
    "    'OWN18': 'OWN00',\n",
    "    'RENT18': 'RENT00',\n",
    "    'COL18': 'COL00'\n",
    "}\n",
    "\n",
    "#Lookup for fields encoding percentage point change from 2000 to 2018 (counts)\n",
    "pc_change = {\n",
    "    'POP18': 'POP00', #total population\n",
    "    'HU18': 'HU00', #total housing units\n",
    "    'AG25UP18': 'AG25UP00', #25+ population\n",
    "    'HINC18': 'HINC00' #median household income\n",
    "}\n",
    "\n",
    "#Replace 2000 columns with the percentage change or difference from 2000 to 2018\n",
    "for k,v in pc_diff.items():\n",
    "    df[v] = df[k] - df[v]\n",
    "\n",
    "for k,v in pc_change.items():\n",
    "    df[v] = ((df[k] - df[v])/df[v])*100"
   ]
  },
  {
   "cell_type": "markdown",
   "metadata": {},
   "source": [
    "For interpretability purposes, the 'year_built' column was converted so that it would represent the age of a building in 2018."
   ]
  },
  {
   "cell_type": "code",
   "execution_count": 20,
   "metadata": {},
   "outputs": [],
   "source": [
    "df['year_built'] = 2018 - df['year_built']"
   ]
  },
  {
   "cell_type": "markdown",
   "metadata": {},
   "source": [
    "Multicollinearity may be especially strong between features encoding interior and exterior condition ratings, considering that both measure overall building maintenance. Therefore, a single measure encoding the sum of interior and exterior condition ratings was created. This variable takes values from 2 to 14, with 2 encoding new construction and 14 representing structural compromise. "
   ]
  },
  {
   "cell_type": "code",
   "execution_count": 21,
   "metadata": {},
   "outputs": [],
   "source": [
    "df['building_condition'] = df['interior_condition'] + df['exterior_condition']"
   ]
  },
  {
   "cell_type": "code",
   "execution_count": 22,
   "metadata": {},
   "outputs": [],
   "source": [
    "df.drop(columns=['interior_condition', 'exterior_condition'], inplace=True)"
   ]
  },
  {
   "cell_type": "markdown",
   "metadata": {},
   "source": [
    "The 'building_condition' column and the 'category_code_description' column were converted to category data types, and then to dummy variables."
   ]
  },
  {
   "cell_type": "code",
   "execution_count": 23,
   "metadata": {},
   "outputs": [],
   "source": [
    "cat_cols = ['category_code_description', 'building_condition']\n",
    "\n",
    "for c in cat_cols:\n",
    "    if c == 'category_code_description':\n",
    "        df[c] = df[c].astype('category')\n",
    "    else:\n",
    "        df[c] = df[c].astype(pd.UInt16Dtype()).astype('category')"
   ]
  },
  {
   "cell_type": "code",
   "execution_count": 24,
   "metadata": {},
   "outputs": [],
   "source": [
    "id_cols = ['lng', 'lat', 'geometry', 'location', 'index_right', 'TRACTCE10', 'NAME10']\n",
    "var_cols = [c for c in df.columns.values if c not in id_cols]\n",
    "\n",
    "df_var = df[var_cols].copy()\n",
    "df_var = pd.get_dummies(df_var)"
   ]
  },
  {
   "cell_type": "markdown",
   "metadata": {},
   "source": [
    "### Exploratory data analysis\n",
    "\n",
    "#### Class balance"
   ]
  },
  {
   "cell_type": "markdown",
   "metadata": {},
   "source": [
    "\n",
    "To determine which classification approach would be appropriate, the class balance of the dataset — the proportion of properties with an associated demolition permit — was examined."
   ]
  },
  {
   "cell_type": "code",
   "execution_count": 25,
   "metadata": {},
   "outputs": [
    {
     "data": {
      "text/html": [
       "<div>\n",
       "<style scoped>\n",
       "    .dataframe tbody tr th:only-of-type {\n",
       "        vertical-align: middle;\n",
       "    }\n",
       "\n",
       "    .dataframe tbody tr th {\n",
       "        vertical-align: top;\n",
       "    }\n",
       "\n",
       "    .dataframe thead th {\n",
       "        text-align: right;\n",
       "    }\n",
       "</style>\n",
       "<table border=\"1\" class=\"dataframe\">\n",
       "  <thead>\n",
       "    <tr style=\"text-align: right;\">\n",
       "      <th></th>\n",
       "      <th>Properties</th>\n",
       "    </tr>\n",
       "    <tr>\n",
       "      <th>demolition</th>\n",
       "      <th></th>\n",
       "    </tr>\n",
       "  </thead>\n",
       "  <tbody>\n",
       "    <tr>\n",
       "      <th>0</th>\n",
       "      <td>529786</td>\n",
       "    </tr>\n",
       "    <tr>\n",
       "      <th>1</th>\n",
       "      <td>856</td>\n",
       "    </tr>\n",
       "  </tbody>\n",
       "</table>\n",
       "</div>"
      ],
      "text/plain": [
       "            Properties\n",
       "demolition            \n",
       "0               529786\n",
       "1                  856"
      ]
     },
     "execution_count": 25,
     "metadata": {},
     "output_type": "execute_result"
    }
   ],
   "source": [
    "pd.DataFrame(df_var.groupby('demolition').size()).rename(columns={0:'Properties'})"
   ]
  },
  {
   "cell_type": "markdown",
   "metadata": {},
   "source": [
    "The vast majority (99.84%) of properties in Philadelphia did not have an associated demolition permit from after 2018, a heavy imbalance that would lead to poor classification of demolitions. Common approaches to such an imbalance include undersampling the majority class or oversampling the minority class (Ruiz-Gazen and Villa, 2008). However, artificially balancing the dataset can lead to suboptimal model performance on real-world, class-imbalanceed data. \n",
    "\n",
    "Thus, to balance out the dataset, only properties in Census tracts with high demolition rates were included in the analysis. This way, the algorithm would be trained on neighbourhoods that face higher overall demolition risk — where predictive analytics would be most useful — but the class balance would even out slightly. For simplicity, the upper quartile of demolition counts per tract was calculated, and properties in Census tracts with demolition counts above this cutoff were included."
   ]
  },
  {
   "cell_type": "code",
   "execution_count": 26,
   "metadata": {},
   "outputs": [],
   "source": [
    "#Going back to original df with identifiers\n",
    "df.rename(columns={'index_right': 'census_tract'}, inplace=True)\n",
    "demolitions_by_tract = pd.DataFrame(df.groupby(['census_tract', 'demolition']).size()).rename(columns={0: 'Properties'})"
   ]
  },
  {
   "cell_type": "code",
   "execution_count": 27,
   "metadata": {},
   "outputs": [
    {
     "data": {
      "text/html": [
       "<div>\n",
       "<style scoped>\n",
       "    .dataframe tbody tr th:only-of-type {\n",
       "        vertical-align: middle;\n",
       "    }\n",
       "\n",
       "    .dataframe tbody tr th {\n",
       "        vertical-align: top;\n",
       "    }\n",
       "\n",
       "    .dataframe thead th {\n",
       "        text-align: right;\n",
       "    }\n",
       "</style>\n",
       "<table border=\"1\" class=\"dataframe\">\n",
       "  <thead>\n",
       "    <tr style=\"text-align: right;\">\n",
       "      <th></th>\n",
       "      <th>Demolitions</th>\n",
       "    </tr>\n",
       "  </thead>\n",
       "  <tbody>\n",
       "    <tr>\n",
       "      <th>count</th>\n",
       "      <td>198.0000</td>\n",
       "    </tr>\n",
       "    <tr>\n",
       "      <th>mean</th>\n",
       "      <td>4.3232</td>\n",
       "    </tr>\n",
       "    <tr>\n",
       "      <th>std</th>\n",
       "      <td>5.3256</td>\n",
       "    </tr>\n",
       "    <tr>\n",
       "      <th>min</th>\n",
       "      <td>1.0000</td>\n",
       "    </tr>\n",
       "    <tr>\n",
       "      <th>25%</th>\n",
       "      <td>1.0000</td>\n",
       "    </tr>\n",
       "    <tr>\n",
       "      <th>50%</th>\n",
       "      <td>2.0000</td>\n",
       "    </tr>\n",
       "    <tr>\n",
       "      <th>75%</th>\n",
       "      <td>6.0000</td>\n",
       "    </tr>\n",
       "    <tr>\n",
       "      <th>max</th>\n",
       "      <td>29.0000</td>\n",
       "    </tr>\n",
       "  </tbody>\n",
       "</table>\n",
       "</div>"
      ],
      "text/plain": [
       "                                   Demolitions\n",
       "count                                 198.0000\n",
       "mean                                    4.3232\n",
       "std                                     5.3256\n",
       "min                                     1.0000\n",
       "25%                                     1.0000\n",
       "50%                                     2.0000\n",
       "75%                                     6.0000\n",
       "max                                    29.0000"
      ]
     },
     "execution_count": 27,
     "metadata": {},
     "output_type": "execute_result"
    }
   ],
   "source": [
    "demolitions_by_tract.xs(1, level='demolition').describe().rename(columns={'Properties': 'Demolitions'})"
   ]
  },
  {
   "cell_type": "code",
   "execution_count": 28,
   "metadata": {},
   "outputs": [],
   "source": [
    "#Find tracts with high numbers of demolitions\n",
    "high_dem_tracts = demolitions_by_tract.xs(1, level='demolition').loc[\n",
    "    demolitions_by_tract.xs(1, level='demolition')['Properties'] >= 6\n",
    "].index.values\n",
    "\n",
    "#Isolate df_var to only parcels in high-demolition tracts\n",
    "high_dem_parcels = df.loc[df['census_tract'].isin(high_dem_tracts)].index\n",
    "\n",
    "df_var = df_var.loc[high_dem_parcels]"
   ]
  },
  {
   "cell_type": "code",
   "execution_count": 29,
   "metadata": {},
   "outputs": [
    {
     "data": {
      "text/plain": [
       "(71820, 45)"
      ]
     },
     "execution_count": 29,
     "metadata": {},
     "output_type": "execute_result"
    }
   ],
   "source": [
    "df_var.shape"
   ]
  },
  {
   "cell_type": "code",
   "execution_count": 30,
   "metadata": {},
   "outputs": [
    {
     "data": {
      "text/plain": [
       "demolition\n",
       "0    71233\n",
       "1      587\n",
       "dtype: int64"
      ]
     },
     "execution_count": 30,
     "metadata": {},
     "output_type": "execute_result"
    }
   ],
   "source": [
    "df_var.groupby('demolition').size()"
   ]
  },
  {
   "cell_type": "markdown",
   "metadata": {},
   "source": [
    "A slightly higher proportion of properties in the filtered dataset have associated demolition permits than in the full dataset (0.8% vs. 0.16%). However, the class imbalance is still extreme, and therefore still needs to be accounted for in the classification process.\n",
    "\n",
    "#### Mapping the data\n",
    "\n",
    "Figure 1 shows properties from the filtered dataset with an associated demolition permit, all of which are in Census tracts with high demolition counts relative to other tracts. These tracts are largely bordering the city centre, with some tracts in University City (in West Philadelphia, an area with high redevelopment) and one in the northwest. "
   ]
  },
  {
   "cell_type": "code",
   "execution_count": 31,
   "metadata": {},
   "outputs": [],
   "source": [
    "df['geometry'] = df['geometry'].apply(wkt.loads)"
   ]
  },
  {
   "cell_type": "code",
   "execution_count": 32,
   "metadata": {},
   "outputs": [],
   "source": [
    "gdf = gpd.GeoDataFrame(df.loc[df['census_tract'].isin(high_dem_tracts)], geometry='geometry', crs='epsg:2272')\n",
    "gdf.to_crs('epsg:3857', inplace=True)"
   ]
  },
  {
   "cell_type": "code",
   "execution_count": 33,
   "metadata": {},
   "outputs": [
    {
     "data": {
      "text/plain": [
       "Text(0.5, 1.0, 'Figure 1. Demolitions in Philadelphia, 2018-21')"
      ]
     },
     "execution_count": 33,
     "metadata": {},
     "output_type": "execute_result"
    },
    {
     "data": {
      "image/png": "[encoded data removed]",
      "text/plain": [
       "<Figure size 720x504 with 1 Axes>"
      ]
     },
     "metadata": {
      "needs_background": "light"
     },
     "output_type": "display_data"
    }
   ],
   "source": [
    "fig, ax = plt.subplots(1,1, figsize=(10,7))\n",
    "gdf[gdf['demolition']==1].plot(ax=ax, markersize=8)\n",
    "ctx.add_basemap(ax, source=ctx.providers.CartoDB.Positron)\n",
    "ax.set_axis_off()\n",
    "ax.set_title('Figure 1. Demolitions in Philadelphia, 2018-21', fontdict={'fontsize': 14, 'fontweight': 'bold'}, pad=13)"
   ]
  },
  {
   "cell_type": "markdown",
   "metadata": {},
   "source": [
    "#### Summary statistics\n",
    "\n"
   ]
  },
  {
   "cell_type": "code",
   "execution_count": 34,
   "metadata": {},
   "outputs": [
    {
     "data": {
      "text/html": [
       "<div>\n",
       "<style scoped>\n",
       "    .dataframe tbody tr th:only-of-type {\n",
       "        vertical-align: middle;\n",
       "    }\n",
       "\n",
       "    .dataframe tbody tr th {\n",
       "        vertical-align: top;\n",
       "    }\n",
       "\n",
       "    .dataframe thead th {\n",
       "        text-align: right;\n",
       "    }\n",
       "</style>\n",
       "<table border=\"1\" class=\"dataframe\">\n",
       "  <thead>\n",
       "    <tr style=\"text-align: right;\">\n",
       "      <th></th>\n",
       "      <th>total_area</th>\n",
       "      <th>year_built</th>\n",
       "      <th>market_value</th>\n",
       "      <th>dist_city_hall</th>\n",
       "      <th>dist_to_transport</th>\n",
       "      <th>POP18</th>\n",
       "      <th>NHWHT18</th>\n",
       "      <th>NHBLK18</th>\n",
       "      <th>HISP18</th>\n",
       "      <th>HU18</th>\n",
       "      <th>OWN18</th>\n",
       "      <th>RENT18</th>\n",
       "      <th>AG25UP18</th>\n",
       "      <th>HINC18</th>\n",
       "      <th>COL18</th>\n",
       "      <th>POP00</th>\n",
       "      <th>NHWHT00</th>\n",
       "      <th>NHBLK00</th>\n",
       "      <th>HISP00</th>\n",
       "      <th>HU00</th>\n",
       "      <th>OWN00</th>\n",
       "      <th>RENT00</th>\n",
       "      <th>AG25UP00</th>\n",
       "      <th>COL00</th>\n",
       "      <th>HINC00</th>\n",
       "    </tr>\n",
       "  </thead>\n",
       "  <tbody>\n",
       "    <tr>\n",
       "      <th>count</th>\n",
       "      <td>71,820.0000</td>\n",
       "      <td>71,820.0000</td>\n",
       "      <td>71,820.0000</td>\n",
       "      <td>71,820.0000</td>\n",
       "      <td>71,820.0000</td>\n",
       "      <td>71,820.0000</td>\n",
       "      <td>71,820.0000</td>\n",
       "      <td>71,820.0000</td>\n",
       "      <td>71,820.0000</td>\n",
       "      <td>71,820.0000</td>\n",
       "      <td>71,820.0000</td>\n",
       "      <td>71,820.0000</td>\n",
       "      <td>71,820.0000</td>\n",
       "      <td>71,820.0000</td>\n",
       "      <td>71,820.0000</td>\n",
       "      <td>71,820.0000</td>\n",
       "      <td>71,820.0000</td>\n",
       "      <td>71,820.0000</td>\n",
       "      <td>71,820.0000</td>\n",
       "      <td>71,820.0000</td>\n",
       "      <td>71,820.0000</td>\n",
       "      <td>71,820.0000</td>\n",
       "      <td>71,820.0000</td>\n",
       "      <td>71,820.0000</td>\n",
       "      <td>71,820.0000</td>\n",
       "    </tr>\n",
       "    <tr>\n",
       "      <th>mean</th>\n",
       "      <td>2,046.1325</td>\n",
       "      <td>88.6468</td>\n",
       "      <td>258,708.4779</td>\n",
       "      <td>2.0394</td>\n",
       "      <td>0.3789</td>\n",
       "      <td>4,148.8891</td>\n",
       "      <td>39.3663</td>\n",
       "      <td>42.4178</td>\n",
       "      <td>10.2044</td>\n",
       "      <td>1,702.0858</td>\n",
       "      <td>47.2565</td>\n",
       "      <td>52.7435</td>\n",
       "      <td>2,968.9811</td>\n",
       "      <td>51,718.2349</td>\n",
       "      <td>37.2732</td>\n",
       "      <td>8.8800</td>\n",
       "      <td>11.0769</td>\n",
       "      <td>-16.5884</td>\n",
       "      <td>2.1989</td>\n",
       "      <td>-5.9505</td>\n",
       "      <td>4.9898</td>\n",
       "      <td>13.4707</td>\n",
       "      <td>24.1853</td>\n",
       "      <td>23.0329</td>\n",
       "      <td>34.8283</td>\n",
       "    </tr>\n",
       "    <tr>\n",
       "      <th>std</th>\n",
       "      <td>28,028.7235</td>\n",
       "      <td>36.7788</td>\n",
       "      <td>1,949,311.5172</td>\n",
       "      <td>1.1072</td>\n",
       "      <td>0.2541</td>\n",
       "      <td>1,484.5804</td>\n",
       "      <td>27.8211</td>\n",
       "      <td>31.6255</td>\n",
       "      <td>13.0181</td>\n",
       "      <td>635.4765</td>\n",
       "      <td>14.0775</td>\n",
       "      <td>14.0775</td>\n",
       "      <td>1,259.4487</td>\n",
       "      <td>28,500.0138</td>\n",
       "      <td>23.1767</td>\n",
       "      <td>27.0917</td>\n",
       "      <td>15.4437</td>\n",
       "      <td>17.4765</td>\n",
       "      <td>4.8139</td>\n",
       "      <td>24.3152</td>\n",
       "      <td>8.8025</td>\n",
       "      <td>11.5094</td>\n",
       "      <td>35.2277</td>\n",
       "      <td>15.1050</td>\n",
       "      <td>60.5345</td>\n",
       "    </tr>\n",
       "    <tr>\n",
       "      <th>min</th>\n",
       "      <td>0.0000</td>\n",
       "      <td>1.0000</td>\n",
       "      <td>0.0000</td>\n",
       "      <td>0.1253</td>\n",
       "      <td>0.0033</td>\n",
       "      <td>1,207.0000</td>\n",
       "      <td>0.0517</td>\n",
       "      <td>1.2255</td>\n",
       "      <td>0.9053</td>\n",
       "      <td>562.0000</td>\n",
       "      <td>5.0938</td>\n",
       "      <td>31.7152</td>\n",
       "      <td>674.0000</td>\n",
       "      <td>11,497.0000</td>\n",
       "      <td>4.0918</td>\n",
       "      <td>-26.9100</td>\n",
       "      <td>-15.7737</td>\n",
       "      <td>-62.3803</td>\n",
       "      <td>-17.2433</td>\n",
       "      <td>-36.4009</td>\n",
       "      <td>-15.8932</td>\n",
       "      <td>-12.5080</td>\n",
       "      <td>-50.6589</td>\n",
       "      <td>-1.5427</td>\n",
       "      <td>-54.4554</td>\n",
       "    </tr>\n",
       "    <tr>\n",
       "      <th>25%</th>\n",
       "      <td>700.0000</td>\n",
       "      <td>93.0000</td>\n",
       "      <td>61,900.0000</td>\n",
       "      <td>1.3055</td>\n",
       "      <td>0.1749</td>\n",
       "      <td>3,030.0000</td>\n",
       "      <td>9.3182</td>\n",
       "      <td>11.5204</td>\n",
       "      <td>4.3049</td>\n",
       "      <td>1,114.0000</td>\n",
       "      <td>40.2346</td>\n",
       "      <td>41.5121</td>\n",
       "      <td>1,967.0000</td>\n",
       "      <td>25,000.0000</td>\n",
       "      <td>15.5179</td>\n",
       "      <td>-6.3166</td>\n",
       "      <td>0.9237</td>\n",
       "      <td>-27.0037</td>\n",
       "      <td>0.3116</td>\n",
       "      <td>-21.5760</td>\n",
       "      <td>-0.5782</td>\n",
       "      <td>7.7939</td>\n",
       "      <td>3.2859</td>\n",
       "      <td>8.7311</td>\n",
       "      <td>-17.4504</td>\n",
       "    </tr>\n",
       "    <tr>\n",
       "      <th>50%</th>\n",
       "      <td>934.6300</td>\n",
       "      <td>98.0000</td>\n",
       "      <td>121,900.0000</td>\n",
       "      <td>1.8935</td>\n",
       "      <td>0.3213</td>\n",
       "      <td>4,080.0000</td>\n",
       "      <td>34.9919</td>\n",
       "      <td>33.5255</td>\n",
       "      <td>7.0423</td>\n",
       "      <td>1,572.0000</td>\n",
       "      <td>49.2462</td>\n",
       "      <td>50.7538</td>\n",
       "      <td>2,642.0000</td>\n",
       "      <td>42,500.0000</td>\n",
       "      <td>36.1235</td>\n",
       "      <td>1.6745</td>\n",
       "      <td>7.0572</td>\n",
       "      <td>-12.1265</td>\n",
       "      <td>2.4942</td>\n",
       "      <td>-11.8468</td>\n",
       "      <td>3.5361</td>\n",
       "      <td>12.7321</td>\n",
       "      <td>17.0935</td>\n",
       "      <td>26.3929</td>\n",
       "      <td>30.4983</td>\n",
       "    </tr>\n",
       "    <tr>\n",
       "      <th>75%</th>\n",
       "      <td>1,248.0000</td>\n",
       "      <td>103.0000</td>\n",
       "      <td>264,100.0000</td>\n",
       "      <td>2.5155</td>\n",
       "      <td>0.5333</td>\n",
       "      <td>5,026.0000</td>\n",
       "      <td>64.4025</td>\n",
       "      <td>73.0363</td>\n",
       "      <td>9.7665</td>\n",
       "      <td>2,165.0000</td>\n",
       "      <td>58.4879</td>\n",
       "      <td>59.7654</td>\n",
       "      <td>3,741.0000</td>\n",
       "      <td>74,261.0000</td>\n",
       "      <td>58.6508</td>\n",
       "      <td>16.3459</td>\n",
       "      <td>18.1004</td>\n",
       "      <td>-3.8590</td>\n",
       "      <td>4.3513</td>\n",
       "      <td>6.7343</td>\n",
       "      <td>8.9800</td>\n",
       "      <td>20.8779</td>\n",
       "      <td>40.5018</td>\n",
       "      <td>33.1876</td>\n",
       "      <td>57.5796</td>\n",
       "    </tr>\n",
       "    <tr>\n",
       "      <th>max</th>\n",
       "      <td>5,999,724.0000</td>\n",
       "      <td>366.0000</td>\n",
       "      <td>307,640,000.0000</td>\n",
       "      <td>7.4297</td>\n",
       "      <td>1.4446</td>\n",
       "      <td>6,941.0000</td>\n",
       "      <td>89.5827</td>\n",
       "      <td>94.3079</td>\n",
       "      <td>76.5060</td>\n",
       "      <td>2,900.0000</td>\n",
       "      <td>68.2848</td>\n",
       "      <td>94.9062</td>\n",
       "      <td>5,524.0000</td>\n",
       "      <td>111,467.0000</td>\n",
       "      <td>86.0438</td>\n",
       "      <td>106.3105</td>\n",
       "      <td>55.5352</td>\n",
       "      <td>16.2740</td>\n",
       "      <td>12.5337</td>\n",
       "      <td>92.6110</td>\n",
       "      <td>26.3012</td>\n",
       "      <td>51.2294</td>\n",
       "      <td>148.0769</td>\n",
       "      <td>60.3583</td>\n",
       "      <td>195.6825</td>\n",
       "    </tr>\n",
       "  </tbody>\n",
       "</table>\n",
       "</div>"
      ],
      "text/plain": [
       "                                    total_area  \\\n",
       "count                              71,820.0000   \n",
       "mean                                2,046.1325   \n",
       "std                                28,028.7235   \n",
       "min                                     0.0000   \n",
       "25%                                   700.0000   \n",
       "50%                                   934.6300   \n",
       "75%                                 1,248.0000   \n",
       "max                             5,999,724.0000   \n",
       "\n",
       "                                    year_built  \\\n",
       "count                              71,820.0000   \n",
       "mean                                   88.6468   \n",
       "std                                    36.7788   \n",
       "min                                     1.0000   \n",
       "25%                                    93.0000   \n",
       "50%                                    98.0000   \n",
       "75%                                   103.0000   \n",
       "max                                   366.0000   \n",
       "\n",
       "                                  market_value  \\\n",
       "count                              71,820.0000   \n",
       "mean                              258,708.4779   \n",
       "std                             1,949,311.5172   \n",
       "min                                     0.0000   \n",
       "25%                                61,900.0000   \n",
       "50%                               121,900.0000   \n",
       "75%                               264,100.0000   \n",
       "max                           307,640,000.0000   \n",
       "\n",
       "                                dist_city_hall  \\\n",
       "count                              71,820.0000   \n",
       "mean                                    2.0394   \n",
       "std                                     1.1072   \n",
       "min                                     0.1253   \n",
       "25%                                     1.3055   \n",
       "50%                                     1.8935   \n",
       "75%                                     2.5155   \n",
       "max                                     7.4297   \n",
       "\n",
       "                             dist_to_transport  \\\n",
       "count                              71,820.0000   \n",
       "mean                                    0.3789   \n",
       "std                                     0.2541   \n",
       "min                                     0.0033   \n",
       "25%                                     0.1749   \n",
       "50%                                     0.3213   \n",
       "75%                                     0.5333   \n",
       "max                                     1.4446   \n",
       "\n",
       "                                         POP18  \\\n",
       "count                              71,820.0000   \n",
       "mean                                4,148.8891   \n",
       "std                                 1,484.5804   \n",
       "min                                 1,207.0000   \n",
       "25%                                 3,030.0000   \n",
       "50%                                 4,080.0000   \n",
       "75%                                 5,026.0000   \n",
       "max                                 6,941.0000   \n",
       "\n",
       "                                       NHWHT18  \\\n",
       "count                              71,820.0000   \n",
       "mean                                   39.3663   \n",
       "std                                    27.8211   \n",
       "min                                     0.0517   \n",
       "25%                                     9.3182   \n",
       "50%                                    34.9919   \n",
       "75%                                    64.4025   \n",
       "max                                    89.5827   \n",
       "\n",
       "                                       NHBLK18  \\\n",
       "count                              71,820.0000   \n",
       "mean                                   42.4178   \n",
       "std                                    31.6255   \n",
       "min                                     1.2255   \n",
       "25%                                    11.5204   \n",
       "50%                                    33.5255   \n",
       "75%                                    73.0363   \n",
       "max                                    94.3079   \n",
       "\n",
       "                                        HISP18  \\\n",
       "count                              71,820.0000   \n",
       "mean                                   10.2044   \n",
       "std                                    13.0181   \n",
       "min                                     0.9053   \n",
       "25%                                     4.3049   \n",
       "50%                                     7.0423   \n",
       "75%                                     9.7665   \n",
       "max                                    76.5060   \n",
       "\n",
       "                                          HU18  \\\n",
       "count                              71,820.0000   \n",
       "mean                                1,702.0858   \n",
       "std                                   635.4765   \n",
       "min                                   562.0000   \n",
       "25%                                 1,114.0000   \n",
       "50%                                 1,572.0000   \n",
       "75%                                 2,165.0000   \n",
       "max                                 2,900.0000   \n",
       "\n",
       "                                         OWN18  \\\n",
       "count                              71,820.0000   \n",
       "mean                                   47.2565   \n",
       "std                                    14.0775   \n",
       "min                                     5.0938   \n",
       "25%                                    40.2346   \n",
       "50%                                    49.2462   \n",
       "75%                                    58.4879   \n",
       "max                                    68.2848   \n",
       "\n",
       "                                        RENT18  \\\n",
       "count                              71,820.0000   \n",
       "mean                                   52.7435   \n",
       "std                                    14.0775   \n",
       "min                                    31.7152   \n",
       "25%                                    41.5121   \n",
       "50%                                    50.7538   \n",
       "75%                                    59.7654   \n",
       "max                                    94.9062   \n",
       "\n",
       "                                      AG25UP18  \\\n",
       "count                              71,820.0000   \n",
       "mean                                2,968.9811   \n",
       "std                                 1,259.4487   \n",
       "min                                   674.0000   \n",
       "25%                                 1,967.0000   \n",
       "50%                                 2,642.0000   \n",
       "75%                                 3,741.0000   \n",
       "max                                 5,524.0000   \n",
       "\n",
       "                                        HINC18  \\\n",
       "count                              71,820.0000   \n",
       "mean                               51,718.2349   \n",
       "std                                28,500.0138   \n",
       "min                                11,497.0000   \n",
       "25%                                25,000.0000   \n",
       "50%                                42,500.0000   \n",
       "75%                                74,261.0000   \n",
       "max                               111,467.0000   \n",
       "\n",
       "                                         COL18  \\\n",
       "count                              71,820.0000   \n",
       "mean                                   37.2732   \n",
       "std                                    23.1767   \n",
       "min                                     4.0918   \n",
       "25%                                    15.5179   \n",
       "50%                                    36.1235   \n",
       "75%                                    58.6508   \n",
       "max                                    86.0438   \n",
       "\n",
       "                                         POP00  \\\n",
       "count                              71,820.0000   \n",
       "mean                                    8.8800   \n",
       "std                                    27.0917   \n",
       "min                                   -26.9100   \n",
       "25%                                    -6.3166   \n",
       "50%                                     1.6745   \n",
       "75%                                    16.3459   \n",
       "max                                   106.3105   \n",
       "\n",
       "                                       NHWHT00  \\\n",
       "count                              71,820.0000   \n",
       "mean                                   11.0769   \n",
       "std                                    15.4437   \n",
       "min                                   -15.7737   \n",
       "25%                                     0.9237   \n",
       "50%                                     7.0572   \n",
       "75%                                    18.1004   \n",
       "max                                    55.5352   \n",
       "\n",
       "                                       NHBLK00  \\\n",
       "count                              71,820.0000   \n",
       "mean                                  -16.5884   \n",
       "std                                    17.4765   \n",
       "min                                   -62.3803   \n",
       "25%                                   -27.0037   \n",
       "50%                                   -12.1265   \n",
       "75%                                    -3.8590   \n",
       "max                                    16.2740   \n",
       "\n",
       "                                        HISP00  \\\n",
       "count                              71,820.0000   \n",
       "mean                                    2.1989   \n",
       "std                                     4.8139   \n",
       "min                                   -17.2433   \n",
       "25%                                     0.3116   \n",
       "50%                                     2.4942   \n",
       "75%                                     4.3513   \n",
       "max                                    12.5337   \n",
       "\n",
       "                                          HU00  \\\n",
       "count                              71,820.0000   \n",
       "mean                                   -5.9505   \n",
       "std                                    24.3152   \n",
       "min                                   -36.4009   \n",
       "25%                                   -21.5760   \n",
       "50%                                   -11.8468   \n",
       "75%                                     6.7343   \n",
       "max                                    92.6110   \n",
       "\n",
       "                                         OWN00  \\\n",
       "count                              71,820.0000   \n",
       "mean                                    4.9898   \n",
       "std                                     8.8025   \n",
       "min                                   -15.8932   \n",
       "25%                                    -0.5782   \n",
       "50%                                     3.5361   \n",
       "75%                                     8.9800   \n",
       "max                                    26.3012   \n",
       "\n",
       "                                        RENT00  \\\n",
       "count                              71,820.0000   \n",
       "mean                                   13.4707   \n",
       "std                                    11.5094   \n",
       "min                                   -12.5080   \n",
       "25%                                     7.7939   \n",
       "50%                                    12.7321   \n",
       "75%                                    20.8779   \n",
       "max                                    51.2294   \n",
       "\n",
       "                                      AG25UP00  \\\n",
       "count                              71,820.0000   \n",
       "mean                                   24.1853   \n",
       "std                                    35.2277   \n",
       "min                                   -50.6589   \n",
       "25%                                     3.2859   \n",
       "50%                                    17.0935   \n",
       "75%                                    40.5018   \n",
       "max                                   148.0769   \n",
       "\n",
       "                                         COL00  \\\n",
       "count                              71,820.0000   \n",
       "mean                                   23.0329   \n",
       "std                                    15.1050   \n",
       "min                                    -1.5427   \n",
       "25%                                     8.7311   \n",
       "50%                                    26.3929   \n",
       "75%                                    33.1876   \n",
       "max                                    60.3583   \n",
       "\n",
       "                                        HINC00  \n",
       "count                              71,820.0000  \n",
       "mean                                   34.8283  \n",
       "std                                    60.5345  \n",
       "min                                   -54.4554  \n",
       "25%                                   -17.4504  \n",
       "50%                                    30.4983  \n",
       "75%                                    57.5796  \n",
       "max                                   195.6825  "
      ]
     },
     "execution_count": 34,
     "metadata": {},
     "output_type": "execute_result"
    }
   ],
   "source": [
    "cats_w_demo = [c for c in df_var.columns.values if re.search('category_code_description|building_condition|demolition', c)]\n",
    "df_var.drop(columns=cats_w_demo).describe()"
   ]
  },
  {
   "cell_type": "markdown",
   "metadata": {},
   "source": [
    "A basic logistic regression model could not include all predictors; as shown in Figure 1, there is a high degree of multicollinearity between features, especially between neighbourhood characteristics. "
   ]
  },
  {
   "cell_type": "code",
   "execution_count": 35,
   "metadata": {},
   "outputs": [
    {
     "data": {
      "text/plain": [
       "Text(0.5, 1.0, 'Figure 2. Correlations between predictors')"
      ]
     },
     "execution_count": 35,
     "metadata": {},
     "output_type": "execute_result"
    },
    {
     "data": {
      "image/png": "[encoded data removed]",
      "text/plain": [
       "<Figure size 720x720 with 2 Axes>"
      ]
     },
     "metadata": {
      "needs_background": "light"
     },
     "output_type": "display_data"
    }
   ],
   "source": [
    "#Correlation matrix\n",
    "plt.figure(figsize=(10,10))\n",
    "heatmap = sns.heatmap(df_var.corr(), vmin=-1, vmax=1)\n",
    "heatmap.set_title('Figure 2. Correlations between predictors', fontdict={'fontsize': 14, 'fontweight': 'bold'}, pad=13)"
   ]
  },
  {
   "cell_type": "markdown",
   "metadata": {},
   "source": [
    "Since the 'building_condition_3' dummy variable had null correlations with all other variables, including the demolition dummy variable, this column was dropped from the dataset. "
   ]
  },
  {
   "cell_type": "code",
   "execution_count": 36,
   "metadata": {},
   "outputs": [],
   "source": [
    "df_var.drop(columns='building_condition_3', inplace=True)"
   ]
  },
  {
   "cell_type": "markdown",
   "metadata": {},
   "source": [
    "## Methodology\n",
    "\n",
    "Two approaches to predict whether a building would be demolished were used: logistic regression (LR) using outputs from Principal Components Analysis (PCA), and random forest (RF) classification. Both of these approaches account for the correlations and interactions observed between building and neighbourhood characteristics (Weber et al., 2006). \n",
    "\n",
    "Given a set of predictors, PCA produces features (components) that are linear combinations of the original predictors, and are orthogonal to each other (Jolliffe and Cadima, 2016). Each component accounts for a certain percentage of variance in the original dataset, with most variance explained by only _k_ of the _n_ components produced. Every observation in the dataset receives a score for each component, allowing a selection of components to be used as inputs to classification models. This in turn enables information from correlated variables to be used for prediction.\n",
    "\n",
    "RF algorithms are built on decision trees, each of which identifies different splitting points based on feature values. Each split subsets observations into distinct groups. Given the possibility of various \"branches\", these decision trees take interactions between predictors into account by default. Moreover, the number of trees produced by the RF algorithm prevents the risk of over-fitting presented by a single classification tree.  \n",
    "\n",
    "To aid in model estimation and validation, the dataset was split into predictors and labels. "
   ]
  },
  {
   "cell_type": "code",
   "execution_count": 37,
   "metadata": {},
   "outputs": [],
   "source": [
    "X = df_var.drop(columns='demolition')\n",
    "Y = df_var['demolition']"
   ]
  },
  {
   "cell_type": "markdown",
   "metadata": {},
   "source": [
    "### 1. Extracting principal components\n",
    "\n",
    "Only continuous features were transformed into principal components, as categorical features are unsuited to PCA (Nguyen and Holmes, 2019)."
   ]
  },
  {
   "cell_type": "code",
   "execution_count": 38,
   "metadata": {},
   "outputs": [],
   "source": [
    "#Isolate continous variables\n",
    "categoricals = [c for c in X.columns.values if re.search('category_code_description|building_condition', c)]\n",
    "X_pc = X.drop(columns=categoricals).values\n",
    "\n",
    "#Rescale continuous variables\n",
    "X_pc = StandardScaler().fit_transform(X_pc)\n",
    "\n",
    "#Find components\n",
    "pca = PCA(random_state=51)\n",
    "# fit the components\n",
    "X_new_components = pca.fit_transform(X_pc)"
   ]
  },
  {
   "cell_type": "code",
   "execution_count": 39,
   "metadata": {},
   "outputs": [
    {
     "data": {
      "text/plain": [
       "Text(0.5, 1.0, 'Figure 3. Principal components vs. eigenvalues')"
      ]
     },
     "execution_count": 39,
     "metadata": {},
     "output_type": "execute_result"
    },
    {
     "data": {
      "image/png": "[encoded data removed]",
      "text/plain": [
       "<Figure size 504x360 with 1 Axes>"
      ]
     },
     "metadata": {
      "needs_background": "light"
     },
     "output_type": "display_data"
    }
   ],
   "source": [
    "fig,ax = plt.subplots(1,1, figsize=(7,5))\n",
    "pca_df = pd.DataFrame({'Eigenvalue':pca.explained_variance_, 'PC':list(range(1, pca.n_components_ + 1))})\n",
    "pca_df.plot.line(x = 'PC', y = 'Eigenvalue', ax=ax, legend=False)\n",
    "ax.set_title('Figure 3. Principal components vs. eigenvalues', fontdict={'fontsize': 14, 'fontweight': 'bold'}, pad=13)"
   ]
  },
  {
   "cell_type": "markdown",
   "metadata": {},
   "source": [
    "The eigenvalue of each principal component indicates how much variance the component explains. To find the correct number of principal components to use in the regression model, the 'knee' in the scree plot above was chosen: in this case, five components were retained."
   ]
  },
  {
   "cell_type": "code",
   "execution_count": 40,
   "metadata": {},
   "outputs": [],
   "source": [
    "#Extract five components\n",
    "X_pc_results = X_pc[:,[0,1,2,3,4]]"
   ]
  },
  {
   "cell_type": "markdown",
   "metadata": {},
   "source": [
    "Each observation's scores for the first five components were then joined to the categorical features. "
   ]
  },
  {
   "cell_type": "code",
   "execution_count": 41,
   "metadata": {},
   "outputs": [],
   "source": [
    "#Create data frame with PC scores attached to each parcel number\n",
    "X_pc_results_df = pd.DataFrame(X_pc_results, index=X.index, columns=['PC1', 'PC2', 'PC3', 'PC4', 'PC5'])\n",
    "\n",
    "#Create data frame with only categorical columns\n",
    "categoricals = [c for c in X.columns.values if re.search('category_code_description|building_condition', c)]\n",
    "X_cat = X[categoricals]\n",
    "\n",
    "X_LR = pd.merge(X_cat, X_pc_results_df, left_index=True, right_index=True)"
   ]
  },
  {
   "cell_type": "markdown",
   "metadata": {},
   "source": [
    "To avoid the dummy variable trap in regression models, one level was dropped from each categorical variable."
   ]
  },
  {
   "cell_type": "code",
   "execution_count": 42,
   "metadata": {},
   "outputs": [],
   "source": [
    "#Drop one level for each dummy variable\n",
    "X_LR.drop(columns=['category_code_description_Single Family', 'building_condition_14'], inplace=True)"
   ]
  },
  {
   "cell_type": "markdown",
   "metadata": {},
   "source": [
    "As the variance inflation factor (VIF) results below show, no features are highly correlated. "
   ]
  },
  {
   "cell_type": "code",
   "execution_count": 43,
   "metadata": {},
   "outputs": [
    {
     "data": {
      "text/plain": [
       "category_code_description_Commercial                                       1.0842\n",
       "category_code_description_Industrial                                       1.0335\n",
       "category_code_description_Mixed Use                                        1.0635\n",
       "category_code_description_Multi Family                                     1.1316\n",
       "building_condition_0                                                       1.0043\n",
       "building_condition_1                                                       1.0074\n",
       "building_condition_2                                                       1.8306\n",
       "building_condition_4                                                       1.0325\n",
       "building_condition_5                                                       1.0003\n",
       "building_condition_6                                                       1.0599\n",
       "building_condition_7                                                       1.0080\n",
       "building_condition_8                                                       1.2369\n",
       "building_condition_9                                                       1.0010\n",
       "building_condition_10                                                      1.0601\n",
       "building_condition_11                                                      1.0002\n",
       "building_condition_12                                                      1.0108\n",
       "PC1                                                                        1.0946\n",
       "PC2                                                                        1.9322\n",
       "PC3                                                                        1.0989\n",
       "PC4                                                                        1.0859\n",
       "PC5                                                                        1.0437\n",
       "dtype: float64"
      ]
     },
     "execution_count": 43,
     "metadata": {},
     "output_type": "execute_result"
    }
   ],
   "source": [
    "#VIF test\n",
    "VIF = [variance_inflation_factor(X_LR.values, i) for i in range(len(X_LR.columns))]\n",
    "pd.Series(VIF, index=X_LR.columns)"
   ]
  },
  {
   "cell_type": "markdown",
   "metadata": {},
   "source": [
    "One "
   ]
  },
  {
   "cell_type": "markdown",
   "metadata": {},
   "source": [
    "### 2. Fitting logistic regression model, using principal components and categorical features\n",
    "\n",
    "To evaluate model performance, predictors and outcome variables were split into training and testing subsets. Models were trained on the former dataset, then evaluated based on how well they predicted labels in the latter dataset."
   ]
  },
  {
   "cell_type": "code",
   "execution_count": 44,
   "metadata": {},
   "outputs": [],
   "source": [
    "#Split into test and train datasets\n",
    "X_LR_train, X_LR_test, Y_LR_train, Y_LR_test = train_test_split(X_LR, Y, random_state=51)"
   ]
  },
  {
   "cell_type": "markdown",
   "metadata": {},
   "source": [
    "While the LR classifier has no hyperparameters to tune, the RF classifier does. Therefore, half of the testing set for the RF classifier will need to be used as a validation set. To ensure that both models are tested on the same observations, this validation-testing split will be replicated for the LR model."
   ]
  },
  {
   "cell_type": "code",
   "execution_count": 45,
   "metadata": {},
   "outputs": [],
   "source": [
    "#Split test set into dev set\n",
    "X_LR_dev, X_LR_test, Y_LR_dev, Y_LR_test = train_test_split(X_LR_test, Y_LR_test, test_size=0.5, random_state=51)"
   ]
  },
  {
   "cell_type": "markdown",
   "metadata": {},
   "source": [
    "The sklearn library's logistic regression method was used, as its \"class_weight\" parameter can be set to account for class imbalance — a noticeable feature of the demolition data."
   ]
  },
  {
   "cell_type": "code",
   "execution_count": 46,
   "metadata": {},
   "outputs": [
    {
     "data": {
      "text/plain": [
       "LogisticRegression(class_weight='balanced', max_iter=1000, random_state=51)"
      ]
     },
     "execution_count": 46,
     "metadata": {},
     "output_type": "execute_result"
    }
   ],
   "source": [
    "lr = LogisticRegression(class_weight='balanced', random_state=51, max_iter=1000)\n",
    "lr.fit(X_LR_train, Y_LR_train)"
   ]
  },
  {
   "cell_type": "code",
   "execution_count": 47,
   "metadata": {},
   "outputs": [],
   "source": [
    "lr_pred = lr.predict(X_LR_test)"
   ]
  },
  {
   "cell_type": "markdown",
   "metadata": {},
   "source": [
    "### 3. Fitting Random Forest classifier"
   ]
  },
  {
   "cell_type": "markdown",
   "metadata": {},
   "source": [
    "The full dataset was used for the RF classifier, as unlike logistic regression, the RF algorithm does not require a lack of multicollinearity between predictors. A new training set was thus generated. However, since the same initialisation seed was used for the logistic regression training set, the same observations were used for training and testing. "
   ]
  },
  {
   "cell_type": "code",
   "execution_count": 48,
   "metadata": {},
   "outputs": [],
   "source": [
    "X_RF_train, X_RF_test, Y_RF_train, Y_RF_test = train_test_split(X, Y, random_state=51)"
   ]
  },
  {
   "cell_type": "markdown",
   "metadata": {},
   "source": [
    "#### Tuning number of decision trees\n",
    "\n",
    "The performance of RF classifiers depends in part on the number of decision trees used to make predictions, the optimal value of which was found through evaluating different values on a validation set. Due to the heavy class imbalance, hyperparameter values were evaluated based on the model's F1 score: the balance between how many positive predictions are actually positive, and how many true positives were predicted as such. Using the accuracy score — the default metric — may privilege models that never predict demolition.\n",
    "\n",
    "The code for tuning hyperparameters has been commented out, as it takes several minutes to run. Using this process, the best F1 score was 0.0731 (still fairly low), with 160 as the best number of decision trees."
   ]
  },
  {
   "cell_type": "code",
   "execution_count": 49,
   "metadata": {},
   "outputs": [],
   "source": [
    "#Split test set into dev set\n",
    "X_RF_dev, X_RF_test, Y_RF_dev, Y_test = train_test_split(X_RF_test, Y_RF_test, test_size=0.5, random_state=51)"
   ]
  },
  {
   "cell_type": "code",
   "execution_count": 50,
   "metadata": {},
   "outputs": [],
   "source": [
    "# number of trees to tune\n",
    "#no_trees = [100,120,140,160,180,200,220]\n",
    "\n",
    "#max_score = 0\n",
    "#best_no_trees = None\n",
    "#for t in no_trees:\n",
    "#    m = RandomForestClassifier(n_estimators=t, class_weight='balanced', random_state=51).fit(X_RF_train, Y_RF_train)\n",
    "#    t_pred = m.predict(X_RF_dev)\n",
    "#    score = f1_score(Y_RF_dev, t_pred)\n",
    "#    if score > max_score:\n",
    "#        max_score = score\n",
    "#        best_no_trees = t"
   ]
  },
  {
   "cell_type": "code",
   "execution_count": 51,
   "metadata": {},
   "outputs": [],
   "source": [
    "#max_score"
   ]
  },
  {
   "cell_type": "code",
   "execution_count": 52,
   "metadata": {},
   "outputs": [],
   "source": [
    "#best_no_trees"
   ]
  },
  {
   "cell_type": "markdown",
   "metadata": {},
   "source": [
    "The RF classifier was then fitted using the optimal number of trees."
   ]
  },
  {
   "cell_type": "code",
   "execution_count": 53,
   "metadata": {},
   "outputs": [
    {
     "data": {
      "text/plain": [
       "RandomForestClassifier(class_weight='balanced', n_estimators=160,\n",
       "                       random_state=51)"
      ]
     },
     "execution_count": 53,
     "metadata": {},
     "output_type": "execute_result"
    }
   ],
   "source": [
    "rf = RandomForestClassifier(n_estimators=160, class_weight='balanced', random_state=51)\n",
    "rf.fit(X_RF_train, Y_RF_train)"
   ]
  },
  {
   "cell_type": "code",
   "execution_count": 54,
   "metadata": {},
   "outputs": [],
   "source": [
    "rf_pred = rf.predict(X_RF_test)"
   ]
  },
  {
   "cell_type": "markdown",
   "metadata": {},
   "source": [
    "## Results and Discussion"
   ]
  },
  {
   "cell_type": "markdown",
   "metadata": {},
   "source": [
    "### Principal component logistic regression"
   ]
  },
  {
   "cell_type": "code",
   "execution_count": 55,
   "metadata": {},
   "outputs": [
    {
     "name": "stdout",
     "output_type": "stream",
     "text": [
      "              precision    recall  f1-score   support\n",
      "\n",
      "           0       0.99      0.82      0.90      8896\n",
      "           1       0.03      0.52      0.05        82\n",
      "\n",
      "    accuracy                           0.82      8978\n",
      "   macro avg       0.51      0.67      0.47      8978\n",
      "weighted avg       0.99      0.82      0.89      8978\n",
      "\n"
     ]
    }
   ],
   "source": [
    "print(classification_report(Y_test, lr_pred))"
   ]
  },
  {
   "cell_type": "code",
   "execution_count": 56,
   "metadata": {},
   "outputs": [
    {
     "data": {
      "text/plain": [
       "[Text(0.5, 15.0, 'Predicted value'), Text(33.0, 0.5, 'True value')]"
      ]
     },
     "execution_count": 56,
     "metadata": {},
     "output_type": "execute_result"
    },
    {
     "data": {
      "image/png": "[encoded data removed]",
      "text/plain": [
       "<Figure size 432x288 with 2 Axes>"
      ]
     },
     "metadata": {
      "needs_background": "light"
     },
     "output_type": "display_data"
    }
   ],
   "source": [
    "lr_mat = confusion_matrix(Y_test, lr_pred)\n",
    "lr_mat_plot = sns.heatmap(lr_mat, annot=True, cmap='viridis', fmt='g')\n",
    "lr_mat_plot.set_title('Figure 4. Confusion matrix for LR model', fontdict={'fontsize': 14, 'fontweight': 'bold'}, pad=13)\n",
    "lr_mat_plot.set(xlabel='Predicted value', ylabel='True value')"
   ]
  },
  {
   "cell_type": "markdown",
   "metadata": {},
   "source": [
    "### RF classifier"
   ]
  },
  {
   "cell_type": "code",
   "execution_count": 57,
   "metadata": {},
   "outputs": [
    {
     "name": "stdout",
     "output_type": "stream",
     "text": [
      "              precision    recall  f1-score   support\n",
      "\n",
      "           0       0.99      1.00      1.00      8896\n",
      "           1       0.78      0.09      0.15        82\n",
      "\n",
      "    accuracy                           0.99      8978\n",
      "   macro avg       0.88      0.54      0.57      8978\n",
      "weighted avg       0.99      0.99      0.99      8978\n",
      "\n"
     ]
    }
   ],
   "source": [
    "print(classification_report(Y_test, rf_pred))"
   ]
  },
  {
   "cell_type": "code",
   "execution_count": 58,
   "metadata": {},
   "outputs": [
    {
     "data": {
      "text/plain": [
       "[Text(0.5, 15.0, 'Predicted value'), Text(33.0, 0.5, 'True value')]"
      ]
     },
     "execution_count": 58,
     "metadata": {},
     "output_type": "execute_result"
    },
    {
     "data": {
      "image/png": "[encoded data removed]",
      "text/plain": [
       "<Figure size 432x288 with 2 Axes>"
      ]
     },
     "metadata": {
      "needs_background": "light"
     },
     "output_type": "display_data"
    }
   ],
   "source": [
    "rf_mat = confusion_matrix(Y_test, rf_pred)\n",
    "rf_mat_plot = sns.heatmap(rf_mat, annot=True, cmap='viridis', fmt='g')\n",
    "rf_mat_plot.set_title('Figure 5. Confusion matrix for RF classifier', fontdict={'fontsize': 14, 'fontweight': 'bold'}, pad=13)\n",
    "rf_mat_plot.set(xlabel='Predicted value', ylabel='True value')"
   ]
  },
  {
   "cell_type": "markdown",
   "metadata": {},
   "source": [
    "The models predict demolition at vastly different rates. The RF model significantly _underpredicts_ demolitions: only 9% of properties with a demolition permit issued betweeen 2018 and 2021 were correctly classified as such. By contrast, the LR model _overpredicts_ demolitions: of the properties predicted to be associated with a demolition permit, only 3% actually did. \n",
    "\n",
    "Overall, however, the RF classifier appears to perform slightly better than the LR model. While the RF model predicted the correct demolition status for 99% of properties, the principal component LR model only did so for 82% of properties. Additionally, the low precision of the LR model with regards to predicting demolitions is not accompanied by high recall, as is typically the case: only 52% of properties with actual demolition permits were correctly predicted as such. \n",
    "\n",
    "Still, the RF model may not be of much use for predicting future demolitions. The recall score for predicting demolitions is still too low for policymakers to obtain justified estimates of future demolition activity — an unsurprising result given the extremely low proportion of properties with associated demolition permits. While collecting data on demolished buildings over a longer time frame could improve model performance, comprehensive building-level data on long-demolished properties is unavailable. Additionally, there is evidence to suggest that Covid-19 influenced property-market trends in Philadelphia (Allen and Briggs, 2020), reducing the utility of a predictive model trained before the pandemic. \n",
    "\n",
    "## Conclusion\n",
    "\n",
    "This report sought to identify how Philadelphia policymakers could best predict building demolition risk, evaluating two classification methods that account for the complex interactions between property and neighbourhood characteristics. Given the lack of data on demolished buildings for model training, neither of the two approaches tested in this report would provide useful information for planning decisions. \n",
    "\n",
    "If policymakers and advocates in Philadelphia want to utilize predictive modelling for analysing future demolition activity, there are two potential routes for doing so. The first is advocating for the City to provide more comprehensive historical data on properties, which would partially mitigate the class-imbalance issue that hampered model performance. The second is exploring advanced anomaly-detection algorithms, which are calibrated for rare events (Ruiz and Villa, 2008). "
   ]
  },
  {
   "cell_type": "markdown",
   "metadata": {},
   "source": [
    "## References"
   ]
  },
  {
   "cell_type": "markdown",
   "metadata": {},
   "source": [
    "Allen, T. and Briggs, R. (no date). ‘Demolition in Philly dropped by half in 2020 — Is that a good thing?’ WHYY. Available at: https://whyy.org/articles/demolition-in-philly-dropped-by-half-in-2020-is-that-a-good-thing/ (Accessed: 9 May 2021).\n",
    "\n",
    "Blumgart, J. (2019). ‘Why so few of Philadelphia’s old buildings are historically protected’. WHYY, 16 April. Available at: https://whyy.org/episodes/why-so-few-of-philadelphias-buildings-are-historically-protected/ (Accessed: 7 May 2021).\n",
    "\n",
    "Briggs, R. (2018). ‘Philadelphia demolitions hit record high in 2018’. WHYY, 28 December. Available at: https://whyy.org/articles/philadelphia-demolitions-hit-record-high-in-2018/ (Accessed: 7 May 2021).\n",
    "\n",
    "Briggs, R. (2019). ‘Philadelphia’s building boom spawned a demolition boom in 2019’. WHYY, 19 December. Available at: https://whyy.org/articles/philadelphias-building-boom-spawned-a-demolition-boom-in-2019/ (Accessed: 7 May 2021).\n",
    "\n",
    "Charles, S. L. (2013). ‘Understanding the Determinants of Single-family Residential Redevelopment in the Inner-ring Suburbs of Chicago’. Urban Studies. SAGE Publications Ltd, 50 (8), pp. 1505–1522. doi: 10.1177/0042098012465908.\n",
    "\n",
    "Charles, S. L. (2014). ‘The spatio-temporal pattern of housing redevelopment in suburban Chicago, 2000–2010’. Urban Studies. SAGE Publications Ltd, 51 (12), pp. 2646–2664. doi: 10.1177/0042098013506045.\n",
    "\n",
    "City of Philadelphia Office of Property Assessment (2021). ‘Philadelphia Properties and Assessment History.’ Available at: https://www.opendataphilly.org/dataset/opa-property-assessments (Accessed: 26 April 2021).\n",
    "\n",
    "Ding, L., Hwang, J. and Divringi, E. (2016). ‘Gentrification and residential mobility in Philadelphia’. Regional Science and Urban Economics, 61, pp. 38–51. doi: 10.1016/j.regsciurbeco.2016.09.004.\n",
    "\n",
    "Dubé, J., Desaulniers, S., Bédard, L.-P., Binette, A. and Leblanc, E. (2018). ‘Urban residential reconversion through demolition: A land use model based on administrative spatial micro-data’. Land Use Policy, 76, pp. 686–696. doi: 10.1016/j.landusepol.2018.02.052.\n",
    "\n",
    "Dye, R. F. and McMillen, D. P. (2007). ‘Teardowns and land values in the Chicago metropolitan area’. Journal of Urban Economics, 61 (1), pp. 45–63. doi: 10.1016/j.jue.2006.06.003.\n",
    "\n",
    "Jolliffe, I. T. and Cadima, J. (2016). ‘Principal component analysis: a review and recent developments’. Philosophical Transactions of the Royal Society A: Mathematical, Physical and Engineering Sciences. Royal Society, 374 (2065), p. 20150202. doi: 10.1098/rsta.2015.0202.\n",
    "\n",
    "Maule, B. (2019). As Jewelers’ Row is demolished, where was Mayor Kenney’s leadership? | Opinion. https://www.inquirer.com. Available at: https://www.inquirer.com/opinion/commentary/jewelers-row-historic-preservation-toll-brothers-mayor-jim-kenney-20191120.html (Accessed: 7 May 2021).\n",
    "\n",
    "Munneke, H. J. (1996). ‘Redevelopment Decisions for Commercial and Industrial Properties’. Journal of Urban Economics, 39 (2), pp. 229–253. doi: 10.1006/juec.1996.0013.\n",
    "\n",
    "Nguyen, L. H. and Holmes, S. (2019). ‘Ten quick tips for effective dimensionality reduction’. PLoS Computational Biology, 15 (6). doi: 10.1371/journal.pcbi.1006907.\n",
    "\n",
    "Reades, J., De Souza, J. and Hubbard, P. (2019). ‘Understanding urban gentrification through machine learning’. Urban Studies. SAGE Publications Ltd, 56 (5), pp. 922–942. doi: 10.1177/0042098018789054.\n",
    "\n",
    "Ruiz, A. and Villa, N. (2008). ‘Storms prediction : Logistic regression vs random forest for unbalanced data’. arXiv:0804.0650 [math, stat]. Available at: http://arxiv.org/abs/0804.0650 (Accessed: 9 May 2021).\n",
    "\n",
    "Saffron, I. (2021). Graduate Hospital teardown tells us about affordability and tax policy in Philadelphia. Available at: https://www.inquirer.com/real-estate/inga-saffron/graduate-hospital-teardown-demolition-architecture-history-preservation-zatos-stamm-gnome-south-philadelphia-density-yimby-20210227.html (Accessed: 10 May 2021).\n",
    "\n",
    "Southeastern Pennsylvania Transportation Authority (2018). ‘SEPTA - Broad Street Line Stations.’ Available at: https://septaopendata-septa.opendata.arcgis.com/datasets/septa-broad-street-line-stations?geometry=-75.402%2C39.928%2C-74.908%2C40.020 (Accessed: 1 May 2021). \n",
    "\n",
    "Southeastern Pennsylvania Transportation Authority (2018). ‘SEPTA - Market-Frankford Line Stations.’ Available at: https://septaopendata-septa.opendata.arcgis.com/datasets/8c6e2575c8ad46eb887e6bb35825e1a6_0?geometry=-75.416%2C39.940%2C-74.922%2C40.032 (Accessed: 1 May 2021). \n",
    "\n",
    "Southeastern Pennsylvania Transportation Authority (2018). ‘SEPTA - Regional Rail Stations.’ Available at: https://septaopendata-septa.opendata.arcgis.com/datasets/septa-regional-rail-stations?geometry=-77.235%2C39.620%2C-73.282%2C40.356 (Accessed: 1 May 2021). \n",
    "\n",
    "Southeastern Pennsylvania Transportation Authority (2018). ‘SEPTA - Trolley Stops.’ Available at: https://septaopendata-septa.opendata.arcgis.com/datasets/septa-trolley-stops?geometry=-75.488%2C39.906%2C-74.993%2C39.998 (Accessed: 1 May 2021). \n",
    "\n",
    "U.S. Census Bureau (2018). ’2013-2018 American Community Survey 5-year estimates.’ Available at: https://api.census.gov/data/2018/acs/acs5.html (Accessed: 26 April 2021). \n",
    "\n",
    "Weber, R., Doussard, M., Bhatta, S. D. and Mcgrath, D. (2006). ‘Tearing the City Down: Understanding Demolition Activity in Gentrifying Neighborhoods’. Journal of Urban Affairs. Routledge, 28 (1), pp. 19–41. doi: 10.1111/j.0735-2166.2006.00257.x."
   ]
  }
 ],
 "metadata": {
  "kernelspec": {
   "display_name": "Python 3",
   "language": "python",
   "name": "python3"
  },
  "language_info": {
   "codemirror_mode": {
    "name": "ipython",
    "version": 3
   },
   "file_extension": ".py",
   "mimetype": "text/x-python",
   "name": "python",
   "nbconvert_exporter": "python",
   "pygments_lexer": "ipython3",
   "version": "3.7.8"
  }
 },
 "nbformat": 4,
 "nbformat_minor": 4
}
