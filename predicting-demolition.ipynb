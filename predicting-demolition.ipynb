{
 "cells": [
  {
   "cell_type": "code",
   "execution_count": 1,
   "metadata": {},
   "outputs": [],
   "source": [
    "import pandas as pd\n",
    "import numpy as np\n",
    "import geopandas as gpd\n",
    "from shapely.geometry import Point, MultiPoint\n",
    "from scipy.spatial import cKDTree\n",
    "import matplotlib.pyplot as plt\n",
    "\n",
    "from sklearn.preprocessing import LabelEncoder\n",
    "from sklearn.feature_extraction import DictVectorizer\n",
    "from sklearn.model_selection import train_test_split\n",
    "from sklearn.ensemble import RandomForestClassifier\n",
    "from sklearn import model_selection"
   ]
  },
  {
   "cell_type": "markdown",
   "metadata": {},
   "source": [
    "# Predicting building demolition risk in Philadelphia, 2015-2021"
   ]
  },
  {
   "cell_type": "markdown",
   "metadata": {},
   "source": [
    "## Introduction and Literature Review\n"
   ]
  },
  {
   "cell_type": "markdown",
   "metadata": {},
   "source": [
    "## Presentation of Data\n",
    "### Data collection\n",
    "#### Property characteristics"
   ]
  },
  {
   "cell_type": "code",
   "execution_count": 2,
   "metadata": {},
   "outputs": [],
   "source": [
    "#Get data on private demolitions post-2015 from API\n",
    "demolitions = pd.read_csv(\"https://phl.carto.com/api/v2/sql?format=CSV&q=SELECT%20address,%20typeofwork%20FROM%20demolitions%20WHERE%20city_demo%20=%20%27NO%27%20AND%20start_date%20>=%20%272018-01-01%27\")"
   ]
  },
  {
   "cell_type": "code",
   "execution_count": 3,
   "metadata": {},
   "outputs": [],
   "source": [
    "demolitions.drop(index=demolitions[demolitions['typeofwork'] == 'TANKRI'].index, inplace=True) #drop tank removals"
   ]
  },
  {
   "cell_type": "code",
   "execution_count": 4,
   "metadata": {},
   "outputs": [
    {
     "data": {
      "text/plain": [
       "(1333, 2)"
      ]
     },
     "execution_count": 4,
     "metadata": {},
     "output_type": "execute_result"
    }
   ],
   "source": [
    "demolitions.shape"
   ]
  },
  {
   "cell_type": "code",
   "execution_count": 27,
   "metadata": {},
   "outputs": [],
   "source": [
    "#Get selected features of all properties in Philadelphia\n",
    "chunks = []\n",
    "dtypes = {\n",
    "    'lng': 'float64',\n",
    "    'lat': 'float64',\n",
    "    'location': 'object',\n",
    "    'category_code_description': 'category',\n",
    "    'interior_condition': 'category', #ordinal scale, therefore encoding this feature as a category\n",
    "    'exterior_condition': 'category',\n",
    "    'total_area': 'float64',\n",
    "    'year_built': 'object',\n",
    "    'parcel_number': 'object',\n",
    "    'census_tract': 'object'\n",
    "}\n",
    "\n",
    "chunked_df = pd.read_csv('https://phl.carto.com/api/v2/sql?format=CSV&q=SELECT%20ST_X(the_geom)%20AS%20lng,%20ST_Y(the_geom)%20AS%20lat,%20location,%20category_code_description,%20interior_condition,%20exterior_condition,%20total_area,%20year_built,%20parcel_number,%20census_tract%20FROM%20opa_properties_public', \n",
    "                         dtype=dtypes,\n",
    "                         chunksize=40000)\n",
    "\n",
    "for chunk in chunked_df:\n",
    "    chunk['demolition'] = chunk['location'].isin(demolitions['address']).astype(np.int8) #create binary field encoding whether or not an address is associated with a demolition permit\n",
    "    chunks.append(chunk)"
   ]
  },
  {
   "cell_type": "code",
   "execution_count": 6,
   "metadata": {},
   "outputs": [],
   "source": [
    "properties = pd.concat(chunks)"
   ]
  },
  {
   "cell_type": "code",
   "execution_count": 7,
   "metadata": {},
   "outputs": [
    {
     "data": {
      "text/plain": [
       "(581456, 11)"
      ]
     },
     "execution_count": 7,
     "metadata": {},
     "output_type": "execute_result"
    }
   ],
   "source": [
    "properties.shape"
   ]
  },
  {
   "cell_type": "code",
   "execution_count": 8,
   "metadata": {},
   "outputs": [
    {
     "data": {
      "text/html": [
       "<div>\n",
       "<style scoped>\n",
       "    .dataframe tbody tr th:only-of-type {\n",
       "        vertical-align: middle;\n",
       "    }\n",
       "\n",
       "    .dataframe tbody tr th {\n",
       "        vertical-align: top;\n",
       "    }\n",
       "\n",
       "    .dataframe thead th {\n",
       "        text-align: right;\n",
       "    }\n",
       "</style>\n",
       "<table border=\"1\" class=\"dataframe\">\n",
       "  <thead>\n",
       "    <tr style=\"text-align: right;\">\n",
       "      <th></th>\n",
       "      <th>lng</th>\n",
       "      <th>lat</th>\n",
       "      <th>location</th>\n",
       "      <th>category_code_description</th>\n",
       "      <th>interior_condition</th>\n",
       "      <th>exterior_condition</th>\n",
       "      <th>total_area</th>\n",
       "      <th>year_built</th>\n",
       "      <th>parcel_number</th>\n",
       "      <th>census_tract</th>\n",
       "      <th>demolition</th>\n",
       "    </tr>\n",
       "  </thead>\n",
       "  <tbody>\n",
       "    <tr>\n",
       "      <th>235335</th>\n",
       "      <td>-75.264115</td>\n",
       "      <td>39.974033</td>\n",
       "      <td>1372 N 75TH ST</td>\n",
       "      <td>Single Family</td>\n",
       "      <td>4</td>\n",
       "      <td>4</td>\n",
       "      <td>1684.2</td>\n",
       "      <td>1949</td>\n",
       "      <td>343280600</td>\n",
       "      <td>98</td>\n",
       "      <td>0</td>\n",
       "    </tr>\n",
       "    <tr>\n",
       "      <th>321896</th>\n",
       "      <td>-75.102475</td>\n",
       "      <td>39.987996</td>\n",
       "      <td>3298 1/2 MILLER ST</td>\n",
       "      <td>Single Family</td>\n",
       "      <td>4</td>\n",
       "      <td>4</td>\n",
       "      <td>992.0</td>\n",
       "      <td>1910</td>\n",
       "      <td>451356200</td>\n",
       "      <td>379</td>\n",
       "      <td>0</td>\n",
       "    </tr>\n",
       "    <tr>\n",
       "      <th>141860</th>\n",
       "      <td>-75.208758</td>\n",
       "      <td>40.019228</td>\n",
       "      <td>177 OSBORN ST</td>\n",
       "      <td>Single Family</td>\n",
       "      <td>4</td>\n",
       "      <td>4</td>\n",
       "      <td>1469.7</td>\n",
       "      <td>1950</td>\n",
       "      <td>213048900</td>\n",
       "      <td>209</td>\n",
       "      <td>0</td>\n",
       "    </tr>\n",
       "    <tr>\n",
       "      <th>9829</th>\n",
       "      <td>-75.148049</td>\n",
       "      <td>39.934617</td>\n",
       "      <td>1008 E MOYAMENSING AVE</td>\n",
       "      <td>Single Family</td>\n",
       "      <td>4</td>\n",
       "      <td>4</td>\n",
       "      <td>1600.0</td>\n",
       "      <td>1960</td>\n",
       "      <td>021394900</td>\n",
       "      <td>25</td>\n",
       "      <td>0</td>\n",
       "    </tr>\n",
       "    <tr>\n",
       "      <th>229361</th>\n",
       "      <td>-75.262306</td>\n",
       "      <td>39.976828</td>\n",
       "      <td>7307 MALVERN AVE</td>\n",
       "      <td>Single Family</td>\n",
       "      <td>4</td>\n",
       "      <td>4</td>\n",
       "      <td>1472.0</td>\n",
       "      <td>1949</td>\n",
       "      <td>344088300</td>\n",
       "      <td>98</td>\n",
       "      <td>0</td>\n",
       "    </tr>\n",
       "  </tbody>\n",
       "</table>\n",
       "</div>"
      ],
      "text/plain": [
       "              lng        lat                location  \\\n",
       "235335 -75.264115  39.974033          1372 N 75TH ST   \n",
       "321896 -75.102475  39.987996      3298 1/2 MILLER ST   \n",
       "141860 -75.208758  40.019228           177 OSBORN ST   \n",
       "9829   -75.148049  39.934617  1008 E MOYAMENSING AVE   \n",
       "229361 -75.262306  39.976828        7307 MALVERN AVE   \n",
       "\n",
       "       category_code_description interior_condition exterior_condition  \\\n",
       "235335             Single Family                  4                  4   \n",
       "321896             Single Family                  4                  4   \n",
       "141860             Single Family                  4                  4   \n",
       "9829               Single Family                  4                  4   \n",
       "229361             Single Family                  4                  4   \n",
       "\n",
       "        total_area year_built parcel_number census_tract  demolition  \n",
       "235335      1684.2       1949     343280600          98            0  \n",
       "321896       992.0       1910     451356200          379           0  \n",
       "141860      1469.7       1950     213048900          209           0  \n",
       "9829        1600.0       1960     021394900          25            0  \n",
       "229361      1472.0       1949     344088300          98            0  "
      ]
     },
     "execution_count": 8,
     "metadata": {},
     "output_type": "execute_result"
    }
   ],
   "source": [
    "properties.sample(5)"
   ]
  },
  {
   "cell_type": "markdown",
   "metadata": {},
   "source": [
    "The most comprehensive property dataset is the most recent one. However, for 86.3% of properties with an associated demolition permit, the property assessment on file is for prior to their demolition, or the building has not yet been demolished. The remaining properties have been re-assessed since their demolition and are now listed as vacant land. Since the model includes building characteristics, and these features are not available for properties classed as 'Vacant Land', demolished properties that have been re-assessed since their demolition were dropped from the dataset. "
   ]
  },
  {
   "cell_type": "code",
   "execution_count": 9,
   "metadata": {},
   "outputs": [
    {
     "data": {
      "text/plain": [
       "category_code_description  demolition\n",
       "Commercial                 0              13921\n",
       "                           1                138\n",
       "Industrial                 0               4275\n",
       "                           1                 79\n",
       "Mixed Use                  0              14324\n",
       "                           1                 72\n",
       "Multi Family               0              42316\n",
       "                           1                146\n",
       "Single Family              0             460990\n",
       "                           1                583\n",
       "Vacant Land                0              44450\n",
       "                           1                162\n",
       "dtype: int64"
      ]
     },
     "execution_count": 9,
     "metadata": {},
     "output_type": "execute_result"
    }
   ],
   "source": [
    "properties.groupby(['category_code_description', 'demolition']).size()"
   ]
  },
  {
   "cell_type": "code",
   "execution_count": 10,
   "metadata": {},
   "outputs": [],
   "source": [
    "properties.drop(index=properties[properties['category_code_description'] == 'Vacant Land'].index, inplace=True)"
   ]
  },
  {
   "cell_type": "code",
   "execution_count": 11,
   "metadata": {},
   "outputs": [
    {
     "data": {
      "text/plain": [
       "(536844, 11)"
      ]
     },
     "execution_count": 11,
     "metadata": {},
     "output_type": "execute_result"
    }
   ],
   "source": [
    "properties.shape"
   ]
  },
  {
   "cell_type": "code",
   "execution_count": 12,
   "metadata": {},
   "outputs": [],
   "source": [
    "#Load in market value for properties in 2018\n",
    "value18 = pd.read_csv('https://phl.carto.com/api/v2/sql?format=CSV&q=SELECT%20parcel_number,%20market_value%20FROM%20assessments%20WHERE%20year%20=%202018',\n",
    "                     dtype={\n",
    "                         'parcel_number': 'object',\n",
    "                         'market_value': 'float64'\n",
    "                     })"
   ]
  },
  {
   "cell_type": "code",
   "execution_count": 13,
   "metadata": {},
   "outputs": [],
   "source": [
    "properties = pd.merge(properties, value18, how='left', on='parcel_number')"
   ]
  },
  {
   "cell_type": "code",
   "execution_count": 14,
   "metadata": {},
   "outputs": [],
   "source": [
    "#Drop properties with text or null values in year_built field\n",
    "properties.drop(index=properties[properties['year_built'].str.contains(r'[A-Za-z]+', na=True)].index, inplace=True)\n",
    "properties['year_built'] = properties['year_built'].astype('int64')"
   ]
  },
  {
   "cell_type": "code",
   "execution_count": 15,
   "metadata": {},
   "outputs": [],
   "source": [
    "#Drop properties constructed after 2018\n",
    "properties.drop(index=properties[properties['year_built'] > 2018].index, inplace=True)\n",
    "\n",
    "#Add field encoding age of properties in 2018\n",
    "properties['age'] = 2018 - properties['year_built']"
   ]
  },
  {
   "cell_type": "markdown",
   "metadata": {},
   "source": [
    "#### Distance attributes"
   ]
  },
  {
   "cell_type": "code",
   "execution_count": 16,
   "metadata": {},
   "outputs": [],
   "source": [
    "#Drop properties with null lat and long coordinates (they show up in pandas.info() as null, but not in the preview,\n",
    "#but they still cause bugs in spatial operations)\n",
    "properties.drop(index=properties['lat'][properties['lat'].isna()].index, inplace=True)"
   ]
  },
  {
   "cell_type": "code",
   "execution_count": 17,
   "metadata": {},
   "outputs": [],
   "source": [
    "#Convert data frame to georeferenced dataframe to \n",
    "geo_properties = gpd.GeoDataFrame(properties,\n",
    "                                  geometry=gpd.points_from_xy(properties.lng, properties.lat))"
   ]
  },
  {
   "cell_type": "code",
   "execution_count": 18,
   "metadata": {},
   "outputs": [],
   "source": [
    "geo_properties.set_crs('epsg:4326', inplace=True) #set projection to WGS84\n",
    "geo_properties.to_crs('epsg:2272', inplace=True) #reproject to NAD 1983 for southern PA\n",
    "geo_properties.set_index('parcel_number', inplace=True) #set index"
   ]
  },
  {
   "cell_type": "code",
   "execution_count": 19,
   "metadata": {},
   "outputs": [],
   "source": [
    "del(properties) #save memory"
   ]
  },
  {
   "cell_type": "markdown",
   "metadata": {},
   "source": [
    "##### Distance to City Hall"
   ]
  },
  {
   "cell_type": "code",
   "execution_count": 20,
   "metadata": {},
   "outputs": [
    {
     "data": {
      "text/plain": [
       "0    POINT (2693536.305 236112.283)\n",
       "dtype: geometry"
      ]
     },
     "execution_count": 20,
     "metadata": {},
     "output_type": "execute_result"
    }
   ],
   "source": [
    "#Add field encoding distance from each property to City Hall\n",
    "\n",
    "#Get Easting and Northing coordinates for City Hall\n",
    "city_hall = gpd.GeoSeries(Point(-75.1635112, 39.952335), crs=4326)\n",
    "city_hall.to_crs('epsg:2272') #reproject to NAD 1983"
   ]
  },
  {
   "cell_type": "code",
   "execution_count": 21,
   "metadata": {},
   "outputs": [],
   "source": [
    "#Turn City Hall into point object\n",
    "city_hall = Point(2693536.305, 236112.283)\n",
    "\n",
    "#Add field with distance to City Hall\n",
    "geo_properties['dist_city_hall'] = geo_properties.distance(city_hall)\n",
    "\n",
    "#Convert from feet to miles\n",
    "geo_properties['dist_city_hall'] = geo_properties['dist_city_hall'] * 0.000189394"
   ]
  },
  {
   "cell_type": "markdown",
   "metadata": {},
   "source": [
    "##### Distance to nearest public transportation stop"
   ]
  },
  {
   "cell_type": "code",
   "execution_count": 22,
   "metadata": {},
   "outputs": [],
   "source": [
    "#Import public transportation shapefiles\n",
    "\n",
    "##Trolley stops (within Philadelphia county)\n",
    "trolley = gpd.read_file('https://services2.arcgis.com/9U43PSoL47wawX5S/arcgis/rest/services/Trolley_Stops1/FeatureServer/0/query?where=1%3D1&outFields=Route&outSR=4326&f=json')\n",
    "\n",
    "##MFL stops\n",
    "MFL = gpd.read_file('https://services2.arcgis.com/9U43PSoL47wawX5S/arcgis/rest/services/Market_Frankford_Line_Stations/FeatureServer/0/query?where=1%3D1&outFields=Route&outSR=4326&f=json')\n",
    "\n",
    "##BSL stops\n",
    "BSL = gpd.read_file('https://services2.arcgis.com/9U43PSoL47wawX5S/arcgis/rest/services/Broad_Street_Line_Stations/FeatureServer/0/query?where=1%3D1&outFields=Route&outSR=4326&f=json')\n",
    "\n",
    "##Regional Rail stops (within Philadelphia County)\n",
    "RR = gpd.read_file('https://services2.arcgis.com/9U43PSoL47wawX5S/arcgis/rest/services/Regional_Rail_Stations/FeatureServer/0/query?where=1%3D1&outFields=Line_Name,County&outSR=4326&f=json')"
   ]
  },
  {
   "cell_type": "code",
   "execution_count": 23,
   "metadata": {},
   "outputs": [],
   "source": [
    "#Drop Regional Rail stations that aren't in Philadelphia\n",
    "RR.drop(index=RR[RR['County'] != 'Philadelphia'].index, inplace=True)\n",
    "RR.drop(columns='County', inplace=True)\n",
    "RR.rename(columns={'Line_Name': 'Route'}, inplace=True)"
   ]
  },
  {
   "cell_type": "code",
   "execution_count": 24,
   "metadata": {},
   "outputs": [],
   "source": [
    "##Concatenate transportation stops into one gdf of all transportation stops\n",
    "transport = pd.concat([trolley, MFL, BSL, RR])\n",
    "transport.to_crs('epsg:2272', inplace=True)"
   ]
  },
  {
   "cell_type": "code",
   "execution_count": 25,
   "metadata": {},
   "outputs": [],
   "source": [
    "#Finding distance of each property to closest transport stop using scipy spatial cKDTree (fastest method)\n",
    "def nearest_transport(props, transport):   \n",
    "    '''Constructs cKDTree of transport stops, then returns Series of distances to closest transport stop\n",
    "    for each property'''\n",
    "    \n",
    "    #Convert geometry columns to arrays\n",
    "    prop_array = np.array(list(zip(props.geometry.x, props.geometry.y)))\n",
    "    transport_array = np.array(list(zip(transport.geometry.x, transport.geometry.y)))\n",
    "    \n",
    "    #Construct cKDTree of transportation stops\n",
    "    tree = cKDTree(transport_array)\n",
    "    \n",
    "    #Query tree to find distance to closest transport stop\n",
    "    dist, idx = tree.query(prop_array,k=1) #dist is array of distances to closest point, idx is array of indices of closest points (not needed)\n",
    "    \n",
    "    #Since Easting and Northing are in feet, distances have to be converted to miles\n",
    "    f = lambda x: x * 0.000189394\n",
    "    dist_miles = f(dist) \n",
    "    \n",
    "    return pd.Series(dist_miles, name='dist_to_transport', index=props.index)"
   ]
  },
  {
   "cell_type": "code",
   "execution_count": 26,
   "metadata": {},
   "outputs": [],
   "source": [
    "geo_properties['dist_to_transport'] = nearest_transport(geo_properties, transport)"
   ]
  },
  {
   "cell_type": "markdown",
   "metadata": {},
   "source": [
    "#### Neighbourhood attributes (change from 2000 to 2018)"
   ]
  },
  {
   "cell_type": "code",
   "execution_count": 37,
   "metadata": {},
   "outputs": [],
   "source": [
    "#Function to extract Philadelphia from LTDB data\n",
    "def get_phl_data(fname):\n",
    "    full_df = pd.read_csv(fname)\n",
    "    \n",
    "    df = full_df.loc[\n",
    "        full_df['county'] == 'Philadelphia County'\n",
    "    ].copy()\n",
    "    \n",
    "    del(full_df)\n",
    "    return df"
   ]
  },
  {
   "cell_type": "code",
   "execution_count": 38,
   "metadata": {},
   "outputs": [],
   "source": [
    "census00 = get_phl_data('data/LTDB_Std_2000_fullcount/LTDB_Std_2000_fullcount.csv')\n",
    "census00_sample = get_phl_data('data/LTDB_Std_2000_Sample.csv')"
   ]
  },
  {
   "cell_type": "code",
   "execution_count": null,
   "metadata": {},
   "outputs": [],
   "source": [
    "#Find percentage of population for relevant variables\n",
    "pop_cols = ['NHWT00', 'NHBLK00', 'HISP00', 'COL00'] #divie by POP00\n",
    "hu_cols = ['OWN00', 'RENT00'] #divide by HU00\n",
    "ag25_col = 'COL00' #divide by age 25 up column - doesn't seem to be here?\n"
   ]
  },
  {
   "cell_type": "code",
   "execution_count": 43,
   "metadata": {},
   "outputs": [
    {
     "data": {
      "text/plain": [
       "Index(['TRTID10', 'state', 'county', 'tract', 'placefp10', 'cbsa10',\n",
       "       'metdiv10', 'ccflag10', 'POP00', 'NHWHT00', 'NHBLK00', 'NTV00',\n",
       "       'ASIAN00', 'HISP00', 'HAW00', 'INDIA00', 'CHINA00', 'FILIP00',\n",
       "       'JAPAN00', 'KOREA00', 'VIET00', 'MEX00', 'PR00', 'CUBAN00', 'HU00',\n",
       "       'VAC00', 'OHU00', 'A18UND00', 'A60UP00', 'A75UP00', 'AGEWHT00',\n",
       "       'A15WHT00', 'A60WHT00', 'AGEBLK00', 'A15BLK00', 'A60BLK00', 'AGEHSP00',\n",
       "       'A15HSP00', 'A60HSP00', 'AGENTV00', 'A15NTV00', 'A60NTV00', 'AGEASN00',\n",
       "       'A15ASN00', 'A60ASN00', 'FAMILY00', 'FHH00', 'OWN00', 'RENT00',\n",
       "       'GlobD00', 'GlobG00'],\n",
       "      dtype='object')"
      ]
     },
     "execution_count": 43,
     "metadata": {},
     "output_type": "execute_result"
    }
   ],
   "source": [
    "census00.columns"
   ]
  },
  {
   "cell_type": "code",
   "execution_count": 44,
   "metadata": {},
   "outputs": [
    {
     "data": {
      "text/plain": [
       "Index(['TRTID10', 'state', 'county', 'tract', 'placefp10', 'cbsa10',\n",
       "       'metdiv10', 'ccflag10', 'POP00SF3', 'RUANC00', 'ITANC00', 'GEANC00',\n",
       "       'IRANC00', 'SCANC00', 'RUFB00', 'ITFB00', 'GEFB00', 'IRFB00', 'SCFB00',\n",
       "       'FB00', 'NAT00', 'N10IMM00', 'AG5UP00', 'OLANG00', 'LEP00', 'AG25UP00',\n",
       "       'HS00', 'COL00', 'AG15UP00', 'Mar-00', 'WDS00', 'CLF00', 'UNEMP00',\n",
       "       'DFLABF00', 'FLABF00', 'EMPCLF00', 'PROF00', 'MANUF00', 'SEMP00',\n",
       "       'AG18CV00', 'VET00', 'CNI16U00', 'DIS00', 'DPOV00', 'NPOV00',\n",
       "       'N65POV00', 'DFMPOV00', 'NFMPOV00', 'DWPOV00', 'NWPOV00', 'DBPOV00',\n",
       "       'NBPOV00', 'DNAPOV00', 'NNAPOV00', 'DHPOV00', 'NHPOV00', 'DAPOV00',\n",
       "       'NAPOV00', 'INCPC00', 'HU00SP', 'H30OLD00', 'OHU00SP', 'H10YRS00',\n",
       "       'DMULTI00', 'MULTI00', 'HINC00', 'HINCW00', 'HINCB00', 'HINCH00',\n",
       "       'HINCA00', 'MHMVAL00', 'MRENT00', 'HH00', 'HHW00', 'HHB00', 'HHH00',\n",
       "       'HHA00'],\n",
       "      dtype='object')"
      ]
     },
     "execution_count": 44,
     "metadata": {},
     "output_type": "execute_result"
    }
   ],
   "source": [
    "census00_sample.columns"
   ]
  },
  {
   "cell_type": "code",
   "execution_count": null,
   "metadata": {},
   "outputs": [],
   "source": [
    "#Get Census data from API (ACS 5-year estimates from 2013 to 2018)\n",
    "#neighborhood market value\n",
    "#college-educated population\n",
    "#median household income\n",
    "#white population (+ percent change in white population since 2000)\n",
    "#black population (+ percent change in black population since 2000)\n",
    "#hispanic population (+ percent change in hispanic population since 2000)"
   ]
  },
  {
   "cell_type": "code",
   "execution_count": null,
   "metadata": {},
   "outputs": [],
   "source": [
    "#Join Census tract data from 2018 to each property (load Census tract shapefile, then gpd sjoin)\n"
   ]
  },
  {
   "cell_type": "code",
   "execution_count": null,
   "metadata": {},
   "outputs": [],
   "source": [
    "#Add field encoding percentage change for each variable since 2000"
   ]
  },
  {
   "cell_type": "markdown",
   "metadata": {},
   "source": [
    "### Data cleaning"
   ]
  },
  {
   "cell_type": "code",
   "execution_count": null,
   "metadata": {},
   "outputs": [],
   "source": [
    "#Check for columns where most values are null, then drop"
   ]
  },
  {
   "cell_type": "code",
   "execution_count": null,
   "metadata": {},
   "outputs": [],
   "source": [
    "#Check rows where most values are null, then drop"
   ]
  },
  {
   "cell_type": "code",
   "execution_count": null,
   "metadata": {},
   "outputs": [],
   "source": [
    "#Convert categorical features into dummies using sklearn DictVectorizer"
   ]
  },
  {
   "cell_type": "markdown",
   "metadata": {},
   "source": [
    "### Summary statistics"
   ]
  },
  {
   "cell_type": "code",
   "execution_count": null,
   "metadata": {},
   "outputs": [],
   "source": [
    "#Correlation matrix"
   ]
  },
  {
   "cell_type": "code",
   "execution_count": 40,
   "metadata": {},
   "outputs": [
    {
     "data": {
      "text/plain": [
       "<AxesSubplot:ylabel='Frequency'>"
      ]
     },
     "execution_count": 40,
     "metadata": {},
     "output_type": "execute_result"
    },
    {
     "data": {
      "image/png": "[encoded data removed]",
      "text/plain": [
       "<Figure size 432x288 with 1 Axes>"
      ]
     },
     "metadata": {
      "needs_background": "light"
     },
     "output_type": "display_data"
    }
   ],
   "source": [
    "#Histograms of continuous variables"
   ]
  },
  {
   "cell_type": "markdown",
   "metadata": {},
   "source": [
    "## Methodology"
   ]
  },
  {
   "cell_type": "code",
   "execution_count": 4,
   "metadata": {},
   "outputs": [],
   "source": [
    "#Write function to tune hyperparameters for each classifier with GridSearchCV"
   ]
  },
  {
   "cell_type": "markdown",
   "metadata": {},
   "source": [
    "### Random Forest classifier"
   ]
  },
  {
   "cell_type": "code",
   "execution_count": null,
   "metadata": {},
   "outputs": [],
   "source": [
    "#Tune hyperparameters using GridSearchCV"
   ]
  },
  {
   "cell_type": "markdown",
   "metadata": {},
   "source": [
    "### k-Nearest Neighbours classifier"
   ]
  },
  {
   "cell_type": "code",
   "execution_count": null,
   "metadata": {},
   "outputs": [],
   "source": [
    "#Tune hyperparameters using GridSearchCV"
   ]
  },
  {
   "cell_type": "markdown",
   "metadata": {},
   "source": [
    "## Results and Discussion"
   ]
  },
  {
   "cell_type": "code",
   "execution_count": 3,
   "metadata": {},
   "outputs": [],
   "source": [
    "#Metrics for each classifier (table)"
   ]
  },
  {
   "cell_type": "code",
   "execution_count": null,
   "metadata": {},
   "outputs": [],
   "source": [
    "#Confusion matrix for each classifier (figure)"
   ]
  },
  {
   "cell_type": "code",
   "execution_count": null,
   "metadata": {},
   "outputs": [],
   "source": [
    "#Map of false positives for each classifier"
   ]
  },
  {
   "cell_type": "code",
   "execution_count": null,
   "metadata": {},
   "outputs": [],
   "source": [
    "#Map of false negatives for each classifier"
   ]
  },
  {
   "cell_type": "markdown",
   "metadata": {},
   "source": [
    "## Conclusion"
   ]
  },
  {
   "cell_type": "markdown",
   "metadata": {},
   "source": [
    "## References"
   ]
  },
  {
   "cell_type": "code",
   "execution_count": null,
   "metadata": {},
   "outputs": [],
   "source": []
  }
 ],
 "metadata": {
  "kernelspec": {
   "display_name": "Python 3",
   "language": "python",
   "name": "python3"
  },
  "language_info": {
   "codemirror_mode": {
    "name": "ipython",
    "version": 3
   },
   "file_extension": ".py",
   "mimetype": "text/x-python",
   "name": "python",
   "nbconvert_exporter": "python",
   "pygments_lexer": "ipython3",
   "version": "3.7.8"
  }
 },
 "nbformat": 4,
 "nbformat_minor": 4
}
