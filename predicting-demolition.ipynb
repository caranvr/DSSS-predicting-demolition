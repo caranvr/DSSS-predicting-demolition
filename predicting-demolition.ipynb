{
 "cells": [
  {
   "cell_type": "code",
   "execution_count": 1,
   "metadata": {},
   "outputs": [],
   "source": [
    "import pandas as pd\n",
    "import numpy as np\n",
    "import geopandas as gpd\n",
    "from shapely.geometry import Point, MultiPoint\n",
    "from scipy.spatial import cKDTree\n",
    "import matplotlib.pyplot as plt\n",
    "\n",
    "from sklearn.preprocessing import LabelEncoder\n",
    "from sklearn.feature_extraction import DictVectorizer\n",
    "from sklearn.model_selection import train_test_split\n",
    "from sklearn.ensemble import RandomForestClassifier\n",
    "from sklearn import model_selection"
   ]
  },
  {
   "cell_type": "markdown",
   "metadata": {},
   "source": [
    "# Predicting building demolition risk in Philadelphia's residential neighbourhoods, 2018-2021"
   ]
  },
  {
   "cell_type": "markdown",
   "metadata": {},
   "source": [
    "## Introduction and Literature Review\n"
   ]
  },
  {
   "cell_type": "markdown",
   "metadata": {},
   "source": [
    "## Presentation of Data\n",
    "### Data collection\n",
    "#### Property characteristics"
   ]
  },
  {
   "cell_type": "code",
   "execution_count": 2,
   "metadata": {},
   "outputs": [],
   "source": [
    "#Get data on private demolitions post-2015 from API\n",
    "demolitions = pd.read_csv(\"https://phl.carto.com/api/v2/sql?format=CSV&q=SELECT%20address,%20typeofwork%20FROM%20demolitions%20WHERE%20city_demo%20=%20%27NO%27%20AND%20start_date%20>=%20%272018-01-01%27\")"
   ]
  },
  {
   "cell_type": "code",
   "execution_count": 3,
   "metadata": {},
   "outputs": [],
   "source": [
    "demolitions.drop(index=demolitions[demolitions['typeofwork'] == 'TANKRI'].index, inplace=True) #drop tank removals"
   ]
  },
  {
   "cell_type": "code",
   "execution_count": 4,
   "metadata": {},
   "outputs": [
    {
     "data": {
      "text/plain": [
       "(1333, 2)"
      ]
     },
     "execution_count": 4,
     "metadata": {},
     "output_type": "execute_result"
    }
   ],
   "source": [
    "demolitions.shape"
   ]
  },
  {
   "cell_type": "code",
   "execution_count": 5,
   "metadata": {},
   "outputs": [],
   "source": [
    "#Get selected features of all properties in Philadelphia\n",
    "chunks = []\n",
    "dtypes = {\n",
    "    'lng': 'float64',\n",
    "    'lat': 'float64',\n",
    "    'location': 'object',\n",
    "    'category_code_description': 'category',\n",
    "    'interior_condition': 'category', #ordinal scale, therefore encoding this feature as a category\n",
    "    'exterior_condition': 'category',\n",
    "    'total_area': 'float64',\n",
    "    'year_built': 'object',\n",
    "    'parcel_number': 'object',\n",
    "    'census_tract': 'object'\n",
    "}\n",
    "\n",
    "chunked_df = pd.read_csv('https://phl.carto.com/api/v2/sql?format=CSV&q=SELECT%20ST_X(the_geom)%20AS%20lng,%20ST_Y(the_geom)%20AS%20lat,%20location,%20category_code_description,%20interior_condition,%20exterior_condition,%20total_area,%20year_built,%20parcel_number,%20census_tract%20FROM%20opa_properties_public', \n",
    "                         dtype=dtypes,\n",
    "                         chunksize=40000)\n",
    "\n",
    "for chunk in chunked_df:\n",
    "    chunk['demolition'] = chunk['location'].isin(demolitions['address']).astype(np.int8) #create binary field encoding whether or not an address is associated with a demolition permit\n",
    "    chunks.append(chunk)"
   ]
  },
  {
   "cell_type": "code",
   "execution_count": 6,
   "metadata": {},
   "outputs": [],
   "source": [
    "properties = pd.concat(chunks)"
   ]
  },
  {
   "cell_type": "code",
   "execution_count": 7,
   "metadata": {},
   "outputs": [
    {
     "data": {
      "text/plain": [
       "(581456, 11)"
      ]
     },
     "execution_count": 7,
     "metadata": {},
     "output_type": "execute_result"
    }
   ],
   "source": [
    "properties.shape"
   ]
  },
  {
   "cell_type": "code",
   "execution_count": 8,
   "metadata": {},
   "outputs": [
    {
     "data": {
      "text/html": [
       "<div>\n",
       "<style scoped>\n",
       "    .dataframe tbody tr th:only-of-type {\n",
       "        vertical-align: middle;\n",
       "    }\n",
       "\n",
       "    .dataframe tbody tr th {\n",
       "        vertical-align: top;\n",
       "    }\n",
       "\n",
       "    .dataframe thead th {\n",
       "        text-align: right;\n",
       "    }\n",
       "</style>\n",
       "<table border=\"1\" class=\"dataframe\">\n",
       "  <thead>\n",
       "    <tr style=\"text-align: right;\">\n",
       "      <th></th>\n",
       "      <th>lng</th>\n",
       "      <th>lat</th>\n",
       "      <th>location</th>\n",
       "      <th>category_code_description</th>\n",
       "      <th>interior_condition</th>\n",
       "      <th>exterior_condition</th>\n",
       "      <th>total_area</th>\n",
       "      <th>year_built</th>\n",
       "      <th>parcel_number</th>\n",
       "      <th>census_tract</th>\n",
       "      <th>demolition</th>\n",
       "    </tr>\n",
       "  </thead>\n",
       "  <tbody>\n",
       "    <tr>\n",
       "      <th>178705</th>\n",
       "      <td>-75.175313</td>\n",
       "      <td>39.941645</td>\n",
       "      <td>1937 WEBSTER ST</td>\n",
       "      <td>Single Family</td>\n",
       "      <td>1</td>\n",
       "      <td>1</td>\n",
       "      <td>560.00</td>\n",
       "      <td>2009</td>\n",
       "      <td>301153000</td>\n",
       "      <td>19</td>\n",
       "      <td>0</td>\n",
       "    </tr>\n",
       "    <tr>\n",
       "      <th>325297</th>\n",
       "      <td>-75.222120</td>\n",
       "      <td>39.949605</td>\n",
       "      <td>4926 CEDAR AVE</td>\n",
       "      <td>Single Family</td>\n",
       "      <td>4</td>\n",
       "      <td>4</td>\n",
       "      <td>2557.50</td>\n",
       "      <td>1900</td>\n",
       "      <td>462049700</td>\n",
       "      <td>79</td>\n",
       "      <td>0</td>\n",
       "    </tr>\n",
       "    <tr>\n",
       "      <th>456808</th>\n",
       "      <td>-75.085764</td>\n",
       "      <td>40.063541</td>\n",
       "      <td>7325 ROCKWELL AVE</td>\n",
       "      <td>Multi Family</td>\n",
       "      <td>4</td>\n",
       "      <td>4</td>\n",
       "      <td>2107.65</td>\n",
       "      <td>1976</td>\n",
       "      <td>631112212</td>\n",
       "      <td>339</td>\n",
       "      <td>0</td>\n",
       "    </tr>\n",
       "    <tr>\n",
       "      <th>420850</th>\n",
       "      <td>-75.024949</td>\n",
       "      <td>40.091686</td>\n",
       "      <td>9809 COWDEN ST</td>\n",
       "      <td>Single Family</td>\n",
       "      <td>4</td>\n",
       "      <td>4</td>\n",
       "      <td>2880.00</td>\n",
       "      <td>1965</td>\n",
       "      <td>581461300</td>\n",
       "      <td>355</td>\n",
       "      <td>0</td>\n",
       "    </tr>\n",
       "    <tr>\n",
       "      <th>539993</th>\n",
       "      <td>-75.218908</td>\n",
       "      <td>39.924603</td>\n",
       "      <td>5946 EASTWICK AVE</td>\n",
       "      <td>Vacant Land</td>\n",
       "      <td>NaN</td>\n",
       "      <td>NaN</td>\n",
       "      <td>41231.32</td>\n",
       "      <td>0000</td>\n",
       "      <td>885485860</td>\n",
       "      <td>67</td>\n",
       "      <td>0</td>\n",
       "    </tr>\n",
       "  </tbody>\n",
       "</table>\n",
       "</div>"
      ],
      "text/plain": [
       "              lng        lat           location category_code_description  \\\n",
       "178705 -75.175313  39.941645    1937 WEBSTER ST             Single Family   \n",
       "325297 -75.222120  39.949605     4926 CEDAR AVE             Single Family   \n",
       "456808 -75.085764  40.063541  7325 ROCKWELL AVE              Multi Family   \n",
       "420850 -75.024949  40.091686     9809 COWDEN ST             Single Family   \n",
       "539993 -75.218908  39.924603  5946 EASTWICK AVE               Vacant Land   \n",
       "\n",
       "       interior_condition exterior_condition  total_area year_built  \\\n",
       "178705                  1                  1      560.00       2009   \n",
       "325297                  4                  4     2557.50       1900   \n",
       "456808                  4                  4     2107.65       1976   \n",
       "420850                  4                  4     2880.00       1965   \n",
       "539993                NaN                NaN    41231.32       0000   \n",
       "\n",
       "       parcel_number census_tract  demolition  \n",
       "178705     301153000          19            0  \n",
       "325297     462049700          79            0  \n",
       "456808     631112212          339           0  \n",
       "420850     581461300          355           0  \n",
       "539993     885485860          67            0  "
      ]
     },
     "execution_count": 8,
     "metadata": {},
     "output_type": "execute_result"
    }
   ],
   "source": [
    "properties.sample(5)"
   ]
  },
  {
   "cell_type": "markdown",
   "metadata": {},
   "source": [
    "The most comprehensive property dataset is the most recent one. However, for 86.3% of properties with an associated demolition permit, the property assessment on file is for prior to their demolition, or the building has not yet been demolished. The remaining properties have been re-assessed since their demolition and are now listed as vacant land. Since the model includes building characteristics, and these features are not available for properties classed as 'Vacant Land', demolished properties that have been re-assessed since their demolition were dropped from the dataset. "
   ]
  },
  {
   "cell_type": "code",
   "execution_count": 9,
   "metadata": {},
   "outputs": [
    {
     "data": {
      "text/plain": [
       "category_code_description  demolition\n",
       "Commercial                 0              13921\n",
       "                           1                138\n",
       "Industrial                 0               4275\n",
       "                           1                 79\n",
       "Mixed Use                  0              14324\n",
       "                           1                 72\n",
       "Multi Family               0              42316\n",
       "                           1                146\n",
       "Single Family              0             460990\n",
       "                           1                583\n",
       "Vacant Land                0              44450\n",
       "                           1                162\n",
       "dtype: int64"
      ]
     },
     "execution_count": 9,
     "metadata": {},
     "output_type": "execute_result"
    }
   ],
   "source": [
    "properties.groupby(['category_code_description', 'demolition']).size()"
   ]
  },
  {
   "cell_type": "code",
   "execution_count": 10,
   "metadata": {},
   "outputs": [],
   "source": [
    "properties.drop(index=properties[properties['category_code_description'] == 'Vacant Land'].index, inplace=True)"
   ]
  },
  {
   "cell_type": "code",
   "execution_count": 11,
   "metadata": {},
   "outputs": [
    {
     "data": {
      "text/plain": [
       "(536844, 11)"
      ]
     },
     "execution_count": 11,
     "metadata": {},
     "output_type": "execute_result"
    }
   ],
   "source": [
    "properties.shape"
   ]
  },
  {
   "cell_type": "code",
   "execution_count": 45,
   "metadata": {},
   "outputs": [],
   "source": [
    "#Load in market value for properties in 2018\n",
    "value18 = pd.read_csv('https://phl.carto.com/api/v2/sql?format=CSV&q=SELECT%20parcel_number,%20market_value%20FROM%20assessments%20WHERE%20year%20=%202018',\n",
    "                     dtype={\n",
    "                         'parcel_number': 'object',\n",
    "                         'market_value': 'float64'\n",
    "                     })"
   ]
  },
  {
   "cell_type": "code",
   "execution_count": 13,
   "metadata": {},
   "outputs": [],
   "source": [
    "properties = pd.merge(properties, value18, how='left', on='parcel_number')"
   ]
  },
  {
   "cell_type": "code",
   "execution_count": 14,
   "metadata": {},
   "outputs": [],
   "source": [
    "#Drop properties with text or null values in year_built field\n",
    "properties.drop(index=properties[properties['year_built'].str.contains(r'[A-Za-z]+', na=True)].index, inplace=True)\n",
    "properties['year_built'] = properties['year_built'].astype('int64')"
   ]
  },
  {
   "cell_type": "code",
   "execution_count": 15,
   "metadata": {},
   "outputs": [],
   "source": [
    "#Drop properties constructed after 2018\n",
    "properties.drop(index=properties[properties['year_built'] > 2018].index, inplace=True)\n",
    "\n",
    "#Add field encoding age of properties in 2018\n",
    "properties['age'] = 2018 - properties['year_built']"
   ]
  },
  {
   "cell_type": "markdown",
   "metadata": {},
   "source": [
    "#### Distance attributes"
   ]
  },
  {
   "cell_type": "code",
   "execution_count": 16,
   "metadata": {},
   "outputs": [],
   "source": [
    "#Drop properties with null lat and long coordinates (they show up in pandas.info() as null, but not in the preview,\n",
    "#but they still cause bugs in spatial operations)\n",
    "properties.drop(index=properties['lat'][properties['lat'].isna()].index, inplace=True)"
   ]
  },
  {
   "cell_type": "code",
   "execution_count": 17,
   "metadata": {},
   "outputs": [],
   "source": [
    "#Convert data frame to georeferenced dataframe to \n",
    "geo_properties = gpd.GeoDataFrame(properties,\n",
    "                                  geometry=gpd.points_from_xy(properties.lng, properties.lat))"
   ]
  },
  {
   "cell_type": "code",
   "execution_count": 18,
   "metadata": {},
   "outputs": [],
   "source": [
    "geo_properties.set_crs('epsg:4326', inplace=True) #set projection to WGS84\n",
    "geo_properties.to_crs('epsg:2272', inplace=True) #reproject to NAD 1983 for southern PA\n",
    "geo_properties.set_index('parcel_number', inplace=True) #set index"
   ]
  },
  {
   "cell_type": "code",
   "execution_count": 19,
   "metadata": {},
   "outputs": [],
   "source": [
    "del(properties) #save memory"
   ]
  },
  {
   "cell_type": "markdown",
   "metadata": {},
   "source": [
    "##### Distance to City Hall"
   ]
  },
  {
   "cell_type": "code",
   "execution_count": 20,
   "metadata": {},
   "outputs": [
    {
     "data": {
      "text/plain": [
       "0    POINT (2693536.305 236112.283)\n",
       "dtype: geometry"
      ]
     },
     "execution_count": 20,
     "metadata": {},
     "output_type": "execute_result"
    }
   ],
   "source": [
    "#Get Easting and Northing coordinates for City Hall\n",
    "city_hall = gpd.GeoSeries(Point(-75.1635112, 39.952335), crs=4326)\n",
    "city_hall.to_crs('epsg:2272') #reproject to NAD 1983"
   ]
  },
  {
   "cell_type": "code",
   "execution_count": 21,
   "metadata": {},
   "outputs": [],
   "source": [
    "#Turn City Hall into point object\n",
    "city_hall = Point(2693536.305, 236112.283)\n",
    "\n",
    "#Add field with distance to City Hall\n",
    "geo_properties['dist_city_hall'] = geo_properties.distance(city_hall)\n",
    "\n",
    "#Convert from feet to miles\n",
    "geo_properties['dist_city_hall'] = geo_properties['dist_city_hall'] * 0.000189394"
   ]
  },
  {
   "cell_type": "markdown",
   "metadata": {},
   "source": [
    "##### Distance to nearest public transportation stop"
   ]
  },
  {
   "cell_type": "code",
   "execution_count": 22,
   "metadata": {},
   "outputs": [],
   "source": [
    "#Import public transportation shapefiles\n",
    "\n",
    "##Trolley stops (within Philadelphia county)\n",
    "trolley = gpd.read_file('https://services2.arcgis.com/9U43PSoL47wawX5S/arcgis/rest/services/Trolley_Stops1/FeatureServer/0/query?where=1%3D1&outFields=Route&outSR=4326&f=json')\n",
    "\n",
    "##MFL stops\n",
    "MFL = gpd.read_file('https://services2.arcgis.com/9U43PSoL47wawX5S/arcgis/rest/services/Market_Frankford_Line_Stations/FeatureServer/0/query?where=1%3D1&outFields=Route&outSR=4326&f=json')\n",
    "\n",
    "##BSL stops\n",
    "BSL = gpd.read_file('https://services2.arcgis.com/9U43PSoL47wawX5S/arcgis/rest/services/Broad_Street_Line_Stations/FeatureServer/0/query?where=1%3D1&outFields=Route&outSR=4326&f=json')\n",
    "\n",
    "##Regional Rail stops (within Philadelphia County)\n",
    "RR = gpd.read_file('https://services2.arcgis.com/9U43PSoL47wawX5S/arcgis/rest/services/Regional_Rail_Stations/FeatureServer/0/query?where=1%3D1&outFields=Line_Name,County&outSR=4326&f=json')"
   ]
  },
  {
   "cell_type": "code",
   "execution_count": 23,
   "metadata": {},
   "outputs": [],
   "source": [
    "#Drop Regional Rail stations that aren't in Philadelphia\n",
    "RR.drop(index=RR[RR['County'] != 'Philadelphia'].index, inplace=True)\n",
    "RR.drop(columns='County', inplace=True)\n",
    "RR.rename(columns={'Line_Name': 'Route'}, inplace=True)"
   ]
  },
  {
   "cell_type": "code",
   "execution_count": 24,
   "metadata": {},
   "outputs": [],
   "source": [
    "##Concatenate transportation stops into one gdf of all transportation stops\n",
    "transport = pd.concat([trolley, MFL, BSL, RR])\n",
    "transport.to_crs('epsg:2272', inplace=True)"
   ]
  },
  {
   "cell_type": "code",
   "execution_count": 47,
   "metadata": {},
   "outputs": [],
   "source": [
    "#delete individual transport files to save memory\n",
    "del(trolley)\n",
    "del(MFL)\n",
    "del(BSL)\n",
    "del(RR)"
   ]
  },
  {
   "cell_type": "code",
   "execution_count": 25,
   "metadata": {},
   "outputs": [],
   "source": [
    "#Finding distance of each property to closest transport stop using scipy spatial cKDTree (fastest method)\n",
    "def nearest_transport(props, transport):   \n",
    "    '''Constructs cKDTree of transport stops, then returns Series of distances to closest transport stop\n",
    "    for each property'''\n",
    "    \n",
    "    #Convert geometry columns to arrays\n",
    "    prop_array = np.array(list(zip(props.geometry.x, props.geometry.y)))\n",
    "    transport_array = np.array(list(zip(transport.geometry.x, transport.geometry.y)))\n",
    "    \n",
    "    #Construct cKDTree of transportation stops\n",
    "    tree = cKDTree(transport_array)\n",
    "    \n",
    "    #Query tree to find distance to closest transport stop\n",
    "    dist, idx = tree.query(prop_array,k=1) #dist is array of distances to closest point, idx is array of indices of closest points (not needed)\n",
    "    \n",
    "    #Since Easting and Northing are in feet, distances have to be converted to miles\n",
    "    f = lambda x: x * 0.000189394\n",
    "    dist_miles = f(dist) \n",
    "    \n",
    "    return pd.Series(dist_miles, name='dist_to_transport', index=props.index)"
   ]
  },
  {
   "cell_type": "code",
   "execution_count": 26,
   "metadata": {},
   "outputs": [],
   "source": [
    "geo_properties['dist_to_transport'] = nearest_transport(geo_properties, transport)"
   ]
  },
  {
   "cell_type": "markdown",
   "metadata": {},
   "source": [
    "#### Neighbourhood attributes (change from 2000 to 2018)"
   ]
  },
  {
   "cell_type": "code",
   "execution_count": 27,
   "metadata": {},
   "outputs": [],
   "source": [
    "#Function to extract Philadelphia from LTDB data (2000 Census)\n",
    "def get_phl_data(fname):\n",
    "    if fname == 'https://github.com/caranvr/DSSS-predicting-demolition/blob/main/data/LTDB_Std_2000_fullcount/LTDB_Std_2000_fullcount.csv?raw=true':\n",
    "        cols = ['TRTID10', 'tract', 'county', 'POP00', 'NHWHT00', 'NHBLK00', 'HISP00', 'HU00', 'OWN00', 'RENT00']\n",
    "    elif fname == 'https://github.com/caranvr/DSSS-predicting-demolition/blob/main/data/LTDB_Std_2000_Sample.csv?raw=true':\n",
    "        cols = ['TRTID10', 'county', 'AG25UP00', 'COL00', 'HINC00']\n",
    "    \n",
    "    full_df = pd.read_csv(fname, usecols=cols)\n",
    "    \n",
    "    df = full_df.loc[\n",
    "        full_df['county'] == 'Philadelphia County'\n",
    "    ].copy()\n",
    "    \n",
    "    del(full_df)\n",
    "    return df"
   ]
  },
  {
   "cell_type": "code",
   "execution_count": 28,
   "metadata": {},
   "outputs": [],
   "source": [
    "#Load in full count and sample data for 2000, adjusted to 2010 boundaries\n",
    "census00 = get_phl_data('https://github.com/caranvr/DSSS-predicting-demolition/blob/main/data/LTDB_Std_2000_fullcount/LTDB_Std_2000_fullcount.csv?raw=true')\n",
    "census00_sample = get_phl_data('https://github.com/caranvr/DSSS-predicting-demolition/blob/main/data/LTDB_Std_2000_Sample.csv?raw=true')"
   ]
  },
  {
   "cell_type": "code",
   "execution_count": 29,
   "metadata": {},
   "outputs": [],
   "source": [
    "phl00 = pd.merge(census00, census00_sample, on='TRTID10')"
   ]
  },
  {
   "cell_type": "code",
   "execution_count": 30,
   "metadata": {},
   "outputs": [],
   "source": [
    "phl00.set_index('TRTID10', inplace=True)"
   ]
  },
  {
   "cell_type": "code",
   "execution_count": 31,
   "metadata": {},
   "outputs": [],
   "source": [
    "#Find percentage of population for relevant variables\n",
    "def convert_to_pc(df, cols, denominator):\n",
    "    for c in cols:\n",
    "        df[c] = (df[c]/df[denominator])*100\n",
    "    return df\n",
    "\n",
    "pop_cols = ['NHWHT00', 'NHBLK00', 'HISP00', 'COL00'] #divide by POP00\n",
    "hu_cols = ['OWN00', 'RENT00'] #divide by HU00\n",
    "edu_col = ['COL00'] #divide by age 25 up column\n",
    "\n",
    "phl00 = convert_to_pc(phl00, pop_cols, 'POP00')\n",
    "phl00 = convert_to_pc(phl00, hu_cols, 'HU00')\n",
    "phl00 = convert_to_pc(phl00, edu_col, 'AG25UP00')"
   ]
  },
  {
   "cell_type": "code",
   "execution_count": 32,
   "metadata": {},
   "outputs": [
    {
     "data": {
      "text/html": [
       "<div>\n",
       "<style scoped>\n",
       "    .dataframe tbody tr th:only-of-type {\n",
       "        vertical-align: middle;\n",
       "    }\n",
       "\n",
       "    .dataframe tbody tr th {\n",
       "        vertical-align: top;\n",
       "    }\n",
       "\n",
       "    .dataframe thead th {\n",
       "        text-align: right;\n",
       "    }\n",
       "</style>\n",
       "<table border=\"1\" class=\"dataframe\">\n",
       "  <thead>\n",
       "    <tr style=\"text-align: right;\">\n",
       "      <th></th>\n",
       "      <th>county_x</th>\n",
       "      <th>tract</th>\n",
       "      <th>POP00</th>\n",
       "      <th>NHWHT00</th>\n",
       "      <th>NHBLK00</th>\n",
       "      <th>HISP00</th>\n",
       "      <th>HU00</th>\n",
       "      <th>OWN00</th>\n",
       "      <th>RENT00</th>\n",
       "      <th>county_y</th>\n",
       "      <th>AG25UP00</th>\n",
       "      <th>COL00</th>\n",
       "      <th>HINC00</th>\n",
       "    </tr>\n",
       "    <tr>\n",
       "      <th>TRTID10</th>\n",
       "      <th></th>\n",
       "      <th></th>\n",
       "      <th></th>\n",
       "      <th></th>\n",
       "      <th></th>\n",
       "      <th></th>\n",
       "      <th></th>\n",
       "      <th></th>\n",
       "      <th></th>\n",
       "      <th></th>\n",
       "      <th></th>\n",
       "      <th></th>\n",
       "      <th></th>\n",
       "    </tr>\n",
       "  </thead>\n",
       "  <tbody>\n",
       "    <tr>\n",
       "      <th>42101000200</th>\n",
       "      <td>Philadelphia County</td>\n",
       "      <td>Census Tract 2</td>\n",
       "      <td>1362.000000</td>\n",
       "      <td>11.160059</td>\n",
       "      <td>5.726872</td>\n",
       "      <td>1.688693</td>\n",
       "      <td>509.000000</td>\n",
       "      <td>16.699411</td>\n",
       "      <td>73.477407</td>\n",
       "      <td>Philadelphia County</td>\n",
       "      <td>903.000000</td>\n",
       "      <td>1.585513</td>\n",
       "      <td>8349</td>\n",
       "    </tr>\n",
       "    <tr>\n",
       "      <th>42101004102</th>\n",
       "      <td>Philadelphia County</td>\n",
       "      <td>Census Tract 41.02</td>\n",
       "      <td>7316.000000</td>\n",
       "      <td>63.340623</td>\n",
       "      <td>11.591033</td>\n",
       "      <td>4.852378</td>\n",
       "      <td>2999.000000</td>\n",
       "      <td>59.386462</td>\n",
       "      <td>29.476492</td>\n",
       "      <td>Philadelphia County</td>\n",
       "      <td>4604.000000</td>\n",
       "      <td>0.049283</td>\n",
       "      <td>22819</td>\n",
       "    </tr>\n",
       "    <tr>\n",
       "      <th>42101030502</th>\n",
       "      <td>Philadelphia County</td>\n",
       "      <td>Census Tract 305.02</td>\n",
       "      <td>5255.000235</td>\n",
       "      <td>60.882815</td>\n",
       "      <td>19.927252</td>\n",
       "      <td>14.068030</td>\n",
       "      <td>2060.257568</td>\n",
       "      <td>72.241731</td>\n",
       "      <td>22.693080</td>\n",
       "      <td>Philadelphia County</td>\n",
       "      <td>3265.518799</td>\n",
       "      <td>0.250174</td>\n",
       "      <td>35447.99938</td>\n",
       "    </tr>\n",
       "    <tr>\n",
       "      <th>42101011900</th>\n",
       "      <td>Philadelphia County</td>\n",
       "      <td>Census Tract 119</td>\n",
       "      <td>5596.000000</td>\n",
       "      <td>1.983560</td>\n",
       "      <td>95.425304</td>\n",
       "      <td>1.161544</td>\n",
       "      <td>2448.000000</td>\n",
       "      <td>51.429739</td>\n",
       "      <td>38.562092</td>\n",
       "      <td>Philadelphia County</td>\n",
       "      <td>3651.000000</td>\n",
       "      <td>0.264304</td>\n",
       "      <td>28507</td>\n",
       "    </tr>\n",
       "    <tr>\n",
       "      <th>42101006000</th>\n",
       "      <td>Philadelphia County</td>\n",
       "      <td>Census Tract 60</td>\n",
       "      <td>6210.930886</td>\n",
       "      <td>53.584838</td>\n",
       "      <td>40.676858</td>\n",
       "      <td>1.399198</td>\n",
       "      <td>2677.928871</td>\n",
       "      <td>67.593383</td>\n",
       "      <td>26.143236</td>\n",
       "      <td>Philadelphia County</td>\n",
       "      <td>4117.648911</td>\n",
       "      <td>0.163964</td>\n",
       "      <td>31378.3433</td>\n",
       "    </tr>\n",
       "  </tbody>\n",
       "</table>\n",
       "</div>"
      ],
      "text/plain": [
       "                        county_x                tract        POP00    NHWHT00  \\\n",
       "TRTID10                                                                         \n",
       "42101000200  Philadelphia County       Census Tract 2  1362.000000  11.160059   \n",
       "42101004102  Philadelphia County   Census Tract 41.02  7316.000000  63.340623   \n",
       "42101030502  Philadelphia County  Census Tract 305.02  5255.000235  60.882815   \n",
       "42101011900  Philadelphia County     Census Tract 119  5596.000000   1.983560   \n",
       "42101006000  Philadelphia County      Census Tract 60  6210.930886  53.584838   \n",
       "\n",
       "               NHBLK00     HISP00         HU00      OWN00     RENT00  \\\n",
       "TRTID10                                                                \n",
       "42101000200   5.726872   1.688693   509.000000  16.699411  73.477407   \n",
       "42101004102  11.591033   4.852378  2999.000000  59.386462  29.476492   \n",
       "42101030502  19.927252  14.068030  2060.257568  72.241731  22.693080   \n",
       "42101011900  95.425304   1.161544  2448.000000  51.429739  38.562092   \n",
       "42101006000  40.676858   1.399198  2677.928871  67.593383  26.143236   \n",
       "\n",
       "                        county_y     AG25UP00     COL00       HINC00  \n",
       "TRTID10                                                               \n",
       "42101000200  Philadelphia County   903.000000  1.585513         8349  \n",
       "42101004102  Philadelphia County  4604.000000  0.049283        22819  \n",
       "42101030502  Philadelphia County  3265.518799  0.250174  35447.99938  \n",
       "42101011900  Philadelphia County  3651.000000  0.264304        28507  \n",
       "42101006000  Philadelphia County  4117.648911  0.163964   31378.3433  "
      ]
     },
     "execution_count": 32,
     "metadata": {},
     "output_type": "execute_result"
    }
   ],
   "source": [
    "phl00.sample(5)"
   ]
  },
  {
   "cell_type": "code",
   "execution_count": 33,
   "metadata": {},
   "outputs": [],
   "source": [
    "#Get Census data from API (ACS 5-year estimates from 2013 to 2018)\n",
    "key = 'c0c4631460ee7868c6c89b3e7d58e9941bd285d7' #API access key\n",
    "variables = ['B01001_001E', 'B03002_003E', 'B03002_004E', 'B03001_003E', 'B25003_001E', 'B25003_002E', 'B25003_003E', 'B15002_001E',\n",
    "            'B15003_022E', 'B15003_023E', 'B15003_024E', 'B15003_025E', 'B19013_001E']\n",
    "state = '42' #state code\n",
    "county = '101' #county code\n",
    "\n",
    "url = 'https://api.census.gov/data/2018/acs/acs5?get=' + \",\".join(variables) + '&for=tract:*&in=state:' + state + '&in=county:' + county + '&key=' + key\n",
    "phl18 = pd.read_json(url)"
   ]
  },
  {
   "cell_type": "code",
   "execution_count": 34,
   "metadata": {},
   "outputs": [],
   "source": [
    "#Column names are in first row - make sure column names are in the right place\n",
    "phl18.columns = phl18.iloc[0]\n",
    "phl18.drop(index=phl18.index[0], axis=0, inplace=True)"
   ]
  },
  {
   "cell_type": "code",
   "execution_count": 35,
   "metadata": {},
   "outputs": [],
   "source": [
    "#Convert numeric variables to ints\n",
    "for v in variables:\n",
    "    phl18[v] = phl18[v].astype('float').astype('Int64')"
   ]
  },
  {
   "cell_type": "code",
   "execution_count": 36,
   "metadata": {},
   "outputs": [],
   "source": [
    "#Create new index for joining 2000 and 2013-18 Census data\n",
    "phl18['TRTID10'] = (phl18['state'] + phl18['county'] + phl18['tract']).astype('int')\n",
    "phl18.set_index('TRTID10', inplace=True)"
   ]
  },
  {
   "cell_type": "code",
   "execution_count": 37,
   "metadata": {},
   "outputs": [],
   "source": [
    "#Drop non-residential Census tracts\n",
    "phl18.drop(index=phl18[phl18['B01001_001E'] == 0].index, inplace=True)"
   ]
  },
  {
   "cell_type": "code",
   "execution_count": 38,
   "metadata": {},
   "outputs": [
    {
     "data": {
      "text/html": [
       "<div>\n",
       "<style scoped>\n",
       "    .dataframe tbody tr th:only-of-type {\n",
       "        vertical-align: middle;\n",
       "    }\n",
       "\n",
       "    .dataframe tbody tr th {\n",
       "        vertical-align: top;\n",
       "    }\n",
       "\n",
       "    .dataframe thead th {\n",
       "        text-align: right;\n",
       "    }\n",
       "</style>\n",
       "<table border=\"1\" class=\"dataframe\">\n",
       "  <thead>\n",
       "    <tr style=\"text-align: right;\">\n",
       "      <th></th>\n",
       "      <th>B01001_001E</th>\n",
       "      <th>B03002_003E</th>\n",
       "      <th>B03002_004E</th>\n",
       "      <th>B03001_003E</th>\n",
       "      <th>B25003_001E</th>\n",
       "      <th>B25003_002E</th>\n",
       "      <th>B25003_003E</th>\n",
       "      <th>B15002_001E</th>\n",
       "      <th>B15003_022E</th>\n",
       "      <th>B15003_023E</th>\n",
       "      <th>B15003_024E</th>\n",
       "      <th>B15003_025E</th>\n",
       "      <th>B19013_001E</th>\n",
       "      <th>state</th>\n",
       "      <th>county</th>\n",
       "      <th>tract</th>\n",
       "    </tr>\n",
       "    <tr>\n",
       "      <th>TRTID10</th>\n",
       "      <th></th>\n",
       "      <th></th>\n",
       "      <th></th>\n",
       "      <th></th>\n",
       "      <th></th>\n",
       "      <th></th>\n",
       "      <th></th>\n",
       "      <th></th>\n",
       "      <th></th>\n",
       "      <th></th>\n",
       "      <th></th>\n",
       "      <th></th>\n",
       "      <th></th>\n",
       "      <th></th>\n",
       "      <th></th>\n",
       "      <th></th>\n",
       "    </tr>\n",
       "  </thead>\n",
       "  <tbody>\n",
       "    <tr>\n",
       "      <th>42101980100</th>\n",
       "      <td>24</td>\n",
       "      <td>24</td>\n",
       "      <td>0</td>\n",
       "      <td>0</td>\n",
       "      <td>8</td>\n",
       "      <td>4</td>\n",
       "      <td>4</td>\n",
       "      <td>20</td>\n",
       "      <td>6</td>\n",
       "      <td>0</td>\n",
       "      <td>0</td>\n",
       "      <td>4</td>\n",
       "      <td>-666666666</td>\n",
       "      <td>42</td>\n",
       "      <td>101</td>\n",
       "      <td>980100</td>\n",
       "    </tr>\n",
       "    <tr>\n",
       "      <th>42101989100</th>\n",
       "      <td>2107</td>\n",
       "      <td>190</td>\n",
       "      <td>1538</td>\n",
       "      <td>346</td>\n",
       "      <td>0</td>\n",
       "      <td>0</td>\n",
       "      <td>0</td>\n",
       "      <td>1484</td>\n",
       "      <td>9</td>\n",
       "      <td>0</td>\n",
       "      <td>0</td>\n",
       "      <td>0</td>\n",
       "      <td>-666666666</td>\n",
       "      <td>42</td>\n",
       "      <td>101</td>\n",
       "      <td>989100</td>\n",
       "    </tr>\n",
       "  </tbody>\n",
       "</table>\n",
       "</div>"
      ],
      "text/plain": [
       "0            B01001_001E  B03002_003E  B03002_004E  B03001_003E  B25003_001E  \\\n",
       "TRTID10                                                                        \n",
       "42101980100           24           24            0            0            8   \n",
       "42101989100         2107          190         1538          346            0   \n",
       "\n",
       "0            B25003_002E  B25003_003E  B15002_001E  B15003_022E  B15003_023E  \\\n",
       "TRTID10                                                                        \n",
       "42101980100            4            4           20            6            0   \n",
       "42101989100            0            0         1484            9            0   \n",
       "\n",
       "0            B15003_024E  B15003_025E  B19013_001E state county   tract  \n",
       "TRTID10                                                                  \n",
       "42101980100            0            4   -666666666    42    101  980100  \n",
       "42101989100            0            0   -666666666    42    101  989100  "
      ]
     },
     "execution_count": 38,
     "metadata": {},
     "output_type": "execute_result"
    }
   ],
   "source": [
    "#Check for nulls, since they aren't encoded as nans\n",
    "check_nulls = phl18[variables].lt(0).sum(axis=1)\n",
    "null_rows = check_nulls[check_nulls > 0]\n",
    "phl18.loc[null_rows.index]"
   ]
  },
  {
   "cell_type": "code",
   "execution_count": 39,
   "metadata": {},
   "outputs": [],
   "source": [
    "#Convert nulls to actual nans so they don't mess up the calculations\n",
    "phl18['B19013_001E'] = phl18['B19013_001E'].replace(-666666666, np.nan)"
   ]
  },
  {
   "cell_type": "code",
   "execution_count": 40,
   "metadata": {},
   "outputs": [],
   "source": [
    "#Add up post-college education fields\n",
    "phl18['COL18'] = phl18['B15003_022E'] + phl18['B15003_023E'] + phl18['B15003_024E'] + phl18['B15003_025E']\n",
    "\n",
    "pop_cols18 = ['B03002_003E', 'B03002_004E', 'B03001_003E']\n",
    "hu_cols18 = ['B25003_002E', 'B25003_003E']\n",
    "edu_col18 = ['COL18']\n",
    "\n",
    "#Convert selected variables to percentage fields\n",
    "phl18 = convert_to_pc(phl18, pop_cols18, 'B01001_001E')\n",
    "phl18 = convert_to_pc(phl18, hu_cols18, 'B25003_001E')\n",
    "phl18 = convert_to_pc(phl18, edu_col18, 'B15002_001E')"
   ]
  },
  {
   "cell_type": "code",
   "execution_count": 41,
   "metadata": {},
   "outputs": [],
   "source": [
    "#Join 2000 and 2018 Census variables\n",
    "phl_change = pd.merge(phl18, phl00, how='left', left_index=True, right_index=True)"
   ]
  },
  {
   "cell_type": "code",
   "execution_count": 42,
   "metadata": {},
   "outputs": [],
   "source": [
    "#Change household income from 2000 to 2018 dollars\n",
    "phl_change['HINC00'] = phl_change['HINC00'].astype('float') * 1.5382"
   ]
  },
  {
   "cell_type": "code",
   "execution_count": 43,
   "metadata": {},
   "outputs": [],
   "source": [
    "#Lookup for fields encoding percentage point difference from 2000 to 2018\n",
    "pc_diff = {\n",
    "    'B03002_003E': 'NHWHT00',\n",
    "    'B03002_004E': 'NHBLK00',\n",
    "    'B03001_003E': 'HISP00',\n",
    "    'B25003_002E': 'OWN00',\n",
    "    'B25003_003E': 'RENT00',\n",
    "    'COL18': 'COL00'\n",
    "}\n",
    "\n",
    "#Lookup for fields encoding percentage point change from 2000 to 2018 (counts)\n",
    "pc_change = {\n",
    "    'B01001_001E': 'POP00', #total population\n",
    "    'B25003_001E': 'HU00', #total housing units\n",
    "    'B15002_001E': 'AG25UP00', #25+ population\n",
    "    'B19013_001E': 'HINC00' #median household income\n",
    "}\n",
    "\n",
    "#Replace 2000 columns with the percentage change or difference from 2000 to 2018\n",
    "for k,v in pc_diff.items():\n",
    "    phl_change[v] = phl_change[k] - phl_change[v]\n",
    "\n",
    "for k,v in pc_change.items():\n",
    "    phl_change[v] = ((phl_change[k] - phl_change[v])/phl_change[v])*100"
   ]
  },
  {
   "cell_type": "code",
   "execution_count": 55,
   "metadata": {},
   "outputs": [],
   "source": [
    "#Join Census tract data from 2018 to each property (load Census tract shapefile, then gpd sjoin)\n",
    "phl_tracts = gpd.read_file('https://opendata.arcgis.com/datasets/8bc0786524a4486bb3cf0f9862ad0fbf_0.geojson')"
   ]
  },
  {
   "cell_type": "code",
   "execution_count": 57,
   "metadata": {},
   "outputs": [],
   "source": [
    "phl_tracts.rename(columns={'GEOID10': 'TRTID10'}, inplace=True)\n",
    "phl_tracts['TRTID10'] = phl_tracts['TRTID10'].astype('int')\n",
    "phl_tracts.set_index('TRTID10', inplace=True)"
   ]
  },
  {
   "cell_type": "code",
   "execution_count": 59,
   "metadata": {},
   "outputs": [],
   "source": [
    "#Reproject to allow for a spatial join between geo_properties and tracts\n",
    "phl_tracts.to_crs('epsg:2272', inplace=True)"
   ]
  },
  {
   "cell_type": "code",
   "execution_count": 61,
   "metadata": {},
   "outputs": [],
   "source": [
    "phl_change_geo = pd.merge(phl_tracts, phl_change, how='inner', left_index=True, right_index=True)"
   ]
  },
  {
   "cell_type": "code",
   "execution_count": 65,
   "metadata": {},
   "outputs": [],
   "source": [
    "#Spatially join properties to Census tracts (only including residential Census tracts)\n",
    "geo_properties_full = gpd.sjoin(geo_properties, phl_change_geo, op='within')"
   ]
  },
  {
   "cell_type": "code",
   "execution_count": 66,
   "metadata": {},
   "outputs": [],
   "source": [
    "del(geo_properties)"
   ]
  },
  {
   "cell_type": "markdown",
   "metadata": {},
   "source": [
    "### Data cleaning"
   ]
  },
  {
   "cell_type": "code",
   "execution_count": null,
   "metadata": {},
   "outputs": [],
   "source": [
    "#Check for columns where most values are null, then drop"
   ]
  },
  {
   "cell_type": "code",
   "execution_count": null,
   "metadata": {},
   "outputs": [],
   "source": [
    "#Check rows where most values are null, then drop"
   ]
  },
  {
   "cell_type": "code",
   "execution_count": null,
   "metadata": {},
   "outputs": [],
   "source": [
    "#Convert categorical features into dummies using sklearn DictVectorizer"
   ]
  },
  {
   "cell_type": "markdown",
   "metadata": {},
   "source": [
    "### Summary statistics"
   ]
  },
  {
   "cell_type": "code",
   "execution_count": null,
   "metadata": {},
   "outputs": [],
   "source": [
    "#Correlation matrix"
   ]
  },
  {
   "cell_type": "code",
   "execution_count": 40,
   "metadata": {},
   "outputs": [
    {
     "data": {
      "text/plain": [
       "<AxesSubplot:ylabel='Frequency'>"
      ]
     },
     "execution_count": 40,
     "metadata": {},
     "output_type": "execute_result"
    },
    {
     "data": {
      "image/png": "[encoded data removed]",
      "text/plain": [
       "<Figure size 432x288 with 1 Axes>"
      ]
     },
     "metadata": {
      "needs_background": "light"
     },
     "output_type": "display_data"
    }
   ],
   "source": [
    "#Histograms of continuous variables"
   ]
  },
  {
   "cell_type": "markdown",
   "metadata": {},
   "source": [
    "## Methodology"
   ]
  },
  {
   "cell_type": "code",
   "execution_count": 4,
   "metadata": {},
   "outputs": [],
   "source": [
    "#Write function to tune hyperparameters for each classifier with GridSearchCV"
   ]
  },
  {
   "cell_type": "markdown",
   "metadata": {},
   "source": [
    "### Random Forest classifier"
   ]
  },
  {
   "cell_type": "code",
   "execution_count": null,
   "metadata": {},
   "outputs": [],
   "source": [
    "#Tune hyperparameters using GridSearchCV"
   ]
  },
  {
   "cell_type": "markdown",
   "metadata": {},
   "source": [
    "### k-Nearest Neighbours classifier"
   ]
  },
  {
   "cell_type": "code",
   "execution_count": null,
   "metadata": {},
   "outputs": [],
   "source": [
    "#Tune hyperparameters using GridSearchCV"
   ]
  },
  {
   "cell_type": "markdown",
   "metadata": {},
   "source": [
    "## Results and Discussion"
   ]
  },
  {
   "cell_type": "code",
   "execution_count": 3,
   "metadata": {},
   "outputs": [],
   "source": [
    "#Metrics for each classifier (table)"
   ]
  },
  {
   "cell_type": "code",
   "execution_count": null,
   "metadata": {},
   "outputs": [],
   "source": [
    "#Confusion matrix for each classifier (figure)"
   ]
  },
  {
   "cell_type": "code",
   "execution_count": null,
   "metadata": {},
   "outputs": [],
   "source": [
    "#Map of false positives for each classifier"
   ]
  },
  {
   "cell_type": "code",
   "execution_count": null,
   "metadata": {},
   "outputs": [],
   "source": [
    "#Map of false negatives for each classifier"
   ]
  },
  {
   "cell_type": "markdown",
   "metadata": {},
   "source": [
    "## Conclusion"
   ]
  },
  {
   "cell_type": "markdown",
   "metadata": {},
   "source": [
    "## References"
   ]
  },
  {
   "cell_type": "code",
   "execution_count": null,
   "metadata": {},
   "outputs": [],
   "source": []
  }
 ],
 "metadata": {
  "kernelspec": {
   "display_name": "Python 3",
   "language": "python",
   "name": "python3"
  },
  "language_info": {
   "codemirror_mode": {
    "name": "ipython",
    "version": 3
   },
   "file_extension": ".py",
   "mimetype": "text/x-python",
   "name": "python",
   "nbconvert_exporter": "python",
   "pygments_lexer": "ipython3",
   "version": "3.7.8"
  }
 },
 "nbformat": 4,
 "nbformat_minor": 4
}
