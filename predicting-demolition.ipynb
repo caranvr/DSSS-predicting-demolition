{
 "cells": [
  {
   "cell_type": "code",
   "execution_count": 75,
   "metadata": {},
   "outputs": [],
   "source": [
    "import pandas as pd\n",
    "import numpy as np\n",
    "import geopandas as gpd\n",
    "from shapely.geometry import Point, MultiPoint\n",
    "from scipy.spatial import cKDTree\n",
    "import matplotlib.pyplot as plt\n",
    "import seaborn as sns\n",
    "import re\n",
    "\n",
    "from sklearn.preprocessing import StandardScaler\n",
    "from sklearn.decomposition import PCA\n",
    "from sklearn.model_selection import train_test_split\n",
    "from sklearn.ensemble import RandomForestClassifier\n",
    "from sklearn.linear_model import LogisticRegression\n",
    "from sklearn.metrics import confusion_matrix\n",
    "from sklearn.metrics import classification_report\n",
    "from sklearn import model_selection\n",
    "\n",
    "pd.options.display.float_format = '{:40,.4f}'.format\n",
    "plt.style.use('ggplot')\n",
    "%matplotlib inline"
   ]
  },
  {
   "cell_type": "markdown",
   "metadata": {},
   "source": [
    "# Predicting building demolition risk in Philadelphia's residential neighbourhoods, 2018-2021\n",
    "## Introduction\n",
    "\n",
    "Increasing demand for urban amenities in Philadelphia has put a growing proportion of the city’s buildings at risk of demolition. Between 2009 and 2019, the number of demolition permits issued to private developers increased by 255%, overtaking the number of City-mandated demolition permits — which target neglected structures — in 2018 (Briggs, 2019). Several of these permits have been issued for historic and cultural landmarks, enabled by Philadelphia’s lack of protection for historic buildings (Blumgart, 2019; Maule, 2019; Saffron, 2021). In addition, private demolitions are concentrated in gentrifying neighbourhoods (Blumgart, 2018), further reducing affordable housing stock and thus increasing the displacement risk of original residents (Charles, 2013). \n",
    "\n",
    "To protect Philadelphia’s historic fabric and affordable housing supply, planners and preservation advocates need to anticipate which buildings are likely to be demolished in the coming years. While building-level models of demolition risk have been developed for other cities (Weber et al., 2006; Dye and McMillen, 2007; Charles, 2012; Dubé et al., 2018), none have been developed for Philadelphia, which may have different determinants of demolition. In addition, these studies use logistic regression to model the probability of demolition, which are limited in their ability to take interactions between predictors into account. \n",
    "\n",
    "Using open property data from the City of Philadelphia and U.S. Census data, this report builds on these research gaps. A logistic regression model is constructed to identify possible determinants of demolition risk in the city, the performance of which is then compared to that of a Random Forest (RF) classification algorithm. The aims of this report are twofold: to explain potential factors of demolition risk in Philadelphia, and to identify which approach policymakers should take to predict building demolition risk. \n",
    "\n",
    "## Literature Review\n",
    "\n",
    "### Predictors of demolition risk\n",
    "\n",
    "Building demolition is a response to rent gaps: situations where the value of a property (plus the cost of its demolition) is worth less than the land on which it is located (Smith, 1979; Munneke, 1996). As such, the demolition risk for individual properties is linked to both characteristics of properties themselves and characteristics of their surrounding neighbourhoods. Building features associated with low property values and neighbourhood features associated with high or increasing property values increase the risk of building demolition (Weber et al., 2006; Dye and McMillen, 2007; Charles, 2012). Characteristics relevant to building features are listed in Table 1:"
   ]
  },
  {
   "cell_type": "code",
   "execution_count": 2,
   "metadata": {},
   "outputs": [],
   "source": [
    "#Table of building characteristics"
   ]
  },
  {
   "cell_type": "markdown",
   "metadata": {},
   "source": [
    "### Methods for modelling demolition risk\n",
    "\n",
    "Existing studies of building demolition risk in cities focus on _explaining_ the determinants of demolition risk rather than _predicting_ which buildings are at risk of demolition (Weber et al., 2006; Dye and McMillen, 2007; Charles, 2013). These studies thus employ logistic regression to model demolition risk, allowing researchers and policymakers to directly quantify the potential impacts of property and neighbourhood characteristics. While the interpretability of logistic regression models lends them explanatory utility, these models cannot fully account for the interactions between property and neighbourhood characteristics, possibly reducing their predictive power (Reades et al., 2018). \n",
    "\n",
    "Machine-learning classification approaches, such as the RF algorithm used in this study, offer a potential solution. RF algorithms construct multiple decision trees, each of which identifies a different chain of rules for classifying observations, based on combinations of features. The final classification of an observation is a majority “vote” by all trees. With the use of rules for classifying observations, a decision-tree method accounts for collinearity and interactions between variables, which Weber et al. (2006) suggested might exist among the determinants of demolition risk. Therefore, while RF classification may be less interpretable to policymakers, its predictive power may be higher. \n",
    "\n",
    "## Research Question\n",
    "\n",
    "**How can planners predict the demolition risk of individual buildings in Philadelphia?**\n"
   ]
  },
  {
   "cell_type": "markdown",
   "metadata": {},
   "source": [
    "## Presentation of Data\n",
    "### Data collection\n",
    "Data on demolitions, property-level, and neighbourhood-level characteristics was collected from various local and federal government sources. Given the large number of properties included in the dataset (over 500,000) and the number of features attached to each property (42), executing the code for data collection takes a considerable amount of time. This section therefore omits the full code, instead outlining the data collection process in detail. The code described in this section can be found in a separate notebook on [Github](https://github.com/caranvr/DSSS-predicting-demolition/blob/main/data-collection-code.ipynb).\n",
    "\n",
    "#### Demolitions\n",
    "\n",
    "The City of Philadelphia's Licenses and Inspections Department maintains a database of all demolition permits in the city issued since 2007. The addresses associated with private demolition permits from 2018-2021 were extracted, as public demolitions are more reflective of structural issues than consumer demand (Weber et al., 2006). \n",
    "\n",
    "#### Property characteristics\n",
    "\n",
    "The City of Philadelphia's Office of Property Assessments (OPA) maintains a regularly updated, georeferenced database of city properties, which contains building characteristics used to assess property tax rates. Due to the large size of the dataset, this database was accessed through an API call. Based on property characteristics found to predict demolition risk in previous studies, the following (non-identifying) features were selected:\n",
    "- **interior_condition**: a numeric code representing the quality of a property's interior. Properties are rated on a scale of 1 to 7, with 1 corresponding to new construction and 7 corresponding to \"structurally compromised\" (City of Philadelphia, 2021). A value of 0 indicates vacant land. \n",
    "- **exterior_condition**: a numeric code representing the property's external appearance, using the same scale as *interior_condition*. \n",
    "- **total_area**: the total area of the property.\n",
    "- **year_built**: the year the property was built.\n",
    "\n",
    "To match properties to Census tracts and find distances to relevant attractions, the latitude and longitude of each property were requested as well. In addition, **category_code_description** was selected, as Weber et al. (2006) only looked at single-family residential property demolition. Commercial, industrial, or multi-family residential properties may have different predictors of demolition risk. \n",
    "\n",
    "The most comprehensive property dataset is the most recent one. However, for 86.3% of properties with an associated demolition permit, the property assessment on file is from prior to demolition, or the building has not yet been demolished. The remaining properties have been re-assessed since their demolition and are now listed as vacant land. Since the model includes building characteristics, and these features are null for properties classed as 'Vacant Land', all properties in this category were dropped from the dataset. The remaining properties were matched against the demolition dataset to identify whether or not a demolition permit was attached to them after 2018. \n",
    "\n",
    "A separate OPA dataset was used to find each property's market value in 2018, then joined to the main properties dataset. \n",
    "\n",
    "#### Distance attributes\n",
    "\n",
    "In line with Ding and Hwang (2016), City Hall was used as a proxy for the city centre. The geopandas library was used to calculate the distance from each property to City Hall. \n",
    "\n",
    "Finding the distance from each property to its closest public transport stop was more involved, as there is no single shapefile of all public transport stops in the city. Therefore, shapefiles of commuter rail, subway, and trolley stops were downloaded and concatenated into one dataframe. This dataframe was then converted into a binary search tree using scipy's cKDTree method, which allowed for quick spatial querying.\n",
    "\n",
    "#### Neighbourhood attributes\n",
    "\n",
    "Due to data availability, neighbourhoods were defined as U.S. Census tracts, which have an average population of 4,000 residents (Weber et al., 2006; Oka and Wong, 2016). The U.S. Census American Community Survey (ACS) 2013-18 5-Year Estimates were used for 2018 demographic variables, while the Longitudinal Tract Database (LTDB) — which matches 2000 Census data to post-2010 Census tract boundaries (Logan et al., 2014) — was used for the same variables in 2000. \n",
    "\n",
    "For comparison to the LTDB variables, ACS columns related to higher education were summed. This was done during the data collection process to reduce the size of the full dataset. Properties were then spatially matched to Census tracts using the geopandas library. "
   ]
  },
  {
   "cell_type": "markdown",
   "metadata": {},
   "source": [
    "### Data cleaning"
   ]
  },
  {
   "cell_type": "code",
   "execution_count": 3,
   "metadata": {},
   "outputs": [],
   "source": [
    "#Load in processed dataset in chunks to save memory\n",
    "chunks = []\n",
    "chunked_df = pd.read_csv('geo_props_final.csv', chunksize=40000)\n",
    "\n",
    "for chunk in chunked_df:\n",
    "    chunks.append(chunk)\n",
    "\n",
    "df = pd.concat(chunks)"
   ]
  },
  {
   "cell_type": "code",
   "execution_count": 4,
   "metadata": {},
   "outputs": [
    {
     "data": {
      "text/html": [
       "<div>\n",
       "<style scoped>\n",
       "    .dataframe tbody tr th:only-of-type {\n",
       "        vertical-align: middle;\n",
       "    }\n",
       "\n",
       "    .dataframe tbody tr th {\n",
       "        vertical-align: top;\n",
       "    }\n",
       "\n",
       "    .dataframe thead th {\n",
       "        text-align: right;\n",
       "    }\n",
       "</style>\n",
       "<table border=\"1\" class=\"dataframe\">\n",
       "  <thead>\n",
       "    <tr style=\"text-align: right;\">\n",
       "      <th></th>\n",
       "      <th>lng</th>\n",
       "      <th>lat</th>\n",
       "      <th>location</th>\n",
       "      <th>category_code_description</th>\n",
       "      <th>interior_condition</th>\n",
       "      <th>exterior_condition</th>\n",
       "      <th>total_area</th>\n",
       "      <th>year_built</th>\n",
       "      <th>demolition</th>\n",
       "      <th>market_value</th>\n",
       "      <th>...</th>\n",
       "      <th>POP00</th>\n",
       "      <th>NHWHT00</th>\n",
       "      <th>NHBLK00</th>\n",
       "      <th>HISP00</th>\n",
       "      <th>HU00</th>\n",
       "      <th>OWN00</th>\n",
       "      <th>RENT00</th>\n",
       "      <th>AG25UP00</th>\n",
       "      <th>COL00</th>\n",
       "      <th>HINC00</th>\n",
       "    </tr>\n",
       "    <tr>\n",
       "      <th>parcel_number</th>\n",
       "      <th></th>\n",
       "      <th></th>\n",
       "      <th></th>\n",
       "      <th></th>\n",
       "      <th></th>\n",
       "      <th></th>\n",
       "      <th></th>\n",
       "      <th></th>\n",
       "      <th></th>\n",
       "      <th></th>\n",
       "      <th></th>\n",
       "      <th></th>\n",
       "      <th></th>\n",
       "      <th></th>\n",
       "      <th></th>\n",
       "      <th></th>\n",
       "      <th></th>\n",
       "      <th></th>\n",
       "      <th></th>\n",
       "      <th></th>\n",
       "      <th></th>\n",
       "    </tr>\n",
       "  </thead>\n",
       "  <tbody>\n",
       "    <tr>\n",
       "      <th>11001660</th>\n",
       "      <td>-75.148540</td>\n",
       "      <td>39.931445</td>\n",
       "      <td>222 WHARTON ST</td>\n",
       "      <td>Single Family</td>\n",
       "      <td>4.0</td>\n",
       "      <td>4.0</td>\n",
       "      <td>1622.70</td>\n",
       "      <td>1960</td>\n",
       "      <td>0</td>\n",
       "      <td>212700.0</td>\n",
       "      <td>...</td>\n",
       "      <td>3715.000108</td>\n",
       "      <td>1958.888794</td>\n",
       "      <td>809.169495</td>\n",
       "      <td>331.332611</td>\n",
       "      <td>1700.323242</td>\n",
       "      <td>808.19928</td>\n",
       "      <td>635.013733</td>\n",
       "      <td>2356.681885</td>\n",
       "      <td>317.74942</td>\n",
       "      <td>36532.250861</td>\n",
       "    </tr>\n",
       "    <tr>\n",
       "      <th>11001670</th>\n",
       "      <td>-75.148604</td>\n",
       "      <td>39.931452</td>\n",
       "      <td>224 WHARTON ST</td>\n",
       "      <td>Single Family</td>\n",
       "      <td>4.0</td>\n",
       "      <td>4.0</td>\n",
       "      <td>1624.50</td>\n",
       "      <td>1960</td>\n",
       "      <td>0</td>\n",
       "      <td>212800.0</td>\n",
       "      <td>...</td>\n",
       "      <td>3715.000108</td>\n",
       "      <td>1958.888794</td>\n",
       "      <td>809.169495</td>\n",
       "      <td>331.332611</td>\n",
       "      <td>1700.323242</td>\n",
       "      <td>808.19928</td>\n",
       "      <td>635.013733</td>\n",
       "      <td>2356.681885</td>\n",
       "      <td>317.74942</td>\n",
       "      <td>36532.250861</td>\n",
       "    </tr>\n",
       "    <tr>\n",
       "      <th>11001680</th>\n",
       "      <td>-75.148668</td>\n",
       "      <td>39.931463</td>\n",
       "      <td>226 WHARTON ST</td>\n",
       "      <td>Single Family</td>\n",
       "      <td>4.0</td>\n",
       "      <td>4.0</td>\n",
       "      <td>1627.20</td>\n",
       "      <td>1960</td>\n",
       "      <td>0</td>\n",
       "      <td>212800.0</td>\n",
       "      <td>...</td>\n",
       "      <td>3715.000108</td>\n",
       "      <td>1958.888794</td>\n",
       "      <td>809.169495</td>\n",
       "      <td>331.332611</td>\n",
       "      <td>1700.323242</td>\n",
       "      <td>808.19928</td>\n",
       "      <td>635.013733</td>\n",
       "      <td>2356.681885</td>\n",
       "      <td>317.74942</td>\n",
       "      <td>36532.250861</td>\n",
       "    </tr>\n",
       "    <tr>\n",
       "      <th>11001690</th>\n",
       "      <td>-75.148729</td>\n",
       "      <td>39.931470</td>\n",
       "      <td>228 WHARTON ST</td>\n",
       "      <td>Single Family</td>\n",
       "      <td>4.0</td>\n",
       "      <td>4.0</td>\n",
       "      <td>1683.90</td>\n",
       "      <td>1960</td>\n",
       "      <td>0</td>\n",
       "      <td>215000.0</td>\n",
       "      <td>...</td>\n",
       "      <td>3715.000108</td>\n",
       "      <td>1958.888794</td>\n",
       "      <td>809.169495</td>\n",
       "      <td>331.332611</td>\n",
       "      <td>1700.323242</td>\n",
       "      <td>808.19928</td>\n",
       "      <td>635.013733</td>\n",
       "      <td>2356.681885</td>\n",
       "      <td>317.74942</td>\n",
       "      <td>36532.250861</td>\n",
       "    </tr>\n",
       "    <tr>\n",
       "      <th>11003500</th>\n",
       "      <td>-75.147067</td>\n",
       "      <td>39.930988</td>\n",
       "      <td>108 SEARS ST</td>\n",
       "      <td>Single Family</td>\n",
       "      <td>4.0</td>\n",
       "      <td>4.0</td>\n",
       "      <td>426.56</td>\n",
       "      <td>1920</td>\n",
       "      <td>0</td>\n",
       "      <td>140800.0</td>\n",
       "      <td>...</td>\n",
       "      <td>3715.000108</td>\n",
       "      <td>1958.888794</td>\n",
       "      <td>809.169495</td>\n",
       "      <td>331.332611</td>\n",
       "      <td>1700.323242</td>\n",
       "      <td>808.19928</td>\n",
       "      <td>635.013733</td>\n",
       "      <td>2356.681885</td>\n",
       "      <td>317.74942</td>\n",
       "      <td>36532.250861</td>\n",
       "    </tr>\n",
       "  </tbody>\n",
       "</table>\n",
       "<p>5 rows × 36 columns</p>\n",
       "</div>"
      ],
      "text/plain": [
       "                     lng        lat        location category_code_description  \\\n",
       "parcel_number                                                                   \n",
       "11001660      -75.148540  39.931445  222 WHARTON ST             Single Family   \n",
       "11001670      -75.148604  39.931452  224 WHARTON ST             Single Family   \n",
       "11001680      -75.148668  39.931463  226 WHARTON ST             Single Family   \n",
       "11001690      -75.148729  39.931470  228 WHARTON ST             Single Family   \n",
       "11003500      -75.147067  39.930988    108 SEARS ST             Single Family   \n",
       "\n",
       "               interior_condition  exterior_condition  total_area  year_built  \\\n",
       "parcel_number                                                                   \n",
       "11001660                      4.0                 4.0     1622.70        1960   \n",
       "11001670                      4.0                 4.0     1624.50        1960   \n",
       "11001680                      4.0                 4.0     1627.20        1960   \n",
       "11001690                      4.0                 4.0     1683.90        1960   \n",
       "11003500                      4.0                 4.0      426.56        1920   \n",
       "\n",
       "               demolition  market_value  ...        POP00      NHWHT00  \\\n",
       "parcel_number                            ...                             \n",
       "11001660                0      212700.0  ...  3715.000108  1958.888794   \n",
       "11001670                0      212800.0  ...  3715.000108  1958.888794   \n",
       "11001680                0      212800.0  ...  3715.000108  1958.888794   \n",
       "11001690                0      215000.0  ...  3715.000108  1958.888794   \n",
       "11003500                0      140800.0  ...  3715.000108  1958.888794   \n",
       "\n",
       "                  NHBLK00      HISP00         HU00      OWN00      RENT00  \\\n",
       "parcel_number                                                               \n",
       "11001660       809.169495  331.332611  1700.323242  808.19928  635.013733   \n",
       "11001670       809.169495  331.332611  1700.323242  808.19928  635.013733   \n",
       "11001680       809.169495  331.332611  1700.323242  808.19928  635.013733   \n",
       "11001690       809.169495  331.332611  1700.323242  808.19928  635.013733   \n",
       "11003500       809.169495  331.332611  1700.323242  808.19928  635.013733   \n",
       "\n",
       "                  AG25UP00      COL00        HINC00  \n",
       "parcel_number                                        \n",
       "11001660       2356.681885  317.74942  36532.250861  \n",
       "11001670       2356.681885  317.74942  36532.250861  \n",
       "11001680       2356.681885  317.74942  36532.250861  \n",
       "11001690       2356.681885  317.74942  36532.250861  \n",
       "11003500       2356.681885  317.74942  36532.250861  \n",
       "\n",
       "[5 rows x 36 columns]"
      ]
     },
     "execution_count": 4,
     "metadata": {},
     "output_type": "execute_result"
    }
   ],
   "source": [
    "df.set_index('parcel_number', inplace=True)\n",
    "df.head()"
   ]
  },
  {
   "cell_type": "code",
   "execution_count": 5,
   "metadata": {},
   "outputs": [
    {
     "name": "stdout",
     "output_type": "stream",
     "text": [
      "<class 'pandas.core.frame.DataFrame'>\n",
      "Int64Index: 534304 entries, 11001660 to 882150800\n",
      "Data columns (total 36 columns):\n",
      " #   Column                     Non-Null Count   Dtype  \n",
      "---  ------                     --------------   -----  \n",
      " 0   lng                        534304 non-null  float64\n",
      " 1   lat                        534304 non-null  float64\n",
      " 2   location                   534304 non-null  object \n",
      " 3   category_code_description  534304 non-null  object \n",
      " 4   interior_condition         533936 non-null  float64\n",
      " 5   exterior_condition         534253 non-null  float64\n",
      " 6   total_area                 534304 non-null  float64\n",
      " 7   year_built                 534304 non-null  int64  \n",
      " 8   demolition                 534304 non-null  int64  \n",
      " 9   market_value               532712 non-null  float64\n",
      " 10  geometry                   534304 non-null  object \n",
      " 11  dist_city_hall             534304 non-null  float64\n",
      " 12  dist_to_transport          534304 non-null  float64\n",
      " 13  index_right                534304 non-null  int64  \n",
      " 14  TRACTCE10                  534304 non-null  int64  \n",
      " 15  NAME10                     534304 non-null  float64\n",
      " 16  B01001_001E                534304 non-null  int64  \n",
      " 17  B03002_003E                534304 non-null  int64  \n",
      " 18  B03002_004E                534304 non-null  int64  \n",
      " 19  B03001_003E                534304 non-null  int64  \n",
      " 20  B25003_001E                534304 non-null  int64  \n",
      " 21  B25003_002E                534304 non-null  int64  \n",
      " 22  B25003_003E                534304 non-null  int64  \n",
      " 23  B15002_001E                534304 non-null  int64  \n",
      " 24  B19013_001E                534233 non-null  float64\n",
      " 25  COL18                      534304 non-null  int64  \n",
      " 26  POP00                      534304 non-null  float64\n",
      " 27  NHWHT00                    534304 non-null  float64\n",
      " 28  NHBLK00                    534304 non-null  float64\n",
      " 29  HISP00                     534304 non-null  float64\n",
      " 30  HU00                       534304 non-null  float64\n",
      " 31  OWN00                      534304 non-null  float64\n",
      " 32  RENT00                     534304 non-null  float64\n",
      " 33  AG25UP00                   534304 non-null  float64\n",
      " 34  COL00                      534304 non-null  float64\n",
      " 35  HINC00                     534304 non-null  float64\n",
      "dtypes: float64(20), int64(13), object(3)\n",
      "memory usage: 150.8+ MB\n"
     ]
    }
   ],
   "source": [
    "df.info()"
   ]
  },
  {
   "cell_type": "markdown",
   "metadata": {},
   "source": [
    "Columns from the 2013-18 ACS were renamed for easier interpretation."
   ]
  },
  {
   "cell_type": "code",
   "execution_count": 6,
   "metadata": {},
   "outputs": [],
   "source": [
    "df.rename(columns={\n",
    "    'B01001_001E': 'POP18',\n",
    "    'B03002_003E': 'NHWHT18',\n",
    "    'B03002_004E': 'NHBLK18',\n",
    "    'B03001_003E': 'HISP18',\n",
    "    'B25003_001E': 'HU18',\n",
    "    'B25003_002E': 'OWN18',\n",
    "    'B25003_003E': 'RENT18',\n",
    "    'B15002_001E': 'AG25UP18',\n",
    "    'B19013_001E': 'HINC18'\n",
    "}, inplace=True)"
   ]
  },
  {
   "cell_type": "markdown",
   "metadata": {},
   "source": [
    "Features that are on an ordinal scale were converted to category data types for later one-hot encoding. "
   ]
  },
  {
   "cell_type": "code",
   "execution_count": 7,
   "metadata": {},
   "outputs": [],
   "source": [
    "cat_cols = ['category_code_description', 'interior_condition', 'exterior_condition']\n",
    "\n",
    "for c in cat_cols:\n",
    "    if c == 'category_code_description':\n",
    "        df[c] = df[c].astype('category')\n",
    "    else:\n",
    "        df[c] = df[c].astype(pd.UInt16Dtype()).astype('category')"
   ]
  },
  {
   "cell_type": "markdown",
   "metadata": {},
   "source": [
    "Columns were then inspected for null values, which are not accepted in the classification methods used for this analysis."
   ]
  },
  {
   "cell_type": "code",
   "execution_count": 8,
   "metadata": {},
   "outputs": [
    {
     "data": {
      "text/html": [
       "<div>\n",
       "<style scoped>\n",
       "    .dataframe tbody tr th:only-of-type {\n",
       "        vertical-align: middle;\n",
       "    }\n",
       "\n",
       "    .dataframe tbody tr th {\n",
       "        vertical-align: top;\n",
       "    }\n",
       "\n",
       "    .dataframe thead th {\n",
       "        text-align: right;\n",
       "    }\n",
       "</style>\n",
       "<table border=\"1\" class=\"dataframe\">\n",
       "  <thead>\n",
       "    <tr style=\"text-align: right;\">\n",
       "      <th></th>\n",
       "      <th>Total</th>\n",
       "      <th>Percent</th>\n",
       "    </tr>\n",
       "  </thead>\n",
       "  <tbody>\n",
       "    <tr>\n",
       "      <th>market_value</th>\n",
       "      <td>1592</td>\n",
       "      <td>0.297958</td>\n",
       "    </tr>\n",
       "    <tr>\n",
       "      <th>interior_condition</th>\n",
       "      <td>368</td>\n",
       "      <td>0.068875</td>\n",
       "    </tr>\n",
       "    <tr>\n",
       "      <th>HINC18</th>\n",
       "      <td>71</td>\n",
       "      <td>0.013288</td>\n",
       "    </tr>\n",
       "    <tr>\n",
       "      <th>exterior_condition</th>\n",
       "      <td>51</td>\n",
       "      <td>0.009545</td>\n",
       "    </tr>\n",
       "    <tr>\n",
       "      <th>HINC00</th>\n",
       "      <td>0</td>\n",
       "      <td>0.000000</td>\n",
       "    </tr>\n",
       "  </tbody>\n",
       "</table>\n",
       "</div>"
      ],
      "text/plain": [
       "                    Total   Percent\n",
       "market_value         1592  0.297958\n",
       "interior_condition    368  0.068875\n",
       "HINC18                 71  0.013288\n",
       "exterior_condition     51  0.009545\n",
       "HINC00                  0  0.000000"
      ]
     },
     "execution_count": 8,
     "metadata": {},
     "output_type": "execute_result"
    }
   ],
   "source": [
    "#Check for columns where most values are null\n",
    "total = df.isnull().sum().sort_values(ascending=False)\n",
    "percent = ((df.isnull().sum()/df.isnull().count())*100).sort_values(ascending=False)\n",
    "missing_data = pd.concat([total, percent], axis=1, keys=['Total', 'Percent'])\n",
    "missing_data[:5]"
   ]
  },
  {
   "cell_type": "markdown",
   "metadata": {},
   "source": [
    "Only four columns have missing data, and the percentage of rows in each column with missing values is small. Missing values can therefore be dropped or imputed without a significant impact on model bias.\n",
    "\n",
    "Given that interior_condition and exterior_condition are ordinal scales, the only option for imputing missing values in these columns is mode imputation. Mode imputation for these features may be inaccurate for individual properties, even if modal values from the same Census tract rather than the whole city were used, as buildings can vary significantly even within neighbourhoods. Thus, properties with missing values for these columns were dropped."
   ]
  },
  {
   "cell_type": "code",
   "execution_count": 9,
   "metadata": {},
   "outputs": [
    {
     "name": "stdout",
     "output_type": "stream",
     "text": [
      "370 properties will be dropped\n"
     ]
    }
   ],
   "source": [
    "missing_bldgs = df.loc[\n",
    "    (df['interior_condition'].isnull()) |\n",
    "    (df['exterior_condition'].isnull())\n",
    "]\n",
    "\n",
    "print(f'{missing_bldgs.shape[0]} properties will be dropped')"
   ]
  },
  {
   "cell_type": "code",
   "execution_count": 10,
   "metadata": {},
   "outputs": [],
   "source": [
    "df.drop(index=missing_bldgs.index, inplace=True)"
   ]
  },
  {
   "cell_type": "markdown",
   "metadata": {},
   "source": [
    "The 2018 market value of an individual property _is_ related to the market value of neighbouring properties. Therefore, null values could be imputed with the median value of properties in the same Census tract. However, market value is also a function of property-level characteristics, which would not be taken into consideration during imputation. Properties with missing market values were thus dropped."
   ]
  },
  {
   "cell_type": "code",
   "execution_count": 11,
   "metadata": {},
   "outputs": [
    {
     "name": "stdout",
     "output_type": "stream",
     "text": [
      "1523 properties will be dropped\n"
     ]
    }
   ],
   "source": [
    "missing_values = df.loc[\n",
    "    df['market_value'].isnull()\n",
    "]\n",
    "\n",
    "print(f'{missing_values.shape[0]} properties will be dropped')"
   ]
  },
  {
   "cell_type": "code",
   "execution_count": 12,
   "metadata": {},
   "outputs": [],
   "source": [
    "df.drop(index=missing_values.index, inplace=True)"
   ]
  },
  {
   "cell_type": "markdown",
   "metadata": {},
   "source": [
    "The properties missing a Census tract median income for 2018 were all in one of two Census tracts, meaning that two Census tracts were missing 2013-18 median income data:"
   ]
  },
  {
   "cell_type": "code",
   "execution_count": 13,
   "metadata": {},
   "outputs": [
    {
     "data": {
      "text/html": [
       "<div>\n",
       "<style scoped>\n",
       "    .dataframe tbody tr th:only-of-type {\n",
       "        vertical-align: middle;\n",
       "    }\n",
       "\n",
       "    .dataframe tbody tr th {\n",
       "        vertical-align: top;\n",
       "    }\n",
       "\n",
       "    .dataframe thead th {\n",
       "        text-align: right;\n",
       "    }\n",
       "</style>\n",
       "<table border=\"1\" class=\"dataframe\">\n",
       "  <thead>\n",
       "    <tr style=\"text-align: right;\">\n",
       "      <th></th>\n",
       "      <th>Missing values</th>\n",
       "    </tr>\n",
       "    <tr>\n",
       "      <th>TRACTCE10</th>\n",
       "      <th></th>\n",
       "    </tr>\n",
       "  </thead>\n",
       "  <tbody>\n",
       "    <tr>\n",
       "      <th>989100</th>\n",
       "      <td>39</td>\n",
       "    </tr>\n",
       "    <tr>\n",
       "      <th>980100</th>\n",
       "      <td>32</td>\n",
       "    </tr>\n",
       "  </tbody>\n",
       "</table>\n",
       "</div>"
      ],
      "text/plain": [
       "           Missing values\n",
       "TRACTCE10                \n",
       "989100                 39\n",
       "980100                 32"
      ]
     },
     "execution_count": 13,
     "metadata": {},
     "output_type": "execute_result"
    }
   ],
   "source": [
    "pd.DataFrame(df.loc[\n",
    "    df['HINC18'].isnull()\n",
    "].groupby('TRACTCE10').size().sort_values(ascending=False)).rename(columns={0: 'Missing values'})"
   ]
  },
  {
   "cell_type": "markdown",
   "metadata": {},
   "source": [
    "Given that only 71 properties were affected and in two Census tracts, missing values were imputed with the median income in Philadelphia. "
   ]
  },
  {
   "cell_type": "code",
   "execution_count": 14,
   "metadata": {},
   "outputs": [],
   "source": [
    "df['HINC18'] = df['HINC18'].fillna(df['HINC18'].median())"
   ]
  },
  {
   "cell_type": "markdown",
   "metadata": {},
   "source": [
    "The dataset was then checked for invalid values in the 'year_built' column. Properties with a value of 0 in this column were dropped.    "
   ]
  },
  {
   "cell_type": "code",
   "execution_count": 15,
   "metadata": {},
   "outputs": [
    {
     "name": "stdout",
     "output_type": "stream",
     "text": [
      "1731 properties will be dropped\n"
     ]
    }
   ],
   "source": [
    "missing_years = df.loc[\n",
    "    df['year_built'] == 0\n",
    "]\n",
    "\n",
    "print(f'{missing_years.shape[0]} properties will be dropped')"
   ]
  },
  {
   "cell_type": "code",
   "execution_count": 16,
   "metadata": {},
   "outputs": [],
   "source": [
    "df.drop(index=missing_years.index, inplace=True)"
   ]
  },
  {
   "cell_type": "markdown",
   "metadata": {},
   "source": [
    "Lastly, columns that represent total populations and housing units for Census tracts were checked for zeroes, as counts of population grorups and housing unit types were later converted to percentages. Total counts of zero would result in null values, so properties in these Census tracts had to be dropped. "
   ]
  },
  {
   "cell_type": "code",
   "execution_count": 17,
   "metadata": {},
   "outputs": [
    {
     "name": "stdout",
     "output_type": "stream",
     "text": [
      "38 properties will be dropped\n"
     ]
    }
   ],
   "source": [
    "zero_totals = df.loc[\n",
    "    (df['HU00'] == 0) |\n",
    "    (df['HU18'] == 0) |\n",
    "    (df['POP00'] == 0) |\n",
    "    (df['POP18'] == 0)\n",
    "]\n",
    "\n",
    "print(f'{zero_totals.shape[0]} properties will be dropped')"
   ]
  },
  {
   "cell_type": "code",
   "execution_count": 18,
   "metadata": {},
   "outputs": [],
   "source": [
    "df.drop(index=zero_totals.index, inplace=True)"
   ]
  },
  {
   "cell_type": "code",
   "execution_count": 19,
   "metadata": {},
   "outputs": [
    {
     "data": {
      "text/plain": [
       "(530642, 36)"
      ]
     },
     "execution_count": 19,
     "metadata": {},
     "output_type": "execute_result"
    }
   ],
   "source": [
    "df.shape"
   ]
  },
  {
   "cell_type": "markdown",
   "metadata": {},
   "source": [
    "#### Feature transformation\n",
    "\n",
    "For comparability between Census tracts, raw counts of residents or households in each demographic group were converted to percentages of a total, either of residents or housing units. (In line with U.S. Census practices, the number of residents with a Bachelor's degree or above was calculated as the proportion of residents _over 25_ with a Bachelor's degree or above.) "
   ]
  },
  {
   "cell_type": "code",
   "execution_count": 20,
   "metadata": {},
   "outputs": [],
   "source": [
    "#Convert selected features to percentages\n",
    "def convert_to_pc(df, cols, denominator):\n",
    "    for c in cols:\n",
    "        df[c] = (df[c]/df[denominator])*100\n",
    "    return df\n",
    "\n",
    "pc_cols = {\n",
    "    'POP00': ['NHWHT00', 'NHBLK00', 'HISP00'], #key is denominator, value is list of columns to divide by denominator\n",
    "    'HU00': ['OWN00', 'RENT00'],\n",
    "    'AG25UP00': ['COL00'],\n",
    "    'POP18': ['NHWHT18', 'NHBLK18', 'HISP18'],\n",
    "    'HU18': ['OWN18', 'RENT18'],\n",
    "    'AG25UP18': ['COL18']\n",
    "}\n",
    "\n",
    "for k,v in pc_cols.items():\n",
    "    df = convert_to_pc(df,v,k)"
   ]
  },
  {
   "cell_type": "markdown",
   "metadata": {},
   "source": [
    "To measure change in neighbourhood characteristics, columns corresponding to 2000 were converted to the percentage point difference (for percentage columns) or percentage change (for total columns) in tract values from 2000 to 2018."
   ]
  },
  {
   "cell_type": "code",
   "execution_count": 21,
   "metadata": {},
   "outputs": [],
   "source": [
    "#Convert 2000 columns to percentage change from 2000-2018\n",
    "\n",
    "#Lookup for fields encoding percentage point difference from 2000 to 2018\n",
    "pc_diff = {\n",
    "    'NHWHT18': 'NHWHT00',\n",
    "    'NHBLK18': 'NHBLK00',\n",
    "    'HISP18': 'HISP00',\n",
    "    'OWN18': 'OWN00',\n",
    "    'RENT18': 'RENT00',\n",
    "    'COL18': 'COL00'\n",
    "}\n",
    "\n",
    "#Lookup for fields encoding percentage point change from 2000 to 2018 (counts)\n",
    "pc_change = {\n",
    "    'POP18': 'POP00', #total population\n",
    "    'HU18': 'HU00', #total housing units\n",
    "    'AG25UP18': 'AG25UP00', #25+ population\n",
    "    'HINC18': 'HINC00' #median household income\n",
    "}\n",
    "\n",
    "#Replace 2000 columns with the percentage change or difference from 2000 to 2018\n",
    "for k,v in pc_diff.items():\n",
    "    df[v] = df[k] - df[v]\n",
    "\n",
    "for k,v in pc_change.items():\n",
    "    df[v] = ((df[k] - df[v])/df[v])*100"
   ]
  },
  {
   "cell_type": "markdown",
   "metadata": {},
   "source": [
    "For interpretability purposes, the 'year_built' column was converted so that it would represent the age of a building in 2018."
   ]
  },
  {
   "cell_type": "code",
   "execution_count": 22,
   "metadata": {},
   "outputs": [],
   "source": [
    "df['year_built'] = 2018 - df['year_built']"
   ]
  },
  {
   "cell_type": "markdown",
   "metadata": {},
   "source": [
    "Finally, to enable classification, categorical features were converted into dummy variables. "
   ]
  },
  {
   "cell_type": "code",
   "execution_count": 23,
   "metadata": {},
   "outputs": [],
   "source": [
    "id_cols = ['lng', 'lat', 'geometry', 'location', 'index_right', 'TRACTCE10', 'NAME10']\n",
    "var_cols = [c for c in df.columns.values if c not in id_cols]\n",
    "\n",
    "df_var = df[var_cols].copy()\n",
    "df_var = pd.get_dummies(df_var)"
   ]
  },
  {
   "cell_type": "markdown",
   "metadata": {},
   "source": [
    "### Exploratory data analysis"
   ]
  },
  {
   "cell_type": "markdown",
   "metadata": {},
   "source": [
    "\n",
    "To determine which classification approach would be appropriate, the class balance of the dataset — the proportion of properties with an associated demolition permit — was examined."
   ]
  },
  {
   "cell_type": "code",
   "execution_count": 24,
   "metadata": {},
   "outputs": [
    {
     "data": {
      "text/plain": [
       "demolition\n",
       "0    529786\n",
       "1       856\n",
       "dtype: int64"
      ]
     },
     "execution_count": 24,
     "metadata": {},
     "output_type": "execute_result"
    }
   ],
   "source": [
    "df_var.groupby('demolition').size()"
   ]
  },
  {
   "cell_type": "markdown",
   "metadata": {},
   "source": [
    "The vast majority (99.84%) of properties in Philadelphia did not have an associated demolition permit from after 2018, a heavy imbalance that would lead to poor classification of demolitions. Common approaches to such an imbalance include undersampling the majority class or oversampling the minority class (Ruiz-Gazen and Villa, 2008). However, artificially balancing the dataset can lead to suboptimal model performance on real-world, class-imbalanceed data. \n",
    "\n",
    "Thus, to balance out the dataset, only properties in Census tracts with high demolition rates were included in the analysis. This way, the algorithm would be trained on neighbourhoods that face higher overall demolition risk — where predictive analytics would be most useful — but the class balance would even out slightly. For simplicity, the upper quartile of demolition counts per tract was calculated, and properties in Census tracts with demolition counts above this cutoff were included."
   ]
  },
  {
   "cell_type": "code",
   "execution_count": 25,
   "metadata": {},
   "outputs": [],
   "source": [
    "#Going back to original df with identifiers\n",
    "df.rename(columns={'index_right': 'census_tract'}, inplace=True)\n",
    "demolitions_by_tract = pd.DataFrame(df.groupby(['census_tract', 'demolition']).size()).rename(columns={0: 'Properties'})"
   ]
  },
  {
   "cell_type": "code",
   "execution_count": 32,
   "metadata": {},
   "outputs": [
    {
     "data": {
      "text/html": [
       "<div>\n",
       "<style scoped>\n",
       "    .dataframe tbody tr th:only-of-type {\n",
       "        vertical-align: middle;\n",
       "    }\n",
       "\n",
       "    .dataframe tbody tr th {\n",
       "        vertical-align: top;\n",
       "    }\n",
       "\n",
       "    .dataframe thead th {\n",
       "        text-align: right;\n",
       "    }\n",
       "</style>\n",
       "<table border=\"1\" class=\"dataframe\">\n",
       "  <thead>\n",
       "    <tr style=\"text-align: right;\">\n",
       "      <th></th>\n",
       "      <th>Demolitions</th>\n",
       "    </tr>\n",
       "  </thead>\n",
       "  <tbody>\n",
       "    <tr>\n",
       "      <th>count</th>\n",
       "      <td>198.000000</td>\n",
       "    </tr>\n",
       "    <tr>\n",
       "      <th>mean</th>\n",
       "      <td>4.323232</td>\n",
       "    </tr>\n",
       "    <tr>\n",
       "      <th>std</th>\n",
       "      <td>5.325598</td>\n",
       "    </tr>\n",
       "    <tr>\n",
       "      <th>min</th>\n",
       "      <td>1.000000</td>\n",
       "    </tr>\n",
       "    <tr>\n",
       "      <th>25%</th>\n",
       "      <td>1.000000</td>\n",
       "    </tr>\n",
       "    <tr>\n",
       "      <th>50%</th>\n",
       "      <td>2.000000</td>\n",
       "    </tr>\n",
       "    <tr>\n",
       "      <th>75%</th>\n",
       "      <td>6.000000</td>\n",
       "    </tr>\n",
       "    <tr>\n",
       "      <th>max</th>\n",
       "      <td>29.000000</td>\n",
       "    </tr>\n",
       "  </tbody>\n",
       "</table>\n",
       "</div>"
      ],
      "text/plain": [
       "       Demolitions\n",
       "count   198.000000\n",
       "mean      4.323232\n",
       "std       5.325598\n",
       "min       1.000000\n",
       "25%       1.000000\n",
       "50%       2.000000\n",
       "75%       6.000000\n",
       "max      29.000000"
      ]
     },
     "execution_count": 32,
     "metadata": {},
     "output_type": "execute_result"
    }
   ],
   "source": [
    "demolitions_by_tract.xs(1, level='demolition').describe().rename(columns={'Properties': 'Demolitions'})"
   ]
  },
  {
   "cell_type": "code",
   "execution_count": 33,
   "metadata": {},
   "outputs": [],
   "source": [
    "#Find tracts with high numbers of demolitions\n",
    "high_dem_tracts = demolitions_by_tract.xs(1, level='demolition').loc[\n",
    "    demolitions_by_tract.xs(1, level='demolition')['Properties'] >= 6\n",
    "].index.values\n",
    "\n",
    "#Isolate df_var to only parcels in high-demolition tracts\n",
    "high_dem_parcels = df.loc[df['census_tract'].isin(high_dem_tracts)].index\n",
    "\n",
    "df_var = df_var.loc[high_dem_parcels]"
   ]
  },
  {
   "cell_type": "code",
   "execution_count": 34,
   "metadata": {},
   "outputs": [
    {
     "data": {
      "text/plain": [
       "(71820, 47)"
      ]
     },
     "execution_count": 34,
     "metadata": {},
     "output_type": "execute_result"
    }
   ],
   "source": [
    "df_var.shape"
   ]
  },
  {
   "cell_type": "code",
   "execution_count": 35,
   "metadata": {},
   "outputs": [
    {
     "data": {
      "text/plain": [
       "demolition\n",
       "0    71233\n",
       "1      587\n",
       "dtype: int64"
      ]
     },
     "execution_count": 35,
     "metadata": {},
     "output_type": "execute_result"
    }
   ],
   "source": [
    "df_var.groupby('demolition').size()"
   ]
  },
  {
   "cell_type": "markdown",
   "metadata": {},
   "source": [
    "A slightly higher proportion of properties in the filtered dataset have associated demolition permits than in the full dataset (0.8% vs. 0.16%). However, the class imbalance is still extreme, and therefore still needs to be accounted for in the classification process.\n",
    "\n",
    "### Summary statistics"
   ]
  },
  {
   "cell_type": "markdown",
   "metadata": {},
   "source": [
    "A basic logistic regression model could not include all predictors; as shown in Figure 1, there is a high degree of multicollinearity between features, especially between neighbourhood characteristics. "
   ]
  },
  {
   "cell_type": "code",
   "execution_count": 43,
   "metadata": {},
   "outputs": [
    {
     "data": {
      "text/plain": [
       "Text(0.5, 1.0, 'Correlation Heatmap')"
      ]
     },
     "execution_count": 43,
     "metadata": {},
     "output_type": "execute_result"
    },
    {
     "data": {
      "image/png": "[encoded data removed]",
      "text/plain": [
       "<Figure size 720x720 with 2 Axes>"
      ]
     },
     "metadata": {
      "needs_background": "light"
     },
     "output_type": "display_data"
    }
   ],
   "source": [
    "#Correlation matrix\n",
    "plt.figure(figsize=(10,10))\n",
    "heatmap = sns.heatmap(df_var.corr(), vmin=-1, vmax=1)\n",
    "# Give a title to the heatmap. Pad defines the distance of the title from the top of the heatmap.\n",
    "heatmap.set_title('Correlation Heatmap', fontdict={'fontsize':12}, pad=12)"
   ]
  },
  {
   "cell_type": "code",
   "execution_count": 50,
   "metadata": {},
   "outputs": [
    {
     "data": {
      "text/plain": [
       "<AxesSubplot:ylabel='Frequency'>"
      ]
     },
     "execution_count": 50,
     "metadata": {},
     "output_type": "execute_result"
    },
    {
     "data": {
      "image/png": "[encoded data removed]",
      "text/plain": [
       "<Figure size 432x288 with 1 Axes>"
      ]
     },
     "metadata": {
      "needs_background": "light"
     },
     "output_type": "display_data"
    }
   ],
   "source": [
    "#Histograms of continuous variables\n",
    "df_var['COL00'].plot.hist(bins=10)"
   ]
  },
  {
   "cell_type": "markdown",
   "metadata": {},
   "source": [
    "## Methodology\n",
    "\n",
    "A PCR model and an RF model were constructed, then compared on how well they predicted demolition. To aid in model estimation and validation, the dataset was split into predictors and labels. "
   ]
  },
  {
   "cell_type": "code",
   "execution_count": 52,
   "metadata": {},
   "outputs": [],
   "source": [
    "X = df_var.drop(columns='demolition')\n",
    "Y = df_var['demolition']"
   ]
  },
  {
   "cell_type": "markdown",
   "metadata": {},
   "source": [
    "### Principal component logistic regression\n",
    "\n",
    "To account for multicollinearity between features while preserving the information they contain, continuous features were transformed into principal components, which were then used as inputs to a logistic regression model to predict demolition. "
   ]
  },
  {
   "cell_type": "code",
   "execution_count": 72,
   "metadata": {},
   "outputs": [
    {
     "name": "stdout",
     "output_type": "stream",
     "text": [
      "Explained variance ratio of each component:\n",
      "[3.67731928e-01 1.50796852e-01 9.06477302e-02 6.93822307e-02\n",
      " 5.06952909e-02 4.59218610e-02 3.95184309e-02 3.49644438e-02\n",
      " 3.24263354e-02 2.90656709e-02 2.49347026e-02 1.88385676e-02\n",
      " 1.69177963e-02 7.96014891e-03 5.31484988e-03 4.52636084e-03\n",
      " 3.21588467e-03 2.09632974e-03 1.83978007e-03 1.41203009e-03\n",
      " 8.28375834e-04 4.82619658e-04 2.88780380e-04 1.92999318e-04\n",
      " 1.11470081e-31]\n"
     ]
    }
   ],
   "source": [
    "#Isolate continous variables\n",
    "categoricals = [c for c in X.columns.values if re.search('category_code_description|interior_condition|exterior_condition', c)]\n",
    "X_pc = X.drop(columns=categoricals).values\n",
    "\n",
    "#Rescale continuous variables\n",
    "X_pc = StandardScaler().fit_transform(X_pc)\n",
    "\n",
    "#Find components\n",
    "pca = PCA(random_state=51)\n",
    "# fit the components\n",
    "X_new_components = pca.fit_transform(X_pc)\n",
    "print('Explained variance ratio of each component:')\n",
    "print(pca.explained_variance_ratio_)"
   ]
  },
  {
   "cell_type": "code",
   "execution_count": 76,
   "metadata": {},
   "outputs": [
    {
     "data": {
      "text/plain": [
       "<AxesSubplot:xlabel='PC'>"
      ]
     },
     "execution_count": 76,
     "metadata": {},
     "output_type": "execute_result"
    },
    {
     "data": {
      "image/png": "[encoded data removed]",
      "text/plain": [
       "<Figure size 432x288 with 1 Axes>"
      ]
     },
     "metadata": {
      "needs_background": "light"
     },
     "output_type": "display_data"
    }
   ],
   "source": [
    "pca_df = pd.DataFrame({'eigenvalue':pca.explained_variance_, 'PC':list(range(1, pca.n_components_ + 1))})\n",
    "pca_df.plot.line(x = 'PC', y = 'eigenvalue')"
   ]
  },
  {
   "cell_type": "markdown",
   "metadata": {},
   "source": [
    "The eigenvalue of each principal component indicates how much variance the component explains. To find the correct number of principal components to use in the regression model, the 'knee' in the scree plot above was chosen: in this case, five components were retained."
   ]
  },
  {
   "cell_type": "code",
   "execution_count": 77,
   "metadata": {},
   "outputs": [],
   "source": [
    "#Extract five components\n",
    "X_pc_results = X_pc[:,[0,1,2,3,4]]"
   ]
  },
  {
   "cell_type": "markdown",
   "metadata": {},
   "source": [
    "Then, to avoid the dummy variable trap, one level was dropped from each categorical variable."
   ]
  },
  {
   "cell_type": "code",
   "execution_count": 27,
   "metadata": {},
   "outputs": [
    {
     "data": {
      "text/plain": [
       "Index(['total_area', 'year_built', 'market_value', 'dist_city_hall',\n",
       "       'dist_to_transport', 'POP18', 'NHWHT18', 'NHBLK18', 'HISP18', 'HU18',\n",
       "       'OWN18', 'RENT18', 'AG25UP18', 'HINC18', 'COL18', 'POP00', 'NHWHT00',\n",
       "       'NHBLK00', 'HISP00', 'HU00', 'OWN00', 'RENT00', 'AG25UP00', 'COL00',\n",
       "       'HINC00', 'category_code_description_Commercial',\n",
       "       'category_code_description_Industrial',\n",
       "       'category_code_description_Mixed Use',\n",
       "       'category_code_description_Multi Family',\n",
       "       'category_code_description_Single Family', 'interior_condition_0',\n",
       "       'interior_condition_1', 'interior_condition_2', 'interior_condition_3',\n",
       "       'interior_condition_4', 'interior_condition_5', 'interior_condition_6',\n",
       "       'interior_condition_7', 'exterior_condition_0', 'exterior_condition_1',\n",
       "       'exterior_condition_2', 'exterior_condition_3', 'exterior_condition_4',\n",
       "       'exterior_condition_5', 'exterior_condition_6', 'exterior_condition_7'],\n",
       "      dtype='object')"
      ]
     },
     "execution_count": 27,
     "metadata": {},
     "output_type": "execute_result"
    }
   ],
   "source": [
    "#Drop one level for each dummy variable\n"
   ]
  },
  {
   "cell_type": "code",
   "execution_count": null,
   "metadata": {},
   "outputs": [],
   "source": [
    "X_train, X_test, Y_train, Y_test = train_test_split(X_test, Y_test, random_state=51)"
   ]
  },
  {
   "cell_type": "code",
   "execution_count": 33,
   "metadata": {},
   "outputs": [],
   "source": [
    "X_dev, X_test, Y_dev, Y_test = train_test_split(X_test, Y_test, test_size=0.5, random_state=51)"
   ]
  },
  {
   "cell_type": "code",
   "execution_count": 35,
   "metadata": {},
   "outputs": [
    {
     "name": "stdout",
     "output_type": "stream",
     "text": [
      "9.42 s ± 1.14 s per loop (mean ± std. dev. of 7 runs, 1 loop each)\n"
     ]
    }
   ],
   "source": [
    "tree = DecisionTreeClassifier()\n",
    "%timeit tree.fit(X_train, Y_train)"
   ]
  },
  {
   "cell_type": "code",
   "execution_count": 36,
   "metadata": {},
   "outputs": [
    {
     "data": {
      "text/plain": [
       "0.9969395908398788"
      ]
     },
     "execution_count": 36,
     "metadata": {},
     "output_type": "execute_result"
    }
   ],
   "source": [
    "tree.score(X_test, Y_test)"
   ]
  },
  {
   "cell_type": "code",
   "execution_count": 37,
   "metadata": {},
   "outputs": [],
   "source": [
    "dt_pred = tree.predict(X_test)"
   ]
  },
  {
   "cell_type": "code",
   "execution_count": 49,
   "metadata": {},
   "outputs": [
    {
     "name": "stdout",
     "output_type": "stream",
     "text": [
      "              precision    recall  f1-score   support\n",
      "\n",
      "           0       1.00      1.00      1.00     66227\n",
      "           1       0.08      0.09      0.08       104\n",
      "\n",
      "    accuracy                           1.00     66331\n",
      "   macro avg       0.54      0.54      0.54     66331\n",
      "weighted avg       1.00      1.00      1.00     66331\n",
      "\n"
     ]
    }
   ],
   "source": [
    "print(classification_report(Y_test, dt_pred))"
   ]
  },
  {
   "cell_type": "code",
   "execution_count": 47,
   "metadata": {},
   "outputs": [
    {
     "data": {
      "text/plain": [
       "array([[66119,   108],\n",
       "       [   95,     9]])"
      ]
     },
     "execution_count": 47,
     "metadata": {},
     "output_type": "execute_result"
    }
   ],
   "source": [
    "confusion_matrix(Y_test, dt_pred)"
   ]
  },
  {
   "cell_type": "markdown",
   "metadata": {},
   "source": [
    "### Random Forest classifier"
   ]
  },
  {
   "cell_type": "code",
   "execution_count": 50,
   "metadata": {},
   "outputs": [],
   "source": [
    "# number of trees to tune\n",
    "no_trees = [10,20,30,40,50,70,100,150,200]\n",
    "\n",
    "# process of tune the number of trees\n",
    "max_score = 0\n",
    "best_no_trees = None\n",
    "for t in no_trees:\n",
    "    m = RandomForestClassifier(n_estimators=t, class_weight='balanced').fit(X_train, Y_train)\n",
    "    score = m.score(X_dev, Y_dev)\n",
    "    if score > max_score:\n",
    "        max_score = score\n",
    "        best_no_trees = t"
   ]
  },
  {
   "cell_type": "code",
   "execution_count": 51,
   "metadata": {},
   "outputs": [
    {
     "data": {
      "text/plain": [
       "0.9981607115935475"
      ]
     },
     "execution_count": 51,
     "metadata": {},
     "output_type": "execute_result"
    }
   ],
   "source": [
    "max_score"
   ]
  },
  {
   "cell_type": "code",
   "execution_count": 52,
   "metadata": {},
   "outputs": [
    {
     "data": {
      "text/plain": [
       "70"
      ]
     },
     "execution_count": 52,
     "metadata": {},
     "output_type": "execute_result"
    }
   ],
   "source": [
    "best_no_trees"
   ]
  },
  {
   "cell_type": "code",
   "execution_count": 53,
   "metadata": {},
   "outputs": [
    {
     "data": {
      "text/plain": [
       "RandomForestClassifier(class_weight='balanced', n_estimators=70)"
      ]
     },
     "execution_count": 53,
     "metadata": {},
     "output_type": "execute_result"
    }
   ],
   "source": [
    "rf=RandomForestClassifier(n_estimators=best_no_trees, class_weight='balanced')\n",
    "rf.fit(X_train, Y_train)"
   ]
  },
  {
   "cell_type": "code",
   "execution_count": 54,
   "metadata": {},
   "outputs": [
    {
     "data": {
      "text/plain": [
       "0.9984019538375721"
      ]
     },
     "execution_count": 54,
     "metadata": {},
     "output_type": "execute_result"
    }
   ],
   "source": [
    "rf.score(X_test, Y_test)"
   ]
  },
  {
   "cell_type": "code",
   "execution_count": 55,
   "metadata": {},
   "outputs": [],
   "source": [
    "rf_pred = rf.predict(X_test)"
   ]
  },
  {
   "cell_type": "code",
   "execution_count": 56,
   "metadata": {},
   "outputs": [
    {
     "name": "stdout",
     "output_type": "stream",
     "text": [
      "              precision    recall  f1-score   support\n",
      "\n",
      "           0       1.00      1.00      1.00     66227\n",
      "           1       0.33      0.02      0.04       104\n",
      "\n",
      "    accuracy                           1.00     66331\n",
      "   macro avg       0.67      0.51      0.52     66331\n",
      "weighted avg       1.00      1.00      1.00     66331\n",
      "\n"
     ]
    }
   ],
   "source": [
    "print(classification_report(Y_test, rf_pred))"
   ]
  },
  {
   "cell_type": "code",
   "execution_count": 27,
   "metadata": {},
   "outputs": [],
   "source": [
    "#Write function to tune hyperparameters for each classifier with GridSearchCV\n",
    "def tune_hyperparameters(parameters, classifier, X, Y):\n",
    "    '''parameters: a dictionary with the parameter to be tuned and the values to test\n",
    "       classifier: the classifier method to tune\n",
    "       X: training set of predictors\n",
    "       Y: training set of dependent variables'''\n",
    "    \n",
    "    clf = model_selection.GridSearchCV(classifier, parameters, n_jobs=-1)\n",
    "\n",
    "    clf.fit(X, Y)\n",
    "\n",
    "    print (\"The best parameter value is: \")\n",
    "    print (clf.best_params_)\n",
    "    print (\"The best score is: \")\n",
    "    print (clf.best_score_)"
   ]
  },
  {
   "cell_type": "code",
   "execution_count": null,
   "metadata": {},
   "outputs": [],
   "source": [
    "#Tune hyperparameters using GridSearchCV"
   ]
  },
  {
   "cell_type": "code",
   "execution_count": null,
   "metadata": {},
   "outputs": [],
   "source": [
    "#Fit classifier"
   ]
  },
  {
   "cell_type": "markdown",
   "metadata": {},
   "source": [
    "## Results and Discussion"
   ]
  },
  {
   "cell_type": "code",
   "execution_count": null,
   "metadata": {},
   "outputs": [],
   "source": [
    "#Metrics for each classifier (table)"
   ]
  },
  {
   "cell_type": "code",
   "execution_count": null,
   "metadata": {},
   "outputs": [],
   "source": [
    "#Confusion matrix for each classifier (figure)"
   ]
  },
  {
   "cell_type": "code",
   "execution_count": null,
   "metadata": {},
   "outputs": [],
   "source": [
    "#Map of false positives for each classifier"
   ]
  },
  {
   "cell_type": "code",
   "execution_count": null,
   "metadata": {},
   "outputs": [],
   "source": [
    "#Map of false negatives for each classifier"
   ]
  },
  {
   "cell_type": "markdown",
   "metadata": {},
   "source": [
    "## Conclusion"
   ]
  },
  {
   "cell_type": "markdown",
   "metadata": {},
   "source": [
    "## References"
   ]
  },
  {
   "cell_type": "code",
   "execution_count": null,
   "metadata": {},
   "outputs": [],
   "source": []
  }
 ],
 "metadata": {
  "kernelspec": {
   "display_name": "Python 3",
   "language": "python",
   "name": "python3"
  },
  "language_info": {
   "codemirror_mode": {
    "name": "ipython",
    "version": 3
   },
   "file_extension": ".py",
   "mimetype": "text/x-python",
   "name": "python",
   "nbconvert_exporter": "python",
   "pygments_lexer": "ipython3",
   "version": "3.7.8"
  }
 },
 "nbformat": 4,
 "nbformat_minor": 4
}
