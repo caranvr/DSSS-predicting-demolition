{
 "cells": [
  {
   "cell_type": "code",
   "execution_count": 2,
   "metadata": {},
   "outputs": [],
   "source": [
    "import pandas as pd\n",
    "import numpy as np\n",
    "import geopandas as gpd\n",
    "from shapely.geometry import Point, MultiPoint\n",
    "from scipy.spatial import cKDTree\n",
    "import matplotlib.pyplot as plt\n",
    "\n",
    "from sklearn.preprocessing import LabelEncoder\n",
    "from sklearn.feature_extraction import DictVectorizer\n",
    "from sklearn.model_selection import train_test_split\n",
    "from sklearn.ensemble import RandomForestClassifier\n",
    "from sklearn import model_selection"
   ]
  },
  {
   "cell_type": "markdown",
   "metadata": {},
   "source": [
    "# Predicting building demolition risk in Philadelphia's residential neighbourhoods, 2018-2021"
   ]
  },
  {
   "cell_type": "markdown",
   "metadata": {},
   "source": [
    "## Introduction and Literature Review\n",
    "\n",
    "### Predictors of demolition risk\n",
    "\n",
    "Proximity to the city centre or to public transport stops increases a property's risk of demolition (Weber et al., 2006). \n",
    "\n",
    "Both a neighbourhood's _status_ at the start of the period for analysis (in this case, 2018) and its prior _change_ are predictive of a property's demolition risk (Weber et al., 2006). \n"
   ]
  },
  {
   "cell_type": "markdown",
   "metadata": {},
   "source": [
    "## Presentation of Data\n",
    "### Data collection\n",
    "Data on demolitions, property-level, and neighbourhood-level characteristics was collected from various local and federal government sources. Given the large number of properties included in the dataset (over 500,000) and the number of features attached to each property (42), executing the code for data collection takes a considerable amount of time. This section therefore omits the full code, instead outlining the data collection process in detail. The code described in this section can be found in a separate notebook on [Github](https://github.com/caranvr/DSSS-predicting-demolition/blob/main/data-collection-code.ipynb).\n",
    "\n",
    "#### Demolitions\n",
    "\n",
    "The City of Philadelphia's Licenses and Inspections Department maintains a database of all demolition permits in the city issued since 2007. The addresses associated with private demolition permits from 2018-2021 were extracted, as public demolitions are more reflective of structural issues than consumer demand (Weber et al., 2006). \n",
    "\n",
    "#### Property characteristics\n",
    "\n",
    "The City of Philadelphia's Office of Property Assessments (OPA) maintains a regularly updated, georeferenced database of city properties, which contains building characteristics used to assess property tax rates. Due to the large size of the dataset, this database was accessed through an API call. Based on property characteristics found by Weber et al. (2006) to predict demolition risk, the following (non-identifying) features were selected:\n",
    "- **interior_condition**: a numeric code representing the quality of a property's interior. Properties are rated on a scale of 2 to 7, with 2 corresponding to \"noticeably new construction\" and 7 corresponding to \"structurally compromised\" (City of Philadelphia, 2021). A value of 0 indicates vacant land. \n",
    "- **exterior_condition**: a numeric code representing the property's external appearance, using the same scale as *interior_condition*. \n",
    "- **total_area**: the total area of the property.\n",
    "- **year_built**: the year the property was built.\n",
    "\n",
    "To match properties to Census tracts and find distances to relevant attractions, the latitude and longitude of each property were requested as well. In addition, **category_code_description** was selected, as Weber et al. (2006) only looked at single-family residential property demolition. Commercial, industrial, or multi-family residential properties may have different predictors of demolition risk. \n",
    "\n",
    "The most comprehensive property dataset is the most recent one. However, for 86.3% of properties with an associated demolition permit, the property assessment on file is from prior to demolition, or the building has not yet been demolished. The remaining properties have been re-assessed since their demolition and are now listed as vacant land. Since the model includes building characteristics, and these features are null for properties classed as 'Vacant Land', all properties in this category were dropped from the dataset. The remaining properties were matched against the demolition dataset to identify whether or not a demolition permit was attached to them after 2018. \n",
    "\n",
    "A separate OPA dataset was used to find each property's market value in 2018, then joined to the main properties dataset. \n",
    "\n",
    "#### Distance attributes\n",
    "\n",
    "In line with Ding and Hwang (2016), City Hall was used as a proxy for the city centre. The geopandas library was used to calculate the distance from each property to City Hall. \n",
    "\n",
    "Finding the distance from each property to its closest public transport stop was more involved, as there is no single shapefile of all public transport stops in the city. Therefore, shapefiles of commuter rail, subway, and trolley stops were downloaded and concatenated into one dataframe. This dataframe was then converted into a binary search tree using scipy's cKDTree method, which allowed for quick spatial querying.\n",
    "\n",
    "#### Neighbourhood attributes\n",
    "\n",
    "For the purposes of this analysis, neighbourhoods were defined as U.S. Census tracts, which have an average population of 4,000 residents (Oka and Wong, 2016). For status variables, \n"
   ]
  },
  {
   "cell_type": "markdown",
   "metadata": {},
   "source": [
    "#### Neighbourhood attributes"
   ]
  },
  {
   "cell_type": "markdown",
   "metadata": {},
   "source": [
    "### Data cleaning"
   ]
  },
  {
   "cell_type": "code",
   "execution_count": 3,
   "metadata": {},
   "outputs": [],
   "source": [
    "#Load in processed dataset\n",
    "chunks = []\n",
    "chunked_df = pd.read_csv('geo_properties_full.csv', chunksize=40000)\n",
    "\n",
    "for chunk in chunked_df:\n",
    "    chunks.append(chunk)\n",
    "\n",
    "df = pd.concat(chunks)"
   ]
  },
  {
   "cell_type": "code",
   "execution_count": 6,
   "metadata": {},
   "outputs": [
    {
     "data": {
      "text/html": [
       "<div>\n",
       "<style scoped>\n",
       "    .dataframe tbody tr th:only-of-type {\n",
       "        vertical-align: middle;\n",
       "    }\n",
       "\n",
       "    .dataframe tbody tr th {\n",
       "        vertical-align: top;\n",
       "    }\n",
       "\n",
       "    .dataframe thead th {\n",
       "        text-align: right;\n",
       "    }\n",
       "</style>\n",
       "<table border=\"1\" class=\"dataframe\">\n",
       "  <thead>\n",
       "    <tr style=\"text-align: right;\">\n",
       "      <th></th>\n",
       "      <th>parcel_number</th>\n",
       "      <th>lng</th>\n",
       "      <th>lat</th>\n",
       "      <th>location</th>\n",
       "      <th>category_code_description</th>\n",
       "      <th>interior_condition</th>\n",
       "      <th>exterior_condition</th>\n",
       "      <th>total_area</th>\n",
       "      <th>year_built</th>\n",
       "      <th>demolition</th>\n",
       "      <th>...</th>\n",
       "      <th>POP00</th>\n",
       "      <th>NHWHT00</th>\n",
       "      <th>NHBLK00</th>\n",
       "      <th>HISP00</th>\n",
       "      <th>HU00</th>\n",
       "      <th>OWN00</th>\n",
       "      <th>RENT00</th>\n",
       "      <th>AG25UP00</th>\n",
       "      <th>COL00</th>\n",
       "      <th>HINC00</th>\n",
       "    </tr>\n",
       "  </thead>\n",
       "  <tbody>\n",
       "    <tr>\n",
       "      <th>0</th>\n",
       "      <td>11000600</td>\n",
       "      <td>-75.146866</td>\n",
       "      <td>39.931278</td>\n",
       "      <td>108 WHARTON ST</td>\n",
       "      <td>Single Family</td>\n",
       "      <td>5.0</td>\n",
       "      <td>5.0</td>\n",
       "      <td>779.0</td>\n",
       "      <td>1920</td>\n",
       "      <td>0</td>\n",
       "      <td>...</td>\n",
       "      <td>23.553159</td>\n",
       "      <td>31.344902</td>\n",
       "      <td>-19.275697</td>\n",
       "      <td>-0.944922</td>\n",
       "      <td>11.214148</td>\n",
       "      <td>23.594292</td>\n",
       "      <td>-8.473036</td>\n",
       "      <td>57.000401</td>\n",
       "      <td>38.637068</td>\n",
       "      <td>80.777254</td>\n",
       "    </tr>\n",
       "    <tr>\n",
       "      <th>1</th>\n",
       "      <td>11000700</td>\n",
       "      <td>-75.146921</td>\n",
       "      <td>39.931286</td>\n",
       "      <td>110 WHARTON ST</td>\n",
       "      <td>Single Family</td>\n",
       "      <td>2.0</td>\n",
       "      <td>2.0</td>\n",
       "      <td>779.1</td>\n",
       "      <td>1920</td>\n",
       "      <td>0</td>\n",
       "      <td>...</td>\n",
       "      <td>23.553159</td>\n",
       "      <td>31.344902</td>\n",
       "      <td>-19.275697</td>\n",
       "      <td>-0.944922</td>\n",
       "      <td>11.214148</td>\n",
       "      <td>23.594292</td>\n",
       "      <td>-8.473036</td>\n",
       "      <td>57.000401</td>\n",
       "      <td>38.637068</td>\n",
       "      <td>80.777254</td>\n",
       "    </tr>\n",
       "    <tr>\n",
       "      <th>2</th>\n",
       "      <td>11000800</td>\n",
       "      <td>-75.146971</td>\n",
       "      <td>39.931292</td>\n",
       "      <td>112 WHARTON ST</td>\n",
       "      <td>Single Family</td>\n",
       "      <td>4.0</td>\n",
       "      <td>4.0</td>\n",
       "      <td>725.2</td>\n",
       "      <td>1920</td>\n",
       "      <td>0</td>\n",
       "      <td>...</td>\n",
       "      <td>23.553159</td>\n",
       "      <td>31.344902</td>\n",
       "      <td>-19.275697</td>\n",
       "      <td>-0.944922</td>\n",
       "      <td>11.214148</td>\n",
       "      <td>23.594292</td>\n",
       "      <td>-8.473036</td>\n",
       "      <td>57.000401</td>\n",
       "      <td>38.637068</td>\n",
       "      <td>80.777254</td>\n",
       "    </tr>\n",
       "    <tr>\n",
       "      <th>3</th>\n",
       "      <td>11000900</td>\n",
       "      <td>-75.147034</td>\n",
       "      <td>39.931230</td>\n",
       "      <td>114 WHARTON ST</td>\n",
       "      <td>Single Family</td>\n",
       "      <td>4.0</td>\n",
       "      <td>4.0</td>\n",
       "      <td>1433.0</td>\n",
       "      <td>1920</td>\n",
       "      <td>0</td>\n",
       "      <td>...</td>\n",
       "      <td>23.553159</td>\n",
       "      <td>31.344902</td>\n",
       "      <td>-19.275697</td>\n",
       "      <td>-0.944922</td>\n",
       "      <td>11.214148</td>\n",
       "      <td>23.594292</td>\n",
       "      <td>-8.473036</td>\n",
       "      <td>57.000401</td>\n",
       "      <td>38.637068</td>\n",
       "      <td>80.777254</td>\n",
       "    </tr>\n",
       "    <tr>\n",
       "      <th>4</th>\n",
       "      <td>11001000</td>\n",
       "      <td>-75.147087</td>\n",
       "      <td>39.931236</td>\n",
       "      <td>116 WHARTON ST</td>\n",
       "      <td>Single Family</td>\n",
       "      <td>4.0</td>\n",
       "      <td>4.0</td>\n",
       "      <td>1500.0</td>\n",
       "      <td>1920</td>\n",
       "      <td>0</td>\n",
       "      <td>...</td>\n",
       "      <td>23.553159</td>\n",
       "      <td>31.344902</td>\n",
       "      <td>-19.275697</td>\n",
       "      <td>-0.944922</td>\n",
       "      <td>11.214148</td>\n",
       "      <td>23.594292</td>\n",
       "      <td>-8.473036</td>\n",
       "      <td>57.000401</td>\n",
       "      <td>38.637068</td>\n",
       "      <td>80.777254</td>\n",
       "    </tr>\n",
       "  </tbody>\n",
       "</table>\n",
       "<p>5 rows × 42 columns</p>\n",
       "</div>"
      ],
      "text/plain": [
       "   parcel_number        lng        lat        location  \\\n",
       "0       11000600 -75.146866  39.931278  108 WHARTON ST   \n",
       "1       11000700 -75.146921  39.931286  110 WHARTON ST   \n",
       "2       11000800 -75.146971  39.931292  112 WHARTON ST   \n",
       "3       11000900 -75.147034  39.931230  114 WHARTON ST   \n",
       "4       11001000 -75.147087  39.931236  116 WHARTON ST   \n",
       "\n",
       "  category_code_description  interior_condition  exterior_condition  \\\n",
       "0             Single Family                 5.0                 5.0   \n",
       "1             Single Family                 2.0                 2.0   \n",
       "2             Single Family                 4.0                 4.0   \n",
       "3             Single Family                 4.0                 4.0   \n",
       "4             Single Family                 4.0                 4.0   \n",
       "\n",
       "   total_area  year_built  demolition  ...      POP00    NHWHT00    NHBLK00  \\\n",
       "0       779.0        1920           0  ...  23.553159  31.344902 -19.275697   \n",
       "1       779.1        1920           0  ...  23.553159  31.344902 -19.275697   \n",
       "2       725.2        1920           0  ...  23.553159  31.344902 -19.275697   \n",
       "3      1433.0        1920           0  ...  23.553159  31.344902 -19.275697   \n",
       "4      1500.0        1920           0  ...  23.553159  31.344902 -19.275697   \n",
       "\n",
       "     HISP00       HU00      OWN00    RENT00   AG25UP00      COL00     HINC00  \n",
       "0 -0.944922  11.214148  23.594292 -8.473036  57.000401  38.637068  80.777254  \n",
       "1 -0.944922  11.214148  23.594292 -8.473036  57.000401  38.637068  80.777254  \n",
       "2 -0.944922  11.214148  23.594292 -8.473036  57.000401  38.637068  80.777254  \n",
       "3 -0.944922  11.214148  23.594292 -8.473036  57.000401  38.637068  80.777254  \n",
       "4 -0.944922  11.214148  23.594292 -8.473036  57.000401  38.637068  80.777254  \n",
       "\n",
       "[5 rows x 42 columns]"
      ]
     },
     "execution_count": 6,
     "metadata": {},
     "output_type": "execute_result"
    }
   ],
   "source": [
    "df.head()"
   ]
  },
  {
   "cell_type": "code",
   "execution_count": 8,
   "metadata": {},
   "outputs": [
    {
     "data": {
      "text/plain": [
       "77085    91.304687\n",
       "77396    91.304687\n",
       "77398    91.304687\n",
       "77399    91.304687\n",
       "77400    91.304687\n",
       "           ...    \n",
       "69754     0.383896\n",
       "69753     0.383896\n",
       "69752     0.383896\n",
       "69751     0.383896\n",
       "69481     0.383896\n",
       "Name: COL00, Length: 535734, dtype: float64"
      ]
     },
     "execution_count": 8,
     "metadata": {},
     "output_type": "execute_result"
    }
   ],
   "source": [
    "#"
   ]
  },
  {
   "cell_type": "code",
   "execution_count": 13,
   "metadata": {},
   "outputs": [
    {
     "data": {
      "text/html": [
       "<div>\n",
       "<style scoped>\n",
       "    .dataframe tbody tr th:only-of-type {\n",
       "        vertical-align: middle;\n",
       "    }\n",
       "\n",
       "    .dataframe tbody tr th {\n",
       "        vertical-align: top;\n",
       "    }\n",
       "\n",
       "    .dataframe thead th {\n",
       "        text-align: right;\n",
       "    }\n",
       "</style>\n",
       "<table border=\"1\" class=\"dataframe\">\n",
       "  <thead>\n",
       "    <tr style=\"text-align: right;\">\n",
       "      <th></th>\n",
       "      <th>COL18</th>\n",
       "      <th>COL00</th>\n",
       "      <th>location</th>\n",
       "    </tr>\n",
       "  </thead>\n",
       "  <tbody>\n",
       "    <tr>\n",
       "      <th>77085</th>\n",
       "      <td>93.481595</td>\n",
       "      <td>91.304687</td>\n",
       "      <td>2018-32 WALNUT ST</td>\n",
       "    </tr>\n",
       "    <tr>\n",
       "      <th>77396</th>\n",
       "      <td>93.481595</td>\n",
       "      <td>91.304687</td>\n",
       "      <td>1806-18 RITTENHOUSE SQ</td>\n",
       "    </tr>\n",
       "    <tr>\n",
       "      <th>77398</th>\n",
       "      <td>93.481595</td>\n",
       "      <td>91.304687</td>\n",
       "      <td>1806-18 RITTENHOUSE SQ</td>\n",
       "    </tr>\n",
       "    <tr>\n",
       "      <th>77399</th>\n",
       "      <td>93.481595</td>\n",
       "      <td>91.304687</td>\n",
       "      <td>1806-18 RITTENHOUSE SQ</td>\n",
       "    </tr>\n",
       "    <tr>\n",
       "      <th>77400</th>\n",
       "      <td>93.481595</td>\n",
       "      <td>91.304687</td>\n",
       "      <td>1806-18 RITTENHOUSE SQ</td>\n",
       "    </tr>\n",
       "  </tbody>\n",
       "</table>\n",
       "</div>"
      ],
      "text/plain": [
       "           COL18      COL00                location\n",
       "77085  93.481595  91.304687       2018-32 WALNUT ST\n",
       "77396  93.481595  91.304687  1806-18 RITTENHOUSE SQ\n",
       "77398  93.481595  91.304687  1806-18 RITTENHOUSE SQ\n",
       "77399  93.481595  91.304687  1806-18 RITTENHOUSE SQ\n",
       "77400  93.481595  91.304687  1806-18 RITTENHOUSE SQ"
      ]
     },
     "execution_count": 13,
     "metadata": {},
     "output_type": "execute_result"
    }
   ],
   "source": [
    "df.loc[[77085, 77396, 77398, 77399, 77400],['COL18', 'COL00', 'location']]"
   ]
  },
  {
   "cell_type": "code",
   "execution_count": null,
   "metadata": {},
   "outputs": [],
   "source": [
    "#Check for columns where most values are null, then drop"
   ]
  },
  {
   "cell_type": "code",
   "execution_count": null,
   "metadata": {},
   "outputs": [],
   "source": [
    "#Inspect columns for invalid values"
   ]
  },
  {
   "cell_type": "code",
   "execution_count": null,
   "metadata": {},
   "outputs": [],
   "source": [
    "#Convert 2000 columns to percentage change from 2000-2018\n",
    "\n",
    "#Lookup for fields encoding percentage point difference from 2000 to 2018\n",
    "pc_diff = {\n",
    "    'B03002_003E': 'NHWHT00',\n",
    "    'B03002_004E': 'NHBLK00',\n",
    "    'B03001_003E': 'HISP00',\n",
    "    'B25003_002E': 'OWN00',\n",
    "    'B25003_003E': 'RENT00',\n",
    "    'COL18': 'COL00'\n",
    "}\n",
    "\n",
    "#Lookup for fields encoding percentage point change from 2000 to 2018 (counts)\n",
    "pc_change = {\n",
    "    'B01001_001E': 'POP00', #total population\n",
    "    'B25003_001E': 'HU00', #total housing units\n",
    "    'B15002_001E': 'AG25UP00', #25+ population\n",
    "    'B19013_001E': 'HINC00' #median household income\n",
    "}\n",
    "\n",
    "#Replace 2000 columns with the percentage change or difference from 2000 to 2018\n",
    "for k,v in pc_diff.items():\n",
    "    df[v] = df[k] - df[v]\n",
    "\n",
    "for k,v in pc_change.items():\n",
    "    df[v] = ((df[k] - df[v])/df[v])*100"
   ]
  },
  {
   "cell_type": "code",
   "execution_count": null,
   "metadata": {},
   "outputs": [],
   "source": [
    "#Check rows where most values are null, then drop"
   ]
  },
  {
   "cell_type": "code",
   "execution_count": null,
   "metadata": {},
   "outputs": [],
   "source": [
    "#Convert categorical features into dummies using sklearn DictVectorizer"
   ]
  },
  {
   "cell_type": "markdown",
   "metadata": {},
   "source": [
    "### Summary statistics"
   ]
  },
  {
   "cell_type": "code",
   "execution_count": null,
   "metadata": {},
   "outputs": [],
   "source": [
    "#Correlation matrix"
   ]
  },
  {
   "cell_type": "code",
   "execution_count": null,
   "metadata": {},
   "outputs": [],
   "source": [
    "#Histograms of continuous variables"
   ]
  },
  {
   "cell_type": "markdown",
   "metadata": {},
   "source": [
    "## Methodology"
   ]
  },
  {
   "cell_type": "code",
   "execution_count": null,
   "metadata": {},
   "outputs": [],
   "source": [
    "#Write function to tune hyperparameters for each classifier with GridSearchCV"
   ]
  },
  {
   "cell_type": "markdown",
   "metadata": {},
   "source": [
    "### Random Forest classifier"
   ]
  },
  {
   "cell_type": "code",
   "execution_count": null,
   "metadata": {},
   "outputs": [],
   "source": [
    "#Tune hyperparameters using GridSearchCV"
   ]
  },
  {
   "cell_type": "markdown",
   "metadata": {},
   "source": [
    "### k-Nearest Neighbours classifier"
   ]
  },
  {
   "cell_type": "code",
   "execution_count": null,
   "metadata": {},
   "outputs": [],
   "source": [
    "#Tune hyperparameters using GridSearchCV"
   ]
  },
  {
   "cell_type": "markdown",
   "metadata": {},
   "source": [
    "## Results and Discussion"
   ]
  },
  {
   "cell_type": "code",
   "execution_count": null,
   "metadata": {},
   "outputs": [],
   "source": [
    "#Metrics for each classifier (table)"
   ]
  },
  {
   "cell_type": "code",
   "execution_count": null,
   "metadata": {},
   "outputs": [],
   "source": [
    "#Confusion matrix for each classifier (figure)"
   ]
  },
  {
   "cell_type": "code",
   "execution_count": null,
   "metadata": {},
   "outputs": [],
   "source": [
    "#Map of false positives for each classifier"
   ]
  },
  {
   "cell_type": "code",
   "execution_count": null,
   "metadata": {},
   "outputs": [],
   "source": [
    "#Map of false negatives for each classifier"
   ]
  },
  {
   "cell_type": "markdown",
   "metadata": {},
   "source": [
    "## Conclusion"
   ]
  },
  {
   "cell_type": "markdown",
   "metadata": {},
   "source": [
    "## References"
   ]
  },
  {
   "cell_type": "code",
   "execution_count": null,
   "metadata": {},
   "outputs": [],
   "source": []
  }
 ],
 "metadata": {
  "kernelspec": {
   "display_name": "Python 3",
   "language": "python",
   "name": "python3"
  },
  "language_info": {
   "codemirror_mode": {
    "name": "ipython",
    "version": 3
   },
   "file_extension": ".py",
   "mimetype": "text/x-python",
   "name": "python",
   "nbconvert_exporter": "python",
   "pygments_lexer": "ipython3",
   "version": "3.7.8"
  }
 },
 "nbformat": 4,
 "nbformat_minor": 4
}
